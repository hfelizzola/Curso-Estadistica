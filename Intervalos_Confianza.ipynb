{
  "cells": [
    {
      "cell_type": "markdown",
      "metadata": {
        "id": "view-in-github",
        "colab_type": "text"
      },
      "source": [
        "<a href=\"https://colab.research.google.com/github/hfelizzola/Curso-Estadistica/blob/main/Intervalos_Confianza.ipynb\" target=\"_parent\"><img src=\"https://colab.research.google.com/assets/colab-badge.svg\" alt=\"Open In Colab\"/></a>"
      ]
    },
    {
      "cell_type": "markdown",
      "id": "c0eb558e-82c2-41d3-ba0c-05069631a4e2",
      "metadata": {
        "id": "c0eb558e-82c2-41d3-ba0c-05069631a4e2"
      },
      "source": [
        "# Intervalos de confianza y pruebas de hipótesis"
      ]
    },
    {
      "cell_type": "code",
      "execution_count": 1,
      "id": "5dc8df0f-1b3a-4a23-9a7a-2fa8a6fbde17",
      "metadata": {
        "id": "5dc8df0f-1b3a-4a23-9a7a-2fa8a6fbde17"
      },
      "outputs": [],
      "source": [
        "import numpy as np\n",
        "import scipy.stats as stats\n",
        "import pandas as pd\n",
        "import matplotlib.pyplot as plt"
      ]
    },
    {
      "cell_type": "markdown",
      "id": "cd53b2a6-66eb-439a-b108-6c268dde22c2",
      "metadata": {
        "id": "cd53b2a6-66eb-439a-b108-6c268dde22c2"
      },
      "source": [
        "## Intervalos de confianza para medias"
      ]
    },
    {
      "cell_type": "markdown",
      "id": "f2e39dcd-8632-45a4-932c-d132c00cb000",
      "metadata": {
        "id": "f2e39dcd-8632-45a4-932c-d132c00cb000"
      },
      "source": [
        "- Un ingeniero de producción esta interesado en controlar el tiempo promedio $(\\mu)$ de una operación de corte en el proceso de fabricación de mesas de madera.\n",
        "\n",
        "- Suponga que en la tabla se tienen todos los tiempo de las operaciones (universo) en una rango de hora en particular.\n",
        "- $\\mu$ (tiempo promedio) y $\\sigma$ (desviación estándar) son los parámetros del universo que nos interesa estimar.\n",
        "- Para esto cada hora toma muestra de $n=5$ operaciones y registra la media muestral.\n",
        "- ¿Seleccione 5 valores aleatoriamente y calcule la media y desviación muestral? ¿Qué observa?\n",
        "- Suponga que se sabe del universo: \n",
        "    - $\\mu = 15 \\text{ min}$\n",
        "    - $\\sigma = 2.1 \\text{ min}$"
      ]
    },
    {
      "cell_type": "code",
      "execution_count": 2,
      "id": "e3671642-51f5-4798-9fb5-8ec5762daab5",
      "metadata": {
        "colab": {
          "base_uri": "https://localhost:8080/"
        },
        "id": "e3671642-51f5-4798-9fb5-8ec5762daab5",
        "outputId": "3c0e7928-d343-4ade-e58f-1c60217f5b17"
      },
      "outputs": [
        {
          "output_type": "execute_result",
          "data": {
            "text/plain": [
              "array([14.6, 18. , 15.6, 16.6, 13.7])"
            ]
          },
          "metadata": {},
          "execution_count": 2
        }
      ],
      "source": [
        "tiempo = np.array([14.6, 18, 15.6, 16.6, 13.7])\n",
        "tiempo"
      ]
    },
    {
      "cell_type": "markdown",
      "id": "05a18837-8d29-496d-a6fc-885735dd98c6",
      "metadata": {
        "id": "05a18837-8d29-496d-a6fc-885735dd98c6"
      },
      "source": [
        "Este código de Python calcula un intervalo de confianza para la media de una población normal, utilizando la distribución normal estándar. `stats.norm.interval(confidence=0.95, loc=media, scale=desv_est/np.sqrt(n))` utiliza la función interval de la biblioteca `scipy.stats.norm` para calcular el intervalo de confianza del 95% para la media poblacional. Los parámetros son:\n",
        "\n",
        "- `confidence=0.95`: indica el nivel de confianza deseado, en este caso del 95%.\n",
        "- `loc=media`: indica la media muestral calculada anteriormente.\n",
        "- `scale=desv_est/np.sqrt(n)`: indica el error estándar de la media, que se calcula dividiendo la desviación estándar de la muestra por la raíz cuadrada del tamaño de la muestra."
      ]
    },
    {
      "cell_type": "code",
      "execution_count": 3,
      "id": "9cd6a24a-c8fa-4c0b-9598-6f7e89fb95aa",
      "metadata": {
        "colab": {
          "base_uri": "https://localhost:8080/"
        },
        "id": "9cd6a24a-c8fa-4c0b-9598-6f7e89fb95aa",
        "outputId": "81ff4dc1-a60e-452c-bbab-416e0f04d984"
      },
      "outputs": [
        {
          "output_type": "execute_result",
          "data": {
            "text/plain": [
              "(13.859302664789181, 17.540697335210822)"
            ]
          },
          "metadata": {},
          "execution_count": 3
        }
      ],
      "source": [
        "# Calcular la media de la variable tiempo\n",
        "media = np.mean(tiempo)\n",
        "\n",
        "sigma = 2.1\n",
        "\n",
        "# Calcular el tamaño de la muestra\n",
        "n = len(tiempo)\n",
        "\n",
        "# Calcular el intervalo de confianza para la media poblacional de la variable tiempo\n",
        "stats.norm.interval(confidence=0.95, loc=media, scale=sigma/np.sqrt(n))"
      ]
    },
    {
      "cell_type": "markdown",
      "id": "c27bf86d-043d-4353-89fe-263e79a2ccc5",
      "metadata": {
        "id": "c27bf86d-043d-4353-89fe-263e79a2ccc5"
      },
      "source": [
        "Para la calcula el intervalo con la distribución t-student se debe calcular la desviación estandar muestra `desv_est = np.std(tiempo, ddfo=1)` y luego se utiliza la función `stats.t.interval`:"
      ]
    },
    {
      "cell_type": "code",
      "execution_count": 4,
      "id": "4eb8327e-7ed0-4362-a808-b73bad60109f",
      "metadata": {
        "colab": {
          "base_uri": "https://localhost:8080/"
        },
        "id": "4eb8327e-7ed0-4362-a808-b73bad60109f",
        "outputId": "774edf61-052d-45ce-dff8-ae5a0a1c1106"
      },
      "outputs": [
        {
          "output_type": "execute_result",
          "data": {
            "text/plain": [
              "(13.611197845426219, 17.788802154573787)"
            ]
          },
          "metadata": {},
          "execution_count": 4
        }
      ],
      "source": [
        "# Calcular la desviación estandar muestral\n",
        "desv_est = np.std(tiempo, ddof=1)\n",
        "\n",
        "# Calcular el intervalo con la distribución t\n",
        "stats.t.interval(loc=media, scale=desv_est/np.sqrt(n), df=n-1, confidence=0.95)"
      ]
    },
    {
      "cell_type": "markdown",
      "id": "82e7a394-7bc1-4f9b-a9ff-7fe4ecddac2d",
      "metadata": {
        "id": "82e7a394-7bc1-4f9b-a9ff-7fe4ecddac2d"
      },
      "source": [
        "A continuación, se muestra como construir una función que calcula el intervalo de confianza para la media poblacional de una variable.\n",
        "    \n",
        "__Parámetros:__\n",
        "- data: lista o array de datos de la variable.\n",
        "- confianza: nivel de confianza deseado (entre 0 y 1).\n",
        "- sigma: la desviación estandar de la población\n",
        "\n",
        "__Retorna:__\n",
        "- intervalo: una tupla con los límites inferior y superior del intervalo de confianza.\n",
        "\n",
        "*En este función por defecto vamos a calcular el intervalo con la distribución t-student*"
      ]
    },
    {
      "cell_type": "code",
      "execution_count": 5,
      "id": "aa13b69a-532f-428c-929a-9804ee66aa14",
      "metadata": {
        "id": "aa13b69a-532f-428c-929a-9804ee66aa14"
      },
      "outputs": [],
      "source": [
        "# Por defecto vamos a calcular e\n",
        "def intervalo_confianza_media(data, confianza, distribucion_t=True, sigma=None):\n",
        "    # Calcular la media de la variable\n",
        "    media = np.mean(data)\n",
        "\n",
        "    # Calcular el tamaño de la muestra\n",
        "    n = len(data)\n",
        "    \n",
        "    # Calcular el intervalo con la distribución t\n",
        "    if distribucion_t:\n",
        "        # Calcular la desviación estandar muestral\n",
        "        desv_est = np.std(data, ddof=1)\n",
        "\n",
        "        # Calcular el intervalo con la distribución t\n",
        "        intervalo = stats.t.interval(loc=media, scale=desv_est/np.sqrt(n), df=n-1, confidence=confianza)\n",
        "    else:  \n",
        "        # Calcular el intervalo de confianza para la media poblacional de la variable\n",
        "        intervalo = stats.norm.interval(confidence=confianza, loc=media, scale=sigma/np.sqrt(n))\n",
        "\n",
        "    return intervalo"
      ]
    },
    {
      "cell_type": "code",
      "execution_count": 6,
      "id": "e503dd72-bd9c-4e39-91ab-433923841b61",
      "metadata": {
        "colab": {
          "base_uri": "https://localhost:8080/"
        },
        "id": "e503dd72-bd9c-4e39-91ab-433923841b61",
        "outputId": "6e4614a8-cdf1-4dba-d12d-c97a4211dabb"
      },
      "outputs": [
        {
          "output_type": "execute_result",
          "data": {
            "text/plain": [
              "(13.611197845426219, 17.788802154573787)"
            ]
          },
          "metadata": {},
          "execution_count": 6
        }
      ],
      "source": [
        "# Calculo de intervalo con distribución t\n",
        "intervalo_confianza_media(data=tiempo, confianza=0.95)"
      ]
    },
    {
      "cell_type": "code",
      "execution_count": 7,
      "id": "47875058-77c9-4697-800d-5648f03259c1",
      "metadata": {
        "colab": {
          "base_uri": "https://localhost:8080/"
        },
        "id": "47875058-77c9-4697-800d-5648f03259c1",
        "outputId": "5da27201-3b51-4af1-dbdf-aa3d9c7207c7"
      },
      "outputs": [
        {
          "output_type": "execute_result",
          "data": {
            "text/plain": [
              "(13.859302664789181, 17.540697335210822)"
            ]
          },
          "metadata": {},
          "execution_count": 7
        }
      ],
      "source": [
        "# Calculo de intervalo con distribución normal\n",
        "intervalo_confianza_media(data=tiempo, confianza=0.95, distribucion_t=False, sigma=2.1)"
      ]
    },
    {
      "cell_type": "markdown",
      "id": "2871a6a4-edb6-40ef-9506-80dbb8484040",
      "metadata": {
        "id": "2871a6a4-edb6-40ef-9506-80dbb8484040"
      },
      "source": [
        "La principal ventaja de utilizar una función es que permite encapsular un conjunto de instrucciones en un bloque reutilizable de código. Esto tiene varias ventajas, como:\n",
        "\n",
        "- __Modularidad:__ Al encapsular un conjunto de instrucciones en una función, se puede modularizar el código y separar diferentes responsabilidades en bloques de código independientes y reutilizables.\n",
        "- __Legibilidad:__ Al utilizar una función con un nombre descriptivo, el código se hace más legible y fácil de entender.\n",
        "- __Reutilización:__ Una función puede ser reutilizada varias veces en diferentes partes del código, evitando la repetición de código y aumentando la eficiencia del desarrollo.\n",
        "- __Mantenibilidad:__ Al encapsular el código en una función, es más fácil de mantener y actualizar, ya que cualquier cambio en el código solo tiene que hacerse en un lugar.\n",
        "\n",
        "Recuerde que en clase calculamos intervalos de confianza con diferentes muestras. A continuación, se muestra como reutilizar el código para calcular estos intervalos:"
      ]
    },
    {
      "cell_type": "code",
      "execution_count": 8,
      "id": "6f5d539b-984c-4311-befc-c814078c551c",
      "metadata": {
        "colab": {
          "base_uri": "https://localhost:8080/",
          "height": 269
        },
        "id": "6f5d539b-984c-4311-befc-c814078c551c",
        "outputId": "0392b66a-f8b1-4eb3-f361-9d3d5919b2c7"
      },
      "outputs": [
        {
          "output_type": "execute_result",
          "data": {
            "text/plain": [
              "     M1    M2    M3    M4    M5    M6    M7\n",
              "0  15.9  12.8  19.2  12.8  15.6  16.9  19.2\n",
              "1  12.8  19.2  15.7  14.6  15.0  15.0  15.7\n",
              "2  20.0  12.5  13.6  14.8  10.3  15.6  13.6\n",
              "3  11.0  14.8  19.7  16.7  19.7  13.6  19.7\n",
              "4  10.3  11.5  16.7  15.6  14.8  14.2  16.7\n",
              "5  14.2  15.6  15.6  14.1  16.6  13.6  15.6\n",
              "6  13.1  13.6  14.2  16.9  12.8  19.2  20.0"
            ],
            "text/html": [
              "\n",
              "  <div id=\"df-be6d161b-78fd-4c4f-8d59-eb1aa0cefd1c\">\n",
              "    <div class=\"colab-df-container\">\n",
              "      <div>\n",
              "<style scoped>\n",
              "    .dataframe tbody tr th:only-of-type {\n",
              "        vertical-align: middle;\n",
              "    }\n",
              "\n",
              "    .dataframe tbody tr th {\n",
              "        vertical-align: top;\n",
              "    }\n",
              "\n",
              "    .dataframe thead th {\n",
              "        text-align: right;\n",
              "    }\n",
              "</style>\n",
              "<table border=\"1\" class=\"dataframe\">\n",
              "  <thead>\n",
              "    <tr style=\"text-align: right;\">\n",
              "      <th></th>\n",
              "      <th>M1</th>\n",
              "      <th>M2</th>\n",
              "      <th>M3</th>\n",
              "      <th>M4</th>\n",
              "      <th>M5</th>\n",
              "      <th>M6</th>\n",
              "      <th>M7</th>\n",
              "    </tr>\n",
              "  </thead>\n",
              "  <tbody>\n",
              "    <tr>\n",
              "      <th>0</th>\n",
              "      <td>15.9</td>\n",
              "      <td>12.8</td>\n",
              "      <td>19.2</td>\n",
              "      <td>12.8</td>\n",
              "      <td>15.6</td>\n",
              "      <td>16.9</td>\n",
              "      <td>19.2</td>\n",
              "    </tr>\n",
              "    <tr>\n",
              "      <th>1</th>\n",
              "      <td>12.8</td>\n",
              "      <td>19.2</td>\n",
              "      <td>15.7</td>\n",
              "      <td>14.6</td>\n",
              "      <td>15.0</td>\n",
              "      <td>15.0</td>\n",
              "      <td>15.7</td>\n",
              "    </tr>\n",
              "    <tr>\n",
              "      <th>2</th>\n",
              "      <td>20.0</td>\n",
              "      <td>12.5</td>\n",
              "      <td>13.6</td>\n",
              "      <td>14.8</td>\n",
              "      <td>10.3</td>\n",
              "      <td>15.6</td>\n",
              "      <td>13.6</td>\n",
              "    </tr>\n",
              "    <tr>\n",
              "      <th>3</th>\n",
              "      <td>11.0</td>\n",
              "      <td>14.8</td>\n",
              "      <td>19.7</td>\n",
              "      <td>16.7</td>\n",
              "      <td>19.7</td>\n",
              "      <td>13.6</td>\n",
              "      <td>19.7</td>\n",
              "    </tr>\n",
              "    <tr>\n",
              "      <th>4</th>\n",
              "      <td>10.3</td>\n",
              "      <td>11.5</td>\n",
              "      <td>16.7</td>\n",
              "      <td>15.6</td>\n",
              "      <td>14.8</td>\n",
              "      <td>14.2</td>\n",
              "      <td>16.7</td>\n",
              "    </tr>\n",
              "    <tr>\n",
              "      <th>5</th>\n",
              "      <td>14.2</td>\n",
              "      <td>15.6</td>\n",
              "      <td>15.6</td>\n",
              "      <td>14.1</td>\n",
              "      <td>16.6</td>\n",
              "      <td>13.6</td>\n",
              "      <td>15.6</td>\n",
              "    </tr>\n",
              "    <tr>\n",
              "      <th>6</th>\n",
              "      <td>13.1</td>\n",
              "      <td>13.6</td>\n",
              "      <td>14.2</td>\n",
              "      <td>16.9</td>\n",
              "      <td>12.8</td>\n",
              "      <td>19.2</td>\n",
              "      <td>20.0</td>\n",
              "    </tr>\n",
              "  </tbody>\n",
              "</table>\n",
              "</div>\n",
              "      <button class=\"colab-df-convert\" onclick=\"convertToInteractive('df-be6d161b-78fd-4c4f-8d59-eb1aa0cefd1c')\"\n",
              "              title=\"Convert this dataframe to an interactive table.\"\n",
              "              style=\"display:none;\">\n",
              "        \n",
              "  <svg xmlns=\"http://www.w3.org/2000/svg\" height=\"24px\"viewBox=\"0 0 24 24\"\n",
              "       width=\"24px\">\n",
              "    <path d=\"M0 0h24v24H0V0z\" fill=\"none\"/>\n",
              "    <path d=\"M18.56 5.44l.94 2.06.94-2.06 2.06-.94-2.06-.94-.94-2.06-.94 2.06-2.06.94zm-11 1L8.5 8.5l.94-2.06 2.06-.94-2.06-.94L8.5 2.5l-.94 2.06-2.06.94zm10 10l.94 2.06.94-2.06 2.06-.94-2.06-.94-.94-2.06-.94 2.06-2.06.94z\"/><path d=\"M17.41 7.96l-1.37-1.37c-.4-.4-.92-.59-1.43-.59-.52 0-1.04.2-1.43.59L10.3 9.45l-7.72 7.72c-.78.78-.78 2.05 0 2.83L4 21.41c.39.39.9.59 1.41.59.51 0 1.02-.2 1.41-.59l7.78-7.78 2.81-2.81c.8-.78.8-2.07 0-2.86zM5.41 20L4 18.59l7.72-7.72 1.47 1.35L5.41 20z\"/>\n",
              "  </svg>\n",
              "      </button>\n",
              "      \n",
              "  <style>\n",
              "    .colab-df-container {\n",
              "      display:flex;\n",
              "      flex-wrap:wrap;\n",
              "      gap: 12px;\n",
              "    }\n",
              "\n",
              "    .colab-df-convert {\n",
              "      background-color: #E8F0FE;\n",
              "      border: none;\n",
              "      border-radius: 50%;\n",
              "      cursor: pointer;\n",
              "      display: none;\n",
              "      fill: #1967D2;\n",
              "      height: 32px;\n",
              "      padding: 0 0 0 0;\n",
              "      width: 32px;\n",
              "    }\n",
              "\n",
              "    .colab-df-convert:hover {\n",
              "      background-color: #E2EBFA;\n",
              "      box-shadow: 0px 1px 2px rgba(60, 64, 67, 0.3), 0px 1px 3px 1px rgba(60, 64, 67, 0.15);\n",
              "      fill: #174EA6;\n",
              "    }\n",
              "\n",
              "    [theme=dark] .colab-df-convert {\n",
              "      background-color: #3B4455;\n",
              "      fill: #D2E3FC;\n",
              "    }\n",
              "\n",
              "    [theme=dark] .colab-df-convert:hover {\n",
              "      background-color: #434B5C;\n",
              "      box-shadow: 0px 1px 3px 1px rgba(0, 0, 0, 0.15);\n",
              "      filter: drop-shadow(0px 1px 2px rgba(0, 0, 0, 0.3));\n",
              "      fill: #FFFFFF;\n",
              "    }\n",
              "  </style>\n",
              "\n",
              "      <script>\n",
              "        const buttonEl =\n",
              "          document.querySelector('#df-be6d161b-78fd-4c4f-8d59-eb1aa0cefd1c button.colab-df-convert');\n",
              "        buttonEl.style.display =\n",
              "          google.colab.kernel.accessAllowed ? 'block' : 'none';\n",
              "\n",
              "        async function convertToInteractive(key) {\n",
              "          const element = document.querySelector('#df-be6d161b-78fd-4c4f-8d59-eb1aa0cefd1c');\n",
              "          const dataTable =\n",
              "            await google.colab.kernel.invokeFunction('convertToInteractive',\n",
              "                                                     [key], {});\n",
              "          if (!dataTable) return;\n",
              "\n",
              "          const docLinkHtml = 'Like what you see? Visit the ' +\n",
              "            '<a target=\"_blank\" href=https://colab.research.google.com/notebooks/data_table.ipynb>data table notebook</a>'\n",
              "            + ' to learn more about interactive tables.';\n",
              "          element.innerHTML = '';\n",
              "          dataTable['output_type'] = 'display_data';\n",
              "          await google.colab.output.renderOutput(dataTable, element);\n",
              "          const docLink = document.createElement('div');\n",
              "          docLink.innerHTML = docLinkHtml;\n",
              "          element.appendChild(docLink);\n",
              "        }\n",
              "      </script>\n",
              "    </div>\n",
              "  </div>\n",
              "  "
            ]
          },
          "metadata": {},
          "execution_count": 8
        }
      ],
      "source": [
        "# Guardar los datos en listas independientes\n",
        "m1 = [15.9, 12.8, 20.0, 11.0, 10.3, 14.2, 13.1]\n",
        "m2 = [12.8, 19.2, 12.5, 14.8, 11.5, 15.6, 13.6]\n",
        "m3 = [19.2, 15.7, 13.6, 19.7, 16.7, 15.6, 14.2]\n",
        "m4 = [12.8, 14.6, 14.8, 16.7, 15.6, 14.1, 16.9]\n",
        "m5 = [15.6, 15.0, 10.3, 19.7, 14.8, 16.6, 12.8]\n",
        "m6 = [16.9, 15.0, 15.6, 13.6, 14.2, 13.6, 19.2]\n",
        "m7 = [19.2, 15.7, 13.6, 19.7, 16.7, 15.6, 20.0]\n",
        "\n",
        "# Crear un tabla (DataFrame) con cada muestra\n",
        "muestras = pd.DataFrame({\n",
        "    \"M1\":m1,\n",
        "    \"M2\":m2,\n",
        "    \"M3\":m3,\n",
        "    \"M4\":m4,\n",
        "    \"M5\":m5,\n",
        "    \"M6\":m6,\n",
        "    \"M7\":m7\n",
        "})\n",
        "muestras"
      ]
    },
    {
      "cell_type": "code",
      "execution_count": 9,
      "id": "67ce8000-6e61-4abb-b51c-b64fe83531a6",
      "metadata": {
        "colab": {
          "base_uri": "https://localhost:8080/"
        },
        "id": "67ce8000-6e61-4abb-b51c-b64fe83531a6",
        "outputId": "0abfd8d2-8833-4c2a-da46-5c2e932a6c63"
      },
      "outputs": [
        {
          "output_type": "stream",
          "name": "stdout",
          "text": [
            "(10.867220344311457, 16.93277965568854)\n",
            "(11.904690828365506, 16.66673774306306)\n",
            "(14.228999535645002, 18.54242903578357)\n",
            "(13.72725477378027, 16.415602369076872)\n",
            "(12.2494296830012, 17.693427459855943)\n",
            "(13.562698476923119, 17.323015808791165)\n",
            "(14.945472034417374, 19.483099394154056)\n"
          ]
        }
      ],
      "source": [
        "# Recorrer todas las columnas con un ciclo for\n",
        "for col in muestras.columns:\n",
        "    # Imprime en consola el calculo del intervalo de confianza para cada muestra\n",
        "    print(intervalo_confianza_media(data=muestras[col], confianza=0.95))"
      ]
    },
    {
      "cell_type": "markdown",
      "id": "953187ec-1bd0-469a-adf8-8fa8ab34e8d9",
      "metadata": {
        "id": "953187ec-1bd0-469a-adf8-8fa8ab34e8d9"
      },
      "source": [
        "Ahora vamos a graficar el primer intervalo calculado:"
      ]
    },
    {
      "cell_type": "code",
      "execution_count": 10,
      "id": "9569a4b2-4d49-40ca-87fe-9a82c2996714",
      "metadata": {
        "colab": {
          "base_uri": "https://localhost:8080/",
          "height": 430
        },
        "id": "9569a4b2-4d49-40ca-87fe-9a82c2996714",
        "outputId": "1e2fe096-4307-48bf-8c55-71db217cbd51"
      },
      "outputs": [
        {
          "output_type": "display_data",
          "data": {
            "text/plain": [
              "<Figure size 640x480 with 1 Axes>"
            ],
            "image/png": "[encoded data removed]"
          },
          "metadata": {}
        }
      ],
      "source": [
        "ic_mu = intervalo_confianza_media(data=tiempo, confianza=0.95)\n",
        "\n",
        "# Calcular la media: recuerde que la media es el punto medio del intervalo\n",
        "media = (ic_mu[1] + ic_mu[0])/2\n",
        "\n",
        "# Calcular el margen de error: recuerde que es la distancia entre la media y alguno de los intervalos\n",
        "me = media - ic_mu[0]\n",
        "\n",
        "# Gráfica el intervalo\n",
        "plt.errorbar(x=1, y=media, yerr=me, fmt='o', capsize=10)\n",
        "plt.xticks(ticks=[1], labels=['Muestra'])\n",
        "plt.show()"
      ]
    },
    {
      "cell_type": "markdown",
      "id": "18aeb5fa-f478-424c-9c38-ac616f1ed393",
      "metadata": {
        "id": "18aeb5fa-f478-424c-9c38-ac616f1ed393"
      },
      "source": [
        "Con el bloque de código armamos una función tal como se muestra a continuación:"
      ]
    },
    {
      "cell_type": "code",
      "execution_count": 11,
      "id": "91e179e0-069b-40ad-a4fd-61c74f4d73bf",
      "metadata": {
        "id": "91e179e0-069b-40ad-a4fd-61c74f4d73bf"
      },
      "outputs": [],
      "source": [
        "def plot_intervalo(ic_mu, x=1, muestra='Muestra'):\n",
        "    media = (ic_mu[1] + ic_mu[0])/2\n",
        "    me = media - ic_mu[0]\n",
        "    plt.errorbar(x=x, y=media, yerr=me, fmt='o', capsize=10, label=muestra)"
      ]
    },
    {
      "cell_type": "code",
      "execution_count": 12,
      "id": "f9f0f05a-cccb-4287-8d26-e8db082c26aa",
      "metadata": {
        "colab": {
          "base_uri": "https://localhost:8080/",
          "height": 452
        },
        "id": "f9f0f05a-cccb-4287-8d26-e8db082c26aa",
        "outputId": "f86eb690-75ce-48c8-de7b-753ef8f52de9"
      },
      "outputs": [
        {
          "output_type": "display_data",
          "data": {
            "text/plain": [
              "<Figure size 640x480 with 1 Axes>"
            ],
            "image/png": "[encoded data removed]"
          },
          "metadata": {}
        }
      ],
      "source": [
        "# Recorre todas las columnas de la tabla para graficar los intervalos\n",
        "for i,col in enumerate(muestras.columns):\n",
        "    ic_mu = intervalo_confianza_media(data=muestras[col], confianza=0.95)\n",
        "    plot_intervalo(ic_mu, x=i+1, muestra=col)\n",
        "\n",
        "# Agregar elementos al gráfico    \n",
        "plt.axhline(y=15, color='black', linestyle='--')\n",
        "plt.title(\"Intervalos de confianza del 95% para las 7 muestras\")\n",
        "plt.show()"
      ]
    },
    {
      "cell_type": "markdown",
      "id": "ffb1693c-0c2c-4428-88eb-e7e9a899a65f",
      "metadata": {
        "id": "ffb1693c-0c2c-4428-88eb-e7e9a899a65f"
      },
      "source": [
        "## Intervalo de confianza para la varianza"
      ]
    },
    {
      "cell_type": "code",
      "execution_count": 13,
      "id": "6ce71acb-ff2e-438b-a587-b8054a3c1ec6",
      "metadata": {
        "colab": {
          "base_uri": "https://localhost:8080/"
        },
        "id": "6ce71acb-ff2e-438b-a587-b8054a3c1ec6",
        "outputId": "a15f7f59-94f4-429d-b34e-b54ac1f502ff"
      },
      "outputs": [
        {
          "output_type": "execute_result",
          "data": {
            "text/plain": [
              "array([ 1.01585827, 23.36822121])"
            ]
          },
          "metadata": {},
          "execution_count": 13
        }
      ],
      "source": [
        "# Calcular la varianza muestral de la variable 'tiempo'\n",
        "varianza = np.var(tiempo, ddof=1)\n",
        "\n",
        "# Establecer el nivel de confianza del intervalo de confianza\n",
        "confianza = 0.95\n",
        "\n",
        "# Calcular los grados de libertad de la distribución chi-cuadrado\n",
        "gl = n - 1\n",
        "\n",
        "# Calcular alpha/2, el valor de corte para la distribución chi-cuadrado\n",
        "# (usando la función ppf de scipy.stats)\n",
        "alpha2 = (1 - confianza) / 2\n",
        "chi2_vals = stats.chi2.ppf(q=[1-alpha2, alpha2], df=gl)\n",
        "\n",
        "# Calcular el intervalo de confianza para la varianza muestral\n",
        "intervalo_confianza_varianza = gl * varianza / chi2_vals\n",
        "\n",
        "# Devolver el intervalo de confianza para la varianza muestral\n",
        "intervalo_confianza_varianza"
      ]
    },
    {
      "cell_type": "code",
      "execution_count": 14,
      "id": "e1ec25fb-8eb6-4761-bcce-9aa1c63dc0d7",
      "metadata": {
        "colab": {
          "base_uri": "https://localhost:8080/"
        },
        "id": "e1ec25fb-8eb6-4761-bcce-9aa1c63dc0d7",
        "outputId": "f0cc759d-e39c-4559-dfc7-66c04dab6590"
      },
      "outputs": [
        {
          "output_type": "execute_result",
          "data": {
            "text/plain": [
              "array([1.00789794, 4.8340688 ])"
            ]
          },
          "metadata": {},
          "execution_count": 14
        }
      ],
      "source": [
        "# ahora para la desviación estandar\n",
        "np.sqrt(intervalo_confianza_varianza)"
      ]
    },
    {
      "cell_type": "code",
      "execution_count": 15,
      "id": "8f0532e5-d7d5-40fe-8cdb-4c5bd55ca195",
      "metadata": {
        "id": "8f0532e5-d7d5-40fe-8cdb-4c5bd55ca195"
      },
      "outputs": [],
      "source": [
        "def intervalo_confianza_varianza(data, confianza):\n",
        "    # Calcular el tamaño de la muestra\n",
        "    n = len(data)\n",
        "\n",
        "    # Calcular la varianza muestral de la variable\n",
        "    varianza = np.var(data, ddof=1)\n",
        "\n",
        "    # Calcular los grados de libertad\n",
        "    gl = n - 1\n",
        "\n",
        "    # Calcular alpha/2, el valor de corte para la distribución chi-cuadrado\n",
        "    # (usando la función ppf de scipy.stats)\n",
        "    alpha2 = (1 - confianza) / 2\n",
        "    chi2_vals = stats.chi2.ppf(q=[1-alpha2, alpha2], df=gl)\n",
        "\n",
        "    # Calcular los límites del intervalo de confianza para la varianza\n",
        "    intervalo_confianza_varianza = gl * varianza / chi2_vals\n",
        "\n",
        "    return (intervalo_confianza_varianza)"
      ]
    },
    {
      "cell_type": "code",
      "execution_count": 16,
      "id": "9390fe39-3e6e-4b7b-a648-e3fc9a0de963",
      "metadata": {
        "colab": {
          "base_uri": "https://localhost:8080/"
        },
        "id": "9390fe39-3e6e-4b7b-a648-e3fc9a0de963",
        "outputId": "468fa2b2-1222-4968-8868-0d738f95e2be"
      },
      "outputs": [
        {
          "output_type": "execute_result",
          "data": {
            "text/plain": [
              "array([ 1.01585827, 23.36822121])"
            ]
          },
          "metadata": {},
          "execution_count": 16
        }
      ],
      "source": [
        "intervalo_confianza_varianza(tiempo, confianza=0.95)"
      ]
    },
    {
      "cell_type": "markdown",
      "id": "8bec953e-a13b-4760-91d3-7ccc1cc453c6",
      "metadata": {
        "id": "8bec953e-a13b-4760-91d3-7ccc1cc453c6"
      },
      "source": [
        "## Intervalos de confianza para proporciones"
      ]
    },
    {
      "cell_type": "markdown",
      "id": "7a48cbb1-a63c-4a3f-85b4-423a15e48e64",
      "metadata": {
        "id": "7a48cbb1-a63c-4a3f-85b4-423a15e48e64"
      },
      "source": [
        "En una muestra aleatoria de *85 cojinetes* de cigüeñal de motores de automóviles, *10 tienen un acabado superficial más rugoso* que el permitido por las especificaciones. Calcule un intervalo de confianza para proporción de cigueñales que no cumplen con las especificaciones."
      ]
    },
    {
      "cell_type": "code",
      "execution_count": 17,
      "id": "2008d9b3-40bd-48ba-9c25-17fb9984cbbe",
      "metadata": {
        "colab": {
          "base_uri": "https://localhost:8080/"
        },
        "id": "2008d9b3-40bd-48ba-9c25-17fb9984cbbe",
        "outputId": "f12646e9-ecee-4ee8-ed3a-62f29c81cf97"
      },
      "outputs": [
        {
          "output_type": "execute_result",
          "data": {
            "text/plain": [
              "(0.04915340504887858, 0.18614071259818024)"
            ]
          },
          "metadata": {},
          "execution_count": 17
        }
      ],
      "source": [
        "# Tamaño de la muestra (numero de cojinetes)\n",
        "n = 85\n",
        "\n",
        "# Número de defectos\n",
        "X = 10\n",
        "\n",
        "# Proporción muestral\n",
        "p = X / n\n",
        "\n",
        "# Desviación estándar muestral de la proporción\n",
        "sigmap = np.sqrt(p * (1 - p) / n)\n",
        "\n",
        "# Nivel de confianza deseado para el intervalo de confianza\n",
        "confianza = 0.95\n",
        "\n",
        "# Calcular el intervalo de confianza utilizando la distribución normal\n",
        "stats.norm.interval(loc=p, scale=sigmap, confidence=confianza)"
      ]
    },
    {
      "cell_type": "code",
      "execution_count": 18,
      "id": "780967f5-4834-4bd2-a17e-fffc52571581",
      "metadata": {
        "id": "780967f5-4834-4bd2-a17e-fffc52571581"
      },
      "outputs": [],
      "source": [
        "def intervalo_confianza_proporcion(n, X, confianza):    \n",
        "    # Calcular la proporción muestral\n",
        "    p = X / n\n",
        "    \n",
        "    # Calcular la desviación estándar muestral de la proporción\n",
        "    sigmap = np.sqrt(p * (1 - p) / n)\n",
        "    \n",
        "    # Calcular el intervalo de confianza usando la distribución normal\n",
        "    intervalo_confianza = stats.norm.interval(\n",
        "        loc=p, \n",
        "        scale=sigmap, \n",
        "        confidence=confianza\n",
        "    )\n",
        "    \n",
        "    return intervalo_confianza"
      ]
    },
    {
      "cell_type": "code",
      "execution_count": 19,
      "id": "23a448f3-0cb4-45eb-84e7-8d4fee804ac1",
      "metadata": {
        "colab": {
          "base_uri": "https://localhost:8080/"
        },
        "id": "23a448f3-0cb4-45eb-84e7-8d4fee804ac1",
        "outputId": "5600bf86-9106-4948-d6df-3ec8104dbab3"
      },
      "outputs": [
        {
          "output_type": "execute_result",
          "data": {
            "text/plain": [
              "(0.04915340504887858, 0.18614071259818024)"
            ]
          },
          "metadata": {},
          "execution_count": 19
        }
      ],
      "source": [
        "intervalo_confianza_proporcion(n=85, X=10, confianza=0.95)"
      ]
    }
  ],
  "metadata": {
    "kernelspec": {
      "display_name": "Python 3 (ipykernel)",
      "language": "python",
      "name": "python3"
    },
    "language_info": {
      "codemirror_mode": {
        "name": "ipython",
        "version": 3
      },
      "file_extension": ".py",
      "mimetype": "text/x-python",
      "name": "python",
      "nbconvert_exporter": "python",
      "pygments_lexer": "ipython3",
      "version": "3.9.15"
    },
    "colab": {
      "provenance": [],
      "include_colab_link": true
    }
  },
  "nbformat": 4,
  "nbformat_minor": 5
}