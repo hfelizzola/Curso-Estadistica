{
  "nbformat": 4,
  "nbformat_minor": 0,
  "metadata": {
    "colab": {
      "provenance": [],
      "authorship_tag": "ABX9TyNn85xBjays18cG0s6cUSNw",
      "include_colab_link": true
    },
    "kernelspec": {
      "name": "python3",
      "display_name": "Python 3"
    },
    "language_info": {
      "name": "python"
    }
  },
  "cells": [
    {
      "cell_type": "markdown",
      "metadata": {
        "id": "view-in-github",
        "colab_type": "text"
      },
      "source": [
        "<a href=\"https://colab.research.google.com/github/hfelizzola/Curso-Estadistica/blob/main/Prueba_Hipotesis.ipynb\" target=\"_parent\"><img src=\"https://colab.research.google.com/assets/colab-badge.svg\" alt=\"Open In Colab\"/></a>"
      ]
    },
    {
      "cell_type": "markdown",
      "source": [
        "# Prueba de hipótesis para una muestra"
      ],
      "metadata": {
        "id": "bBWAOGd6n6PF"
      }
    },
    {
      "cell_type": "code",
      "execution_count": 22,
      "metadata": {
        "id": "ngqtSTRJmss_"
      },
      "outputs": [],
      "source": [
        "import numpy as np\n",
        "import pandas as pd\n",
        "import scipy.stats as stats\n",
        "from statsmodels.stats.weightstats import ztest, ttest_ind"
      ]
    },
    {
      "cell_type": "markdown",
      "source": [
        "## Caso 1. Prueba de hipótesis para la media de una población normalmente distribuida y con varianza $\\sigma^2$ conocida y $n > 30$"
      ],
      "metadata": {
        "id": "U9jTRdZ2ocCt"
      }
    },
    {
      "cell_type": "markdown",
      "source": [
        "### Ejemplo 1. Análisis del tiempo de ensamble\n",
        "\n",
        "Suponga que el ingeniero de producción está interesado en el $X$: tiempo de ensamble en una línea de producción. Teniendo en cuenta que:\n",
        "\n",
        "- Objetivo: La planta ha fijado un objetivo de 10 minutos promedio por unidad.\n",
        "- Problema: Si el tiempo promedio es mayor a 10 minutos se revisará el proceso para analizar las causas y realizar ajustes.\n",
        "- Para determinar el tiempo promedio se tomaran muestras de tamaño n=9 en cada turno.\n",
        "- Se sabe que la desviación estándar del tiempo $\\sigma=1.5$.\n",
        "- Utilice un nivel de confianza del 95%, por tanto un $\\alpha=0.05$.\n",
        "\n",
        "Recuerde que en este caso las hipótesis son:\n",
        "$$\n",
        "H_0: \\mu = 10 \\\\\n",
        "H_1: \\mu > 10\n",
        "$$"
      ],
      "metadata": {
        "id": "8ek3z-XtpffY"
      }
    },
    {
      "cell_type": "code",
      "source": [
        "# Datos\n",
        "tiempo = np.array([11, 9, 11, 10, 10, 12, 13, 12, 10])\n",
        "tiempo"
      ],
      "metadata": {
        "colab": {
          "base_uri": "https://localhost:8080/"
        },
        "id": "Tq77rOCyqNQ9",
        "outputId": "a5637886-a65e-487e-ef48-9d0e4abe50bb"
      },
      "execution_count": 4,
      "outputs": [
        {
          "output_type": "execute_result",
          "data": {
            "text/plain": [
              "array([11,  9, 11, 10, 10, 12, 13, 12, 10])"
            ]
          },
          "metadata": {},
          "execution_count": 4
        }
      ]
    },
    {
      "cell_type": "code",
      "source": [
        "# Estadísticas descriptivas\n",
        "tiempo_promedio = np.mean(tiempo)\n",
        "tiempo_desv_est = np.std(tiempo, ddof=1)\n",
        "tiempo_var = np.var(tiempo, ddof=1)\n",
        "print(\"La media muestral es: {:.2f}\".format(tiempo_promedio))\n",
        "print(\"La desviación estandar muestral: {:.2f}\".format(tiempo_desv_est))\n",
        "print(\"La varianza muestral: {:.2f}\".format(tiempo_var))"
      ],
      "metadata": {
        "colab": {
          "base_uri": "https://localhost:8080/"
        },
        "id": "D8OaARgMqeny",
        "outputId": "6bab8ac7-165f-4aa5-c6f7-8ddc362b09f7"
      },
      "execution_count": 7,
      "outputs": [
        {
          "output_type": "stream",
          "name": "stdout",
          "text": [
            "La media muestral es: 10.89\n",
            "La desviación estandar muestral: 1.27\n",
            "La varianza muestral: 1.61\n"
          ]
        }
      ]
    },
    {
      "cell_type": "markdown",
      "source": [
        "Este código de Python utiliza la función `ztest()` del módulo `statsmodels.stats.weightstats` para realizar una prueba de hipótesis de una muestra z en una variable llamada tiempo con una media poblacional hipotética de 10. \n",
        "\n",
        "El parámetro `alternative=\"larger\"` indica que estamos probando la hipótesis alternativa de que la verdadera media poblacional es mayor que 10. Para definir la hipótesis alterna en esta función utilice las siguientes opciones:\n",
        "- Prueba bilateral ($H1: \\mu \\neq \\mu_0$): `alternative=\"two-sided\"`\n",
        "- Prueba de cola derecha ($H1: \\mu > \\mu_0$): `alternative=\"larger\"`\n",
        "- Prueba de cola izquierda ($H1: \\mu < \\mu_0$): `alternative=\"smaller\"`\n",
        "\n",
        "La función devuelve dos valores: `zvalue`, que es la estadística de prueba calculado y el `pvalue`."
      ],
      "metadata": {
        "id": "1o7uhRPctz8N"
      }
    },
    {
      "cell_type": "code",
      "source": [
        "# Prueba de hipótesis\n",
        "zvalue, pvalue = ztest(x1=tiempo, value=10, alternative=\"larger\")\n",
        "print(\"El estadístico de prueba es: {:.2f}\".format(zvalue))\n",
        "print(\"El valor-p de la prueba de hipótesis es: {:.4f}\".format(pvalue))"
      ],
      "metadata": {
        "colab": {
          "base_uri": "https://localhost:8080/"
        },
        "id": "mBQlotaeoCt0",
        "outputId": "18f4ccf6-b6e9-4f88-d401-177990606bce"
      },
      "execution_count": 12,
      "outputs": [
        {
          "output_type": "stream",
          "name": "stdout",
          "text": [
            "El estadístico de prueba es: 2.10\n",
            "El valor-p de la prueba de hipótesis es: 0.0178\n"
          ]
        }
      ]
    },
    {
      "cell_type": "markdown",
      "source": [
        "Con un valor estadístico de prueba de 2.10 y un valor p de 0.0178, podemos concluir que existe evidencia estadística significativa para rechazar la hipótesis nula al nivel de significancia del 5% (o incluso del 1%). \n",
        "\n",
        "Esto significa que es muy poco probable que la diferencia observada entre la muestra y la hipótesis nula sea el resultado del azar, y es más probable que el tiempo promedio de la operación sea mayor a 10 minutos, según lo planteado en la hipótesis alterna $H_1: \\mu > 10$."
      ],
      "metadata": {
        "id": "RVd61N4wutYf"
      }
    },
    {
      "cell_type": "markdown",
      "source": [
        "### Ejemplo 2: Análisis del rendimiento de combustible\n",
        "\n",
        "El propietario de un automóvil sospecha que el rendimiento del combustible de su vehículo es menor a lo especificado, lo cual es 30 millas/galón. El propietario realiza un experimento 9 veces donde observa la distancia en millas que recorre el vehículo por galón. Los datos son: 28.3, 31.2, 29.4, 27.2, 30.8, 28.7, 29.2, 26.5, 28.1. El propietario ha identificado que el rendimiento se distribuye de manera normal con $\\sigma=1.4$.\n",
        "__¿Los resultados del experimento respaldan la sospecha del propietario, utilice $\\alpha=0.01$__."
      ],
      "metadata": {
        "id": "oPIBpe8OvGlf"
      }
    },
    {
      "cell_type": "code",
      "source": [
        "# Datos de entrada\n",
        "rendimiento = np.array([28.3, 31.2, 29.4, 27.2, 30.8, 28.7, 29.2, 26.5, 28.1])\n",
        "rendimiento"
      ],
      "metadata": {
        "colab": {
          "base_uri": "https://localhost:8080/"
        },
        "id": "_DL5vuYnsSUv",
        "outputId": "9e1646ce-c9cc-4b07-c83e-98c173c3bac8"
      },
      "execution_count": 19,
      "outputs": [
        {
          "output_type": "execute_result",
          "data": {
            "text/plain": [
              "array([28.3, 31.2, 29.4, 27.2, 30.8, 28.7, 29.2, 26.5, 28.1])"
            ]
          },
          "metadata": {},
          "execution_count": 19
        }
      ]
    },
    {
      "cell_type": "code",
      "source": [
        "# Estadísticas descriptivas (Media, varianza y desviación estandar)\n",
        "\n"
      ],
      "metadata": {
        "id": "yeiRqGZIvy-V"
      },
      "execution_count": null,
      "outputs": []
    },
    {
      "cell_type": "code",
      "source": [
        "# Prueba de hipótesis\n",
        "\n"
      ],
      "metadata": {
        "id": "9-OkFcbQv5vw"
      },
      "execution_count": null,
      "outputs": []
    },
    {
      "cell_type": "markdown",
      "source": [
        "__Conclusión:__\n",
        "\n"
      ],
      "metadata": {
        "id": "uaGV3JhFv79A"
      }
    },
    {
      "cell_type": "markdown",
      "source": [
        "## Caso 2. Prueba de hipótesis para la media de una población normalmente distribuida y con varianza $\\sigma^2$ desconocida y $n < 30$"
      ],
      "metadata": {
        "id": "Ew6l8jT8wA6d"
      }
    },
    {
      "cell_type": "markdown",
      "source": [
        "Este código de Python utiliza la función `test_1samp()` de la biblioteca `scipy.stats` para realizar una prueba de hipótesis de una sola muestra en una variable llamada tiempo, con una media poblacional hipotética de 10, cuyo valor es configurado con el parámetro `popmean=10`. El parámetro `alternative=\"greater\"` indica que se está probando la hipótesis alternativa de que la verdadera media poblacional es mayor que 10. Las opciones para la hipótesis alterna son:\n",
        "\n",
        "- Prueba bilateral ($H1: \\mu \\neq \\mu_0$): `alternative=\"two-sided\"`\n",
        "- Prueba de cola derecha ($H1: \\mu > \\mu_0$): `alternative=\"greater\"`\n",
        "- Prueba de cola izquierda ($H1: \\mu < \\mu_0$): `alternative=\"less\"`\n",
        "\n",
        "La función devuelve un valor t que representa la estadística de prueba calculada, el valor p y los grados de libertad de la prueba de hipótesis. \n"
      ],
      "metadata": {
        "id": "uCY-BSNXxokA"
      }
    },
    {
      "cell_type": "code",
      "source": [
        "stats.ttest_1samp(a=tiempo, popmean=10, alternative=\"greater\")"
      ],
      "metadata": {
        "colab": {
          "base_uri": "https://localhost:8080/"
        },
        "id": "XgaIjEXgwPoR",
        "outputId": "a6aa1e9a-1686-4fe9-cef9-a10781bc180e"
      },
      "execution_count": 26,
      "outputs": [
        {
          "output_type": "execute_result",
          "data": {
            "text/plain": [
              "TtestResult(statistic=2.1009029257555616, pvalue=0.03442038297291411, df=8)"
            ]
          },
          "metadata": {},
          "execution_count": 26
        }
      ]
    },
    {
      "cell_type": "markdown",
      "source": [
        "Ahora desarrolle la prueba con el ejemplo 2."
      ],
      "metadata": {
        "id": "S5fyvR15zAkP"
      }
    },
    {
      "cell_type": "code",
      "source": [
        "# Prueba de hipótesis\n",
        "\n"
      ],
      "metadata": {
        "id": "O9PjoKorzJ1p"
      },
      "execution_count": null,
      "outputs": []
    }
  ]
}