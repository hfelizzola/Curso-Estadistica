{
  "nbformat": 4,
  "nbformat_minor": 0,
  "metadata": {
    "colab": {
      "provenance": [],
      "toc_visible": true,
      "authorship_tag": "ABX9TyPRt8ONJNSF1v4VZEGeOE8m",
      "include_colab_link": true
    },
    "kernelspec": {
      "name": "python3",
      "display_name": "Python 3"
    },
    "language_info": {
      "name": "python"
    }
  },
  "cells": [
    {
      "cell_type": "markdown",
      "metadata": {
        "id": "view-in-github",
        "colab_type": "text"
      },
      "source": [
        "<a href=\"https://colab.research.google.com/github/hfelizzola/Curso-Estadistica/blob/main/Prueba_Hipotesis.ipynb\" target=\"_parent\"><img src=\"https://colab.research.google.com/assets/colab-badge.svg\" alt=\"Open In Colab\"/></a>"
      ]
    },
    {
      "cell_type": "markdown",
      "source": [
        "# Prueba de hipótesis para una muestra"
      ],
      "metadata": {
        "id": "bBWAOGd6n6PF"
      }
    },
    {
      "cell_type": "code",
      "execution_count": 1,
      "metadata": {
        "id": "ngqtSTRJmss_"
      },
      "outputs": [],
      "source": [
        "import numpy as np\n",
        "import pandas as pd\n",
        "import scipy.stats as stats\n",
        "from statsmodels.stats.weightstats import ztest"
      ]
    },
    {
      "cell_type": "markdown",
      "source": [
        "## Caso 1. Prueba de hipótesis para la media de una población normalmente distribuida y con varianza $\\sigma^2$ conocida y $n > 30$"
      ],
      "metadata": {
        "id": "U9jTRdZ2ocCt"
      }
    },
    {
      "cell_type": "markdown",
      "source": [
        "### Ejemplo 1. Análisis del tiempo de ensamble\n",
        "\n",
        "Suponga que el ingeniero de producción está interesado en el $X$: tiempo de ensamble en una línea de producción. Teniendo en cuenta que:\n",
        "\n",
        "- Objetivo: La planta ha fijado un objetivo de 10 minutos promedio por unidad.\n",
        "- Problema: Si el tiempo promedio es mayor a 10 minutos se revisará el proceso para analizar las causas y realizar ajustes.\n",
        "- Para determinar el tiempo promedio se tomaran muestras de tamaño n=9 en cada turno.\n",
        "- Se sabe que la desviación estándar del tiempo $\\sigma=1.5$.\n",
        "- Utilice un nivel de confianza del 95%, por tanto un $\\alpha=0.05$.\n",
        "\n",
        "Recuerde que en este caso las hipótesis son:\n",
        "$$\n",
        "H_0: \\mu = 10 \\\\\n",
        "H_1: \\mu > 10\n",
        "$$"
      ],
      "metadata": {
        "id": "8ek3z-XtpffY"
      }
    },
    {
      "cell_type": "code",
      "source": [
        "# Datos\n",
        "tiempo = np.array([11, 9, 11, 10, 10, 12, 13, 12, 10])\n",
        "tiempo"
      ],
      "metadata": {
        "colab": {
          "base_uri": "https://localhost:8080/"
        },
        "id": "Tq77rOCyqNQ9",
        "outputId": "7163bcb3-3612-4764-9b8e-9f0908fc9505"
      },
      "execution_count": 2,
      "outputs": [
        {
          "output_type": "execute_result",
          "data": {
            "text/plain": [
              "array([11,  9, 11, 10, 10, 12, 13, 12, 10])"
            ]
          },
          "metadata": {},
          "execution_count": 2
        }
      ]
    },
    {
      "cell_type": "code",
      "source": [
        "# Estadísticas descriptivas\n",
        "tiempo_promedio = np.mean(tiempo)\n",
        "tiempo_desv_est = np.std(tiempo, ddof=1)\n",
        "tiempo_var = np.var(tiempo, ddof=1)\n",
        "print(\"La media muestral es: {:.2f}\".format(tiempo_promedio))\n",
        "print(\"La desviación estandar muestral: {:.2f}\".format(tiempo_desv_est))\n",
        "print(\"La varianza muestral: {:.2f}\".format(tiempo_var))"
      ],
      "metadata": {
        "colab": {
          "base_uri": "https://localhost:8080/"
        },
        "id": "D8OaARgMqeny",
        "outputId": "80c5a1d4-1bbe-4a0b-a087-9d789c997c68"
      },
      "execution_count": 3,
      "outputs": [
        {
          "output_type": "stream",
          "name": "stdout",
          "text": [
            "La media muestral es: 10.89\n",
            "La desviación estandar muestral: 1.27\n",
            "La varianza muestral: 1.61\n"
          ]
        }
      ]
    },
    {
      "cell_type": "markdown",
      "source": [
        "Este código de Python utiliza la función `ztest()` del módulo `statsmodels.stats.weightstats` para realizar una prueba de hipótesis de una muestra z en una variable llamada tiempo con una media poblacional hipotética de 10. \n",
        "\n",
        "El parámetro `alternative=\"larger\"` indica que estamos probando la hipótesis alternativa de que la verdadera media poblacional es mayor que 10. Para definir la hipótesis alterna en esta función utilice las siguientes opciones:\n",
        "- Prueba bilateral ($H1: \\mu \\neq \\mu_0$): `alternative=\"two-sided\"`\n",
        "- Prueba de cola derecha ($H1: \\mu > \\mu_0$): `alternative=\"larger\"`\n",
        "- Prueba de cola izquierda ($H1: \\mu < \\mu_0$): `alternative=\"smaller\"`\n",
        "\n",
        "La función devuelve dos valores: `zvalue`, que es la estadística de prueba calculado y el `pvalue`."
      ],
      "metadata": {
        "id": "1o7uhRPctz8N"
      }
    },
    {
      "cell_type": "code",
      "source": [
        "# Prueba de hipótesis\n",
        "zvalue, pvalue = ztest(x1=tiempo, value=10, alternative=\"larger\")\n",
        "print(\"El estadístico de prueba es: {:.2f}\".format(zvalue))\n",
        "print(\"El valor-p de la prueba de hipótesis es: {:.4f}\".format(pvalue))"
      ],
      "metadata": {
        "colab": {
          "base_uri": "https://localhost:8080/"
        },
        "id": "mBQlotaeoCt0",
        "outputId": "9c54ed65-77b9-4254-9927-1793a6b50537"
      },
      "execution_count": 4,
      "outputs": [
        {
          "output_type": "stream",
          "name": "stdout",
          "text": [
            "El estadístico de prueba es: 2.10\n",
            "El valor-p de la prueba de hipótesis es: 0.0178\n"
          ]
        }
      ]
    },
    {
      "cell_type": "markdown",
      "source": [
        "Con un valor estadístico de prueba de 2.10 y un valor p de 0.0178, podemos concluir que existe evidencia estadística significativa para rechazar la hipótesis nula al nivel de significancia del 5% (o incluso del 1%). \n",
        "\n",
        "Esto significa que es muy poco probable que la diferencia observada entre la muestra y la hipótesis nula sea el resultado del azar, y es más probable que el tiempo promedio de la operación sea mayor a 10 minutos, según lo planteado en la hipótesis alterna $H_1: \\mu > 10$."
      ],
      "metadata": {
        "id": "RVd61N4wutYf"
      }
    },
    {
      "cell_type": "markdown",
      "source": [
        "### Ejemplo 2: Análisis del rendimiento de combustible\n",
        "\n",
        "El propietario de un automóvil sospecha que el rendimiento del combustible de su vehículo es menor a lo especificado, lo cual es 30 millas/galón. El propietario realiza un experimento 9 veces donde observa la distancia en millas que recorre el vehículo por galón. Los datos son: 28.3, 31.2, 29.4, 27.2, 30.8, 28.7, 29.2, 26.5, 28.1. El propietario ha identificado que el rendimiento se distribuye de manera normal con $\\sigma=1.4$.\n",
        "__¿Los resultados del experimento respaldan la sospecha del propietario, utilice $\\alpha=0.01$__."
      ],
      "metadata": {
        "id": "oPIBpe8OvGlf"
      }
    },
    {
      "cell_type": "code",
      "source": [
        "# Datos de entrada\n",
        "rendimiento = np.array([28.3, 31.2, 29.4, 27.2, 30.8, 28.7, 29.2, 26.5, 28.1])\n",
        "rendimiento"
      ],
      "metadata": {
        "colab": {
          "base_uri": "https://localhost:8080/"
        },
        "id": "_DL5vuYnsSUv",
        "outputId": "9b5ca1b6-f16b-4121-e294-4448f800e2a4"
      },
      "execution_count": 5,
      "outputs": [
        {
          "output_type": "execute_result",
          "data": {
            "text/plain": [
              "array([28.3, 31.2, 29.4, 27.2, 30.8, 28.7, 29.2, 26.5, 28.1])"
            ]
          },
          "metadata": {},
          "execution_count": 5
        }
      ]
    },
    {
      "cell_type": "code",
      "source": [
        "# Estadísticas descriptivas (Media, varianza y desviación estandar)\n",
        "\n"
      ],
      "metadata": {
        "id": "yeiRqGZIvy-V"
      },
      "execution_count": 6,
      "outputs": []
    },
    {
      "cell_type": "code",
      "source": [
        "# Prueba de hipótesis\n",
        "\n"
      ],
      "metadata": {
        "id": "9-OkFcbQv5vw"
      },
      "execution_count": 7,
      "outputs": []
    },
    {
      "cell_type": "markdown",
      "source": [
        "__Conclusión:__\n",
        "\n"
      ],
      "metadata": {
        "id": "uaGV3JhFv79A"
      }
    },
    {
      "cell_type": "markdown",
      "source": [
        "## Caso 2. Prueba de hipótesis para la media de una población normalmente distribuida y con varianza $\\sigma^2$ desconocida y $n < 30$"
      ],
      "metadata": {
        "id": "Ew6l8jT8wA6d"
      }
    },
    {
      "cell_type": "markdown",
      "source": [
        "Este código de Python utiliza la función `test_1samp()` de la biblioteca `scipy.stats` para realizar una prueba de hipótesis de una sola muestra en una variable llamada tiempo, con una media poblacional hipotética de 10, cuyo valor es configurado con el parámetro `popmean=10`. El parámetro `alternative=\"greater\"` indica que se está probando la hipótesis alternativa de que la verdadera media poblacional es mayor que 10. Las opciones para la hipótesis alterna son:\n",
        "\n",
        "- Prueba bilateral ($H1: \\mu \\neq \\mu_0$): `alternative=\"two-sided\"`\n",
        "- Prueba de cola derecha ($H1: \\mu > \\mu_0$): `alternative=\"greater\"`\n",
        "- Prueba de cola izquierda ($H1: \\mu < \\mu_0$): `alternative=\"less\"`\n",
        "\n",
        "La función devuelve un valor t que representa la estadística de prueba calculada, el valor p y los grados de libertad de la prueba de hipótesis. \n"
      ],
      "metadata": {
        "id": "uCY-BSNXxokA"
      }
    },
    {
      "cell_type": "code",
      "source": [
        "stats.ttest_1samp(a=tiempo, popmean=10, alternative=\"greater\")"
      ],
      "metadata": {
        "colab": {
          "base_uri": "https://localhost:8080/"
        },
        "id": "XgaIjEXgwPoR",
        "outputId": "f7065ee6-bc08-445a-ff5b-3453647c9974"
      },
      "execution_count": 8,
      "outputs": [
        {
          "output_type": "execute_result",
          "data": {
            "text/plain": [
              "TtestResult(statistic=2.1009029257555616, pvalue=0.03442038297291411, df=8)"
            ]
          },
          "metadata": {},
          "execution_count": 8
        }
      ]
    },
    {
      "cell_type": "markdown",
      "source": [
        "Ahora desarrolle la prueba con el ejemplo 2."
      ],
      "metadata": {
        "id": "S5fyvR15zAkP"
      }
    },
    {
      "cell_type": "code",
      "source": [
        "# Prueba de hipótesis\n",
        "\n"
      ],
      "metadata": {
        "id": "O9PjoKorzJ1p"
      },
      "execution_count": 9,
      "outputs": []
    },
    {
      "cell_type": "markdown",
      "source": [
        "## Caso 3. Prueba de hipótesis para la varianza de una población normalmente distribuida"
      ],
      "metadata": {
        "id": "xFjisOGcOnBk"
      }
    },
    {
      "cell_type": "markdown",
      "source": [
        "La función var_test realiza una prueba de hipótesis en una muestra de varianza poblacional, comparando la varianza muestral con una varianza poblacional hipotética.\n",
        "\n",
        "Los parámetros de entrada son:\n",
        "\n",
        "- `a`: la muestra de datos\n",
        "- `popvar`: la varianza poblacional hipotética que se está probando\n",
        "- `alternative`: el tipo de prueba alternativa que se desea realizar, que puede ser \"two-sided\" (por defecto), \"greater\" o \"less\".\n"
      ],
      "metadata": {
        "id": "iOMh06IeR3sy"
      }
    },
    {
      "cell_type": "code",
      "source": [
        "def var_test(a, popvar, alternative=\"two-sided\"):\n",
        "    # Calcular la varianza muestral\n",
        "    varianza = np.var(a, ddof=1)\n",
        "    \n",
        "    # Obtener el tamaño de la muestra y los grados de libertad\n",
        "    n = len(a)\n",
        "    df = n - 1\n",
        "    \n",
        "    # Calcular la estadística de prueba chi-cuadrado\n",
        "    chi2o = df * varianza / popvar\n",
        "    \n",
        "    # Calcular el valor p correspondiente\n",
        "    if alternative == \"greater\":\n",
        "        # Valor p para la cola superior\n",
        "        valorp = 1 - stats.chi2.cdf(x=chi2o, df=df)\n",
        "    elif alternative == \"less\":\n",
        "        # Valor p para la cola inferior\n",
        "        valorp = stats.chi2.cdf(x=chi2o, df=df)\n",
        "    else:\n",
        "        # Valor p para ambas colas\n",
        "        LP = stats.chi2.cdf(x=chi2o, df=df)\n",
        "        UP = 1 - LP\n",
        "        valorp = 2 * np.min([LP, UP])\n",
        "    \n",
        "    # Devolver la estadística de prueba y el valor p correspondiente\n",
        "    return chi2o, valorp"
      ],
      "metadata": {
        "id": "f2wv3qyoOzr8"
      },
      "execution_count": 13,
      "outputs": []
    },
    {
      "cell_type": "markdown",
      "source": [
        "Para el ejemplo 1, recuerde que se quieren probar las siguientes hipótesis:\n",
        "\n",
        "$$\n",
        "H_0: \\sigma^2 = 2.25 \\\\\n",
        "H_1: \\sigma^2 \\neq 2.25\n",
        "$$"
      ],
      "metadata": {
        "id": "NVtRaFQ1Tvmk"
      }
    },
    {
      "cell_type": "code",
      "source": [
        "chi_value, pvalue = var_test(a=tiempo, popvar=2.25, alternative=\"two-sided\")\n",
        "print(\"El estadístico de prueba es: {:.2f}\".format(chi_value))\n",
        "print(\"El valor-p de la prueba de hipótesis es: {:.4f}\".format(pvalue))"
      ],
      "metadata": {
        "colab": {
          "base_uri": "https://localhost:8080/"
        },
        "id": "5QTR-vjIQzNu",
        "outputId": "caae47ec-751c-42b3-e773-f7d8ab0c2c68"
      },
      "execution_count": 15,
      "outputs": [
        {
          "output_type": "stream",
          "name": "stdout",
          "text": [
            "El estadístico de prueba es: 5.73\n",
            "El valor-p de la prueba de hipótesis es: 0.6447\n"
          ]
        }
      ]
    },
    {
      "cell_type": "markdown",
      "source": [
        "Ahora pruebe la función de la prueba de varianza con el ejemplo 2. rendimiento de combustible."
      ],
      "metadata": {
        "id": "4n0prO4aSOGr"
      }
    },
    {
      "cell_type": "code",
      "source": [
        "# Prueba de hipótesis\n",
        "\n"
      ],
      "metadata": {
        "id": "rfz1NJ5PSNTS"
      },
      "execution_count": null,
      "outputs": []
    },
    {
      "cell_type": "markdown",
      "source": [
        "## Caso 4. Prueba para la proporción de la categoría o evento de interes de una muestra."
      ],
      "metadata": {
        "id": "6sA9xn3_ScFw"
      }
    },
    {
      "cell_type": "markdown",
      "source": [
        "### Ejemplo 3. Análisis de calidad de un fabricante de semiconductores\n",
        "\n",
        "Un fabricante de semiconductores produce controladores utilizados en aplicaciones de motores de automóviles. El cliente exige que la caída del proceso o la fracción defectuosa en un paso de fabricación crítico sea inferior al 3% y que el fabricante demuestre la capacidad del proceso a este nivel de calidad utilizando $\\alpha=0.05$. El fabricante de semiconductores toma una muestra aleatoria de 200 dispositivos y determina que siete de ellos son defectuosos. ¿Puede el fabricante demostrar la capacidad del proceso para el cliente?\n",
        "\n",
        "__Hipótesis:__ en este caso se quiere indagar que la fracción defectuosa no supere el 3% de la producción, esto es $p<0.03$, por tanto, las hipótesis que se plantean son:\n",
        "\n",
        "$$\n",
        "H_0: p = 0.03 \\\\\n",
        "H_1: p < 0.03\n",
        "$$\n"
      ],
      "metadata": {
        "id": "ah4vbrLUTPP6"
      }
    },
    {
      "cell_type": "code",
      "source": [
        "def ztest_proportion(X, n, ppop, alternative=\"two-sided\"):\n",
        "  # Calcular el valor del estadístico Z\n",
        "  zvalue = (X - n*ppop) / np.sqrt(n*ppop*(1-ppop))\n",
        "\n",
        "  # Calcular el valor p dependiendo de la dirección de la hipótesis alternativa\n",
        "  if alternative == \"greater\":\n",
        "    valorp = 1 - stats.norm.cdf(zvalue)\n",
        "  elif alternative == \"less\":\n",
        "    valorp = stats.norm.cdf(zvalue)\n",
        "  else:\n",
        "    # En caso de que sea una hipótesis bilateral, calcular un valor p bilateral utilizando el valor absoluto de Z\n",
        "    valorp = (1 - stats.norm.cdf(np.abs(zvalue))) * 2\n",
        "  \n",
        "  # Devolver el valor del estadístico Z y el valor p\n",
        "  return zvalue, valorp"
      ],
      "metadata": {
        "id": "S-aDB2WqSlML"
      },
      "execution_count": 20,
      "outputs": []
    },
    {
      "cell_type": "code",
      "source": [
        "zvalue, pvalue = ztest_proportion(X=7, n=200, ppop=0.03, alternative=\"less\")\n",
        "print(\"El estadístico de prueba es: {:.2f}\".format(zvalue))\n",
        "print(\"El valor-p de la prueba de hipótesis es: {:.4f}\".format(pvalue))"
      ],
      "metadata": {
        "colab": {
          "base_uri": "https://localhost:8080/"
        },
        "id": "YHhiJUkfVqi_",
        "outputId": "a0704929-8267-41c9-d6ff-1507d698ddb1"
      },
      "execution_count": 21,
      "outputs": [
        {
          "output_type": "stream",
          "name": "stdout",
          "text": [
            "El estadístico de prueba es: 0.41\n",
            "El valor-p de la prueba de hipótesis es: 0.6608\n"
          ]
        }
      ]
    }
  ]
}