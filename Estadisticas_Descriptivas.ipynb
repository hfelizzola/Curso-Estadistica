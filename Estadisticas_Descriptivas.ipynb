{
  "cells": [
    {
      "attachments": {},
      "cell_type": "markdown",
      "metadata": {
        "colab_type": "text",
        "id": "view-in-github"
      },
      "source": [
        "<a href=\"https://colab.research.google.com/github/hfelizzola/Curso-Estadistica/blob/main/Estadisticas_Descriptivas.ipynb\" target=\"_parent\"><img src=\"https://colab.research.google.com/assets/colab-badge.svg\" alt=\"Open In Colab\"/></a>"
      ]
    },
    {
      "attachments": {},
      "cell_type": "markdown",
      "metadata": {
        "id": "LQ3m6Hl2gV2s"
      },
      "source": [
        "# Estadísticas descriptivas"
      ]
    },
    {
      "cell_type": "code",
      "execution_count": 1,
      "metadata": {
        "id": "1fLvlTsQfsdt"
      },
      "outputs": [],
      "source": [
        "# 1. Importa librerias\n",
        "import numpy as np\n",
        "import pandas as pd\n",
        "import matplotlib.pyplot as plt\n",
        "import seaborn as sns\n",
        "import os"
      ]
    },
    {
      "cell_type": "code",
      "execution_count": 5,
      "metadata": {
        "colab": {
          "base_uri": "https://localhost:8080/"
        },
        "id": "QyX8SpCbYoBQ",
        "outputId": "b5e42262-e2dd-4059-bc56-428dc0c9c3a2"
      },
      "outputs": [
        {
          "name": "stdout",
          "output_type": "stream",
          "text": [
            "Mounted at /gdrive\n"
          ]
        }
      ],
      "source": [
        "# 2. Conectar con la carpeta de drive\n",
        "from google.colab import drive\n",
        "drive.mount('/gdrive')"
      ]
    },
    {
      "cell_type": "code",
      "execution_count": 6,
      "metadata": {
        "id": "TIE79dWlYp9u"
      },
      "outputs": [],
      "source": [
        "# 3. Configurar el directorio de trabajo\n",
        "os.chdir('/gdrive/MyDrive/Colab Notebooks/Estadistica')"
      ]
    },
    {
      "cell_type": "code",
      "execution_count": 146,
      "metadata": {
        "colab": {
          "base_uri": "https://localhost:8080/"
        },
        "id": "OoPIJJYZh2DB",
        "outputId": "b9629737-fdf2-4a39-f23e-2266b4e7b70b"
      },
      "outputs": [
        {
          "name": "stdout",
          "output_type": "stream",
          "text": [
            "datos_clase.gsheet\t\t estatura_peso_clase.xlsx  W92S73-XLS-ENG.xlsx\n",
            "Estadisticas_Descriptivas.ipynb  movies.xlsx\n"
          ]
        }
      ],
      "source": [
        "!ls"
      ]
    },
    {
      "cell_type": "code",
      "execution_count": 147,
      "metadata": {
        "colab": {
          "base_uri": "https://localhost:8080/",
          "height": 206
        },
        "id": "p1MfUM1gjuUT",
        "outputId": "5d55e2e3-5f0c-40a8-eaf5-d945ba42c1b5"
      },
      "outputs": [
        {
          "data": {
            "text/html": [
              "\n",
              "  <div id=\"df-4a0a8e92-e7a2-405e-947c-2f53944bb033\">\n",
              "    <div class=\"colab-df-container\">\n",
              "      <div>\n",
              "<style scoped>\n",
              "    .dataframe tbody tr th:only-of-type {\n",
              "        vertical-align: middle;\n",
              "    }\n",
              "\n",
              "    .dataframe tbody tr th {\n",
              "        vertical-align: top;\n",
              "    }\n",
              "\n",
              "    .dataframe thead th {\n",
              "        text-align: right;\n",
              "    }\n",
              "</style>\n",
              "<table border=\"1\" class=\"dataframe\">\n",
              "  <thead>\n",
              "    <tr style=\"text-align: right;\">\n",
              "      <th></th>\n",
              "      <th>movie</th>\n",
              "      <th>budget</th>\n",
              "      <th>box_dom</th>\n",
              "      <th>box_world</th>\n",
              "      <th>distributor</th>\n",
              "      <th>genre</th>\n",
              "      <th>mpaa</th>\n",
              "      <th>month</th>\n",
              "      <th>day</th>\n",
              "      <th>year</th>\n",
              "    </tr>\n",
              "  </thead>\n",
              "  <tbody>\n",
              "    <tr>\n",
              "      <th>0</th>\n",
              "      <td>The Legend of Hercules</td>\n",
              "      <td>70.0</td>\n",
              "      <td>18.848538</td>\n",
              "      <td>61.402445</td>\n",
              "      <td>Lionsgate</td>\n",
              "      <td>Adventure</td>\n",
              "      <td>PG-13</td>\n",
              "      <td>1</td>\n",
              "      <td>10</td>\n",
              "      <td>2014</td>\n",
              "    </tr>\n",
              "    <tr>\n",
              "      <th>1</th>\n",
              "      <td>Gangster Squad</td>\n",
              "      <td>60.0</td>\n",
              "      <td>46.000903</td>\n",
              "      <td>104.100903</td>\n",
              "      <td>Warner Bros.</td>\n",
              "      <td>Drama</td>\n",
              "      <td>R</td>\n",
              "      <td>1</td>\n",
              "      <td>11</td>\n",
              "      <td>2013</td>\n",
              "    </tr>\n",
              "    <tr>\n",
              "      <th>2</th>\n",
              "      <td>Quartet</td>\n",
              "      <td>11.0</td>\n",
              "      <td>18.388357</td>\n",
              "      <td>56.178935</td>\n",
              "      <td>Weinstein Co.</td>\n",
              "      <td>Comedy</td>\n",
              "      <td>PG-13</td>\n",
              "      <td>1</td>\n",
              "      <td>11</td>\n",
              "      <td>2013</td>\n",
              "    </tr>\n",
              "    <tr>\n",
              "      <th>3</th>\n",
              "      <td>A Haunted House</td>\n",
              "      <td>2.5</td>\n",
              "      <td>40.041683</td>\n",
              "      <td>59.922558</td>\n",
              "      <td>Open Road</td>\n",
              "      <td>Comedy</td>\n",
              "      <td>R</td>\n",
              "      <td>1</td>\n",
              "      <td>11</td>\n",
              "      <td>2013</td>\n",
              "    </tr>\n",
              "    <tr>\n",
              "      <th>4</th>\n",
              "      <td>Contraband</td>\n",
              "      <td>25.0</td>\n",
              "      <td>66.528000</td>\n",
              "      <td>98.406855</td>\n",
              "      <td>Universal</td>\n",
              "      <td>Action</td>\n",
              "      <td>R</td>\n",
              "      <td>1</td>\n",
              "      <td>13</td>\n",
              "      <td>2012</td>\n",
              "    </tr>\n",
              "  </tbody>\n",
              "</table>\n",
              "</div>\n",
              "      <button class=\"colab-df-convert\" onclick=\"convertToInteractive('df-4a0a8e92-e7a2-405e-947c-2f53944bb033')\"\n",
              "              title=\"Convert this dataframe to an interactive table.\"\n",
              "              style=\"display:none;\">\n",
              "        \n",
              "  <svg xmlns=\"http://www.w3.org/2000/svg\" height=\"24px\"viewBox=\"0 0 24 24\"\n",
              "       width=\"24px\">\n",
              "    <path d=\"M0 0h24v24H0V0z\" fill=\"none\"/>\n",
              "    <path d=\"M18.56 5.44l.94 2.06.94-2.06 2.06-.94-2.06-.94-.94-2.06-.94 2.06-2.06.94zm-11 1L8.5 8.5l.94-2.06 2.06-.94-2.06-.94L8.5 2.5l-.94 2.06-2.06.94zm10 10l.94 2.06.94-2.06 2.06-.94-2.06-.94-.94-2.06-.94 2.06-2.06.94z\"/><path d=\"M17.41 7.96l-1.37-1.37c-.4-.4-.92-.59-1.43-.59-.52 0-1.04.2-1.43.59L10.3 9.45l-7.72 7.72c-.78.78-.78 2.05 0 2.83L4 21.41c.39.39.9.59 1.41.59.51 0 1.02-.2 1.41-.59l7.78-7.78 2.81-2.81c.8-.78.8-2.07 0-2.86zM5.41 20L4 18.59l7.72-7.72 1.47 1.35L5.41 20z\"/>\n",
              "  </svg>\n",
              "      </button>\n",
              "      \n",
              "  <style>\n",
              "    .colab-df-container {\n",
              "      display:flex;\n",
              "      flex-wrap:wrap;\n",
              "      gap: 12px;\n",
              "    }\n",
              "\n",
              "    .colab-df-convert {\n",
              "      background-color: #E8F0FE;\n",
              "      border: none;\n",
              "      border-radius: 50%;\n",
              "      cursor: pointer;\n",
              "      display: none;\n",
              "      fill: #1967D2;\n",
              "      height: 32px;\n",
              "      padding: 0 0 0 0;\n",
              "      width: 32px;\n",
              "    }\n",
              "\n",
              "    .colab-df-convert:hover {\n",
              "      background-color: #E2EBFA;\n",
              "      box-shadow: 0px 1px 2px rgba(60, 64, 67, 0.3), 0px 1px 3px 1px rgba(60, 64, 67, 0.15);\n",
              "      fill: #174EA6;\n",
              "    }\n",
              "\n",
              "    [theme=dark] .colab-df-convert {\n",
              "      background-color: #3B4455;\n",
              "      fill: #D2E3FC;\n",
              "    }\n",
              "\n",
              "    [theme=dark] .colab-df-convert:hover {\n",
              "      background-color: #434B5C;\n",
              "      box-shadow: 0px 1px 3px 1px rgba(0, 0, 0, 0.15);\n",
              "      filter: drop-shadow(0px 1px 2px rgba(0, 0, 0, 0.3));\n",
              "      fill: #FFFFFF;\n",
              "    }\n",
              "  </style>\n",
              "\n",
              "      <script>\n",
              "        const buttonEl =\n",
              "          document.querySelector('#df-4a0a8e92-e7a2-405e-947c-2f53944bb033 button.colab-df-convert');\n",
              "        buttonEl.style.display =\n",
              "          google.colab.kernel.accessAllowed ? 'block' : 'none';\n",
              "\n",
              "        async function convertToInteractive(key) {\n",
              "          const element = document.querySelector('#df-4a0a8e92-e7a2-405e-947c-2f53944bb033');\n",
              "          const dataTable =\n",
              "            await google.colab.kernel.invokeFunction('convertToInteractive',\n",
              "                                                     [key], {});\n",
              "          if (!dataTable) return;\n",
              "\n",
              "          const docLinkHtml = 'Like what you see? Visit the ' +\n",
              "            '<a target=\"_blank\" href=https://colab.research.google.com/notebooks/data_table.ipynb>data table notebook</a>'\n",
              "            + ' to learn more about interactive tables.';\n",
              "          element.innerHTML = '';\n",
              "          dataTable['output_type'] = 'display_data';\n",
              "          await google.colab.output.renderOutput(dataTable, element);\n",
              "          const docLink = document.createElement('div');\n",
              "          docLink.innerHTML = docLinkHtml;\n",
              "          element.appendChild(docLink);\n",
              "        }\n",
              "      </script>\n",
              "    </div>\n",
              "  </div>\n",
              "  "
            ],
            "text/plain": [
              "                    movie  budget    box_dom   box_world    distributor  \\\n",
              "0  The Legend of Hercules    70.0  18.848538   61.402445      Lionsgate   \n",
              "1          Gangster Squad    60.0  46.000903  104.100903   Warner Bros.   \n",
              "2                 Quartet    11.0  18.388357   56.178935  Weinstein Co.   \n",
              "3         A Haunted House     2.5  40.041683   59.922558      Open Road   \n",
              "4              Contraband    25.0  66.528000   98.406855      Universal   \n",
              "\n",
              "       genre   mpaa  month  day  year  \n",
              "0  Adventure  PG-13      1   10  2014  \n",
              "1      Drama      R      1   11  2013  \n",
              "2     Comedy  PG-13      1   11  2013  \n",
              "3     Comedy      R      1   11  2013  \n",
              "4     Action      R      1   13  2012  "
            ]
          },
          "execution_count": 147,
          "metadata": {},
          "output_type": "execute_result"
        }
      ],
      "source": [
        "# 4. Cargar datos de las peliculas\n",
        "movies = pd.read_excel(\"movies.xlsx\")\n",
        "movies.head()"
      ]
    },
    {
      "attachments": {},
      "cell_type": "markdown",
      "metadata": {
        "id": "WC-RpuQIkve2"
      },
      "source": [
        "## Tablas de frecuencia y gráficos"
      ]
    },
    {
      "attachments": {},
      "cell_type": "markdown",
      "metadata": {
        "id": "vLa6Ta1csK-E"
      },
      "source": [
        "### Genero"
      ]
    },
    {
      "cell_type": "code",
      "execution_count": 148,
      "metadata": {
        "colab": {
          "base_uri": "https://localhost:8080/"
        },
        "id": "T3po7sAWkuz1",
        "outputId": "2f366967-8ba6-4ca1-871e-c49052c9d06e"
      },
      "outputs": [
        {
          "data": {
            "text/plain": [
              "genre\n",
              "Drama                  239\n",
              "Comedy                 163\n",
              "Thriller/Suspense      120\n",
              "Action                 105\n",
              "Adventure               96\n",
              "Horror                  54\n",
              "Romantic Comedy         38\n",
              "Documentary             22\n",
              "Black Comedy            16\n",
              "Musical                  9\n",
              "Concert/Performance      7\n",
              "Western                  4\n",
              "dtype: int64"
            ]
          },
          "execution_count": 148,
          "metadata": {},
          "output_type": "execute_result"
        }
      ],
      "source": [
        "# Frecuencia\n",
        "movies.groupby(\"genre\").size().sort_values(ascending=False)"
      ]
    },
    {
      "attachments": {},
      "cell_type": "markdown",
      "metadata": {
        "id": "sl8WX-mOhAq7"
      },
      "source": [
        "La tabla tiene 873 filas y 10 columnas"
      ]
    },
    {
      "cell_type": "code",
      "execution_count": 149,
      "metadata": {
        "colab": {
          "base_uri": "https://localhost:8080/"
        },
        "id": "trOk6_tHgtHO",
        "outputId": "fe0476b5-9b81-4f56-e283-ac737e6b5f20"
      },
      "outputs": [
        {
          "data": {
            "text/plain": [
              "(873, 10)"
            ]
          },
          "execution_count": 149,
          "metadata": {},
          "output_type": "execute_result"
        }
      ],
      "source": [
        "# Consultar número de filas y columnas de la tabla\n",
        "movies.shape"
      ]
    },
    {
      "cell_type": "code",
      "execution_count": 150,
      "metadata": {
        "colab": {
          "base_uri": "https://localhost:8080/"
        },
        "id": "tTk8uJcNhEbG",
        "outputId": "97d46b9f-341d-457b-ae42-ad677144d4c5"
      },
      "outputs": [
        {
          "data": {
            "text/plain": [
              "genre\n",
              "Drama                  0.273769\n",
              "Comedy                 0.186712\n",
              "Thriller/Suspense      0.137457\n",
              "Action                 0.120275\n",
              "Adventure              0.109966\n",
              "Horror                 0.061856\n",
              "Romantic Comedy        0.043528\n",
              "Documentary            0.025200\n",
              "Black Comedy           0.018328\n",
              "Musical                0.010309\n",
              "Concert/Performance    0.008018\n",
              "Western                0.004582\n",
              "dtype: float64"
            ]
          },
          "execution_count": 150,
          "metadata": {},
          "output_type": "execute_result"
        }
      ],
      "source": [
        "# Porcentaje\n",
        "movies.groupby(\"genre\").size().sort_values(ascending=False)/movies.shape[0]"
      ]
    },
    {
      "cell_type": "code",
      "execution_count": 151,
      "metadata": {
        "colab": {
          "base_uri": "https://localhost:8080/"
        },
        "id": "GmKjcJL_ih7I",
        "outputId": "2db214bd-c6b7-48b7-def3-0d6da2802b82"
      },
      "outputs": [
        {
          "data": {
            "text/plain": [
              "genre\n",
              "Drama                  0.273769\n",
              "Comedy                 0.460481\n",
              "Thriller/Suspense      0.597938\n",
              "Action                 0.718213\n",
              "Adventure              0.828179\n",
              "Horror                 0.890034\n",
              "Romantic Comedy        0.933562\n",
              "Documentary            0.958763\n",
              "Black Comedy           0.977090\n",
              "Musical                0.987400\n",
              "Concert/Performance    0.995418\n",
              "Western                1.000000\n",
              "dtype: float64"
            ]
          },
          "execution_count": 151,
          "metadata": {},
          "output_type": "execute_result"
        }
      ],
      "source": [
        "# Porcentaje acumulado\n",
        "movies.groupby(\"genre\").size().sort_values(ascending=False).cumsum()/movies.shape[0]"
      ]
    },
    {
      "cell_type": "code",
      "execution_count": 152,
      "metadata": {
        "colab": {
          "base_uri": "https://localhost:8080/",
          "height": 391
        },
        "id": "U6l9AmnsmTGj",
        "outputId": "34871ed5-400d-4199-ca5c-273cf5b6cbec"
      },
      "outputs": [
        {
          "data": {
            "image/png": "[encoded data removed]",
            "text/plain": [
              "<Figure size 432x288 with 1 Axes>"
            ]
          },
          "metadata": {
            "needs_background": "light"
          },
          "output_type": "display_data"
        }
      ],
      "source": [
        "movies.groupby(\"genre\").size().sort_values(ascending=False).plot.bar()\n",
        "plt.title(\"Películas por genero\")\n",
        "plt.xlabel(\"Genero\")\n",
        "plt.ylabel(\"# Películas\")\n",
        "plt.show()"
      ]
    },
    {
      "cell_type": "code",
      "execution_count": 153,
      "metadata": {
        "colab": {
          "base_uri": "https://localhost:8080/",
          "height": 266
        },
        "id": "IXgcEuvKrctB",
        "outputId": "3b6a61f2-06b4-49ec-cea3-b17b8c8b2802"
      },
      "outputs": [
        {
          "data": {
            "text/plain": [
              "<AxesSubplot:ylabel='None'>"
            ]
          },
          "execution_count": 153,
          "metadata": {},
          "output_type": "execute_result"
        },
        {
          "data": {
            "image/png": "[encoded data removed]",
            "text/plain": [
              "<Figure size 432x288 with 1 Axes>"
            ]
          },
          "metadata": {},
          "output_type": "display_data"
        }
      ],
      "source": [
        "movies.groupby(\"genre\").size().sort_values(ascending=False).plot.pie()"
      ]
    },
    {
      "attachments": {},
      "cell_type": "markdown",
      "metadata": {
        "id": "Gruu5Q3URaPH"
      },
      "source": [
        "### Distributor"
      ]
    },
    {
      "cell_type": "code",
      "execution_count": 154,
      "metadata": {
        "colab": {
          "base_uri": "https://localhost:8080/",
          "height": 424
        },
        "id": "BwEBQtFcRo6o",
        "outputId": "2a576db0-3142-4acf-aa28-1877b9932873"
      },
      "outputs": [
        {
          "data": {
            "text/html": [
              "\n",
              "  <div id=\"df-d93dc90c-abb4-493b-93e9-eb73f9b34135\">\n",
              "    <div class=\"colab-df-container\">\n",
              "      <div>\n",
              "<style scoped>\n",
              "    .dataframe tbody tr th:only-of-type {\n",
              "        vertical-align: middle;\n",
              "    }\n",
              "\n",
              "    .dataframe tbody tr th {\n",
              "        vertical-align: top;\n",
              "    }\n",
              "\n",
              "    .dataframe thead th {\n",
              "        text-align: right;\n",
              "    }\n",
              "</style>\n",
              "<table border=\"1\" class=\"dataframe\">\n",
              "  <thead>\n",
              "    <tr style=\"text-align: right;\">\n",
              "      <th></th>\n",
              "      <th>distributor</th>\n",
              "      <th>Porcentaje</th>\n",
              "    </tr>\n",
              "  </thead>\n",
              "  <tbody>\n",
              "    <tr>\n",
              "      <th>0</th>\n",
              "      <td>Warner Bros.</td>\n",
              "      <td>0.112257</td>\n",
              "    </tr>\n",
              "    <tr>\n",
              "      <th>1</th>\n",
              "      <td>Sony Pictures</td>\n",
              "      <td>0.091638</td>\n",
              "    </tr>\n",
              "    <tr>\n",
              "      <th>2</th>\n",
              "      <td>Universal</td>\n",
              "      <td>0.085911</td>\n",
              "    </tr>\n",
              "    <tr>\n",
              "      <th>3</th>\n",
              "      <td>20th Century Fox</td>\n",
              "      <td>0.083620</td>\n",
              "    </tr>\n",
              "    <tr>\n",
              "      <th>4</th>\n",
              "      <td>Paramount Pictures</td>\n",
              "      <td>0.066438</td>\n",
              "    </tr>\n",
              "    <tr>\n",
              "      <th>...</th>\n",
              "      <td>...</td>\n",
              "      <td>...</td>\n",
              "    </tr>\n",
              "    <tr>\n",
              "      <th>96</th>\n",
              "      <td>Brothers' Ink Productions</td>\n",
              "      <td>0.001145</td>\n",
              "    </tr>\n",
              "    <tr>\n",
              "      <th>97</th>\n",
              "      <td>Peace Film LLC</td>\n",
              "      <td>0.001145</td>\n",
              "    </tr>\n",
              "    <tr>\n",
              "      <th>98</th>\n",
              "      <td>Phase 4 Films</td>\n",
              "      <td>0.001145</td>\n",
              "    </tr>\n",
              "    <tr>\n",
              "      <th>99</th>\n",
              "      <td>Picturehouse</td>\n",
              "      <td>0.001145</td>\n",
              "    </tr>\n",
              "    <tr>\n",
              "      <th>100</th>\n",
              "      <td>Yash Raj Films</td>\n",
              "      <td>0.001145</td>\n",
              "    </tr>\n",
              "  </tbody>\n",
              "</table>\n",
              "<p>101 rows × 2 columns</p>\n",
              "</div>\n",
              "      <button class=\"colab-df-convert\" onclick=\"convertToInteractive('df-d93dc90c-abb4-493b-93e9-eb73f9b34135')\"\n",
              "              title=\"Convert this dataframe to an interactive table.\"\n",
              "              style=\"display:none;\">\n",
              "        \n",
              "  <svg xmlns=\"http://www.w3.org/2000/svg\" height=\"24px\"viewBox=\"0 0 24 24\"\n",
              "       width=\"24px\">\n",
              "    <path d=\"M0 0h24v24H0V0z\" fill=\"none\"/>\n",
              "    <path d=\"M18.56 5.44l.94 2.06.94-2.06 2.06-.94-2.06-.94-.94-2.06-.94 2.06-2.06.94zm-11 1L8.5 8.5l.94-2.06 2.06-.94-2.06-.94L8.5 2.5l-.94 2.06-2.06.94zm10 10l.94 2.06.94-2.06 2.06-.94-2.06-.94-.94-2.06-.94 2.06-2.06.94z\"/><path d=\"M17.41 7.96l-1.37-1.37c-.4-.4-.92-.59-1.43-.59-.52 0-1.04.2-1.43.59L10.3 9.45l-7.72 7.72c-.78.78-.78 2.05 0 2.83L4 21.41c.39.39.9.59 1.41.59.51 0 1.02-.2 1.41-.59l7.78-7.78 2.81-2.81c.8-.78.8-2.07 0-2.86zM5.41 20L4 18.59l7.72-7.72 1.47 1.35L5.41 20z\"/>\n",
              "  </svg>\n",
              "      </button>\n",
              "      \n",
              "  <style>\n",
              "    .colab-df-container {\n",
              "      display:flex;\n",
              "      flex-wrap:wrap;\n",
              "      gap: 12px;\n",
              "    }\n",
              "\n",
              "    .colab-df-convert {\n",
              "      background-color: #E8F0FE;\n",
              "      border: none;\n",
              "      border-radius: 50%;\n",
              "      cursor: pointer;\n",
              "      display: none;\n",
              "      fill: #1967D2;\n",
              "      height: 32px;\n",
              "      padding: 0 0 0 0;\n",
              "      width: 32px;\n",
              "    }\n",
              "\n",
              "    .colab-df-convert:hover {\n",
              "      background-color: #E2EBFA;\n",
              "      box-shadow: 0px 1px 2px rgba(60, 64, 67, 0.3), 0px 1px 3px 1px rgba(60, 64, 67, 0.15);\n",
              "      fill: #174EA6;\n",
              "    }\n",
              "\n",
              "    [theme=dark] .colab-df-convert {\n",
              "      background-color: #3B4455;\n",
              "      fill: #D2E3FC;\n",
              "    }\n",
              "\n",
              "    [theme=dark] .colab-df-convert:hover {\n",
              "      background-color: #434B5C;\n",
              "      box-shadow: 0px 1px 3px 1px rgba(0, 0, 0, 0.15);\n",
              "      filter: drop-shadow(0px 1px 2px rgba(0, 0, 0, 0.3));\n",
              "      fill: #FFFFFF;\n",
              "    }\n",
              "  </style>\n",
              "\n",
              "      <script>\n",
              "        const buttonEl =\n",
              "          document.querySelector('#df-d93dc90c-abb4-493b-93e9-eb73f9b34135 button.colab-df-convert');\n",
              "        buttonEl.style.display =\n",
              "          google.colab.kernel.accessAllowed ? 'block' : 'none';\n",
              "\n",
              "        async function convertToInteractive(key) {\n",
              "          const element = document.querySelector('#df-d93dc90c-abb4-493b-93e9-eb73f9b34135');\n",
              "          const dataTable =\n",
              "            await google.colab.kernel.invokeFunction('convertToInteractive',\n",
              "                                                     [key], {});\n",
              "          if (!dataTable) return;\n",
              "\n",
              "          const docLinkHtml = 'Like what you see? Visit the ' +\n",
              "            '<a target=\"_blank\" href=https://colab.research.google.com/notebooks/data_table.ipynb>data table notebook</a>'\n",
              "            + ' to learn more about interactive tables.';\n",
              "          element.innerHTML = '';\n",
              "          dataTable['output_type'] = 'display_data';\n",
              "          await google.colab.output.renderOutput(dataTable, element);\n",
              "          const docLink = document.createElement('div');\n",
              "          docLink.innerHTML = docLinkHtml;\n",
              "          element.appendChild(docLink);\n",
              "        }\n",
              "      </script>\n",
              "    </div>\n",
              "  </div>\n",
              "  "
            ],
            "text/plain": [
              "                   distributor  Porcentaje\n",
              "0                 Warner Bros.    0.112257\n",
              "1                Sony Pictures    0.091638\n",
              "2                    Universal    0.085911\n",
              "3             20th Century Fox    0.083620\n",
              "4           Paramount Pictures    0.066438\n",
              "..                         ...         ...\n",
              "96   Brothers' Ink Productions    0.001145\n",
              "97              Peace Film LLC    0.001145\n",
              "98               Phase 4 Films    0.001145\n",
              "99                Picturehouse    0.001145\n",
              "100             Yash Raj Films    0.001145\n",
              "\n",
              "[101 rows x 2 columns]"
            ]
          },
          "execution_count": 154,
          "metadata": {},
          "output_type": "execute_result"
        }
      ],
      "source": [
        "(movies.groupby(\"distributor\").size().sort_values(ascending=False)/movies.shape[0]).reset_index(name='Porcentaje')"
      ]
    },
    {
      "attachments": {},
      "cell_type": "markdown",
      "metadata": {
        "id": "t0VbdFdNHQYY"
      },
      "source": [
        "Cuando se tiene una numero considerable de categorías, se recomienda gráficar los mas importantes según su frecuencia o porcentaje."
      ]
    },
    {
      "cell_type": "code",
      "execution_count": 155,
      "metadata": {
        "colab": {
          "base_uri": "https://localhost:8080/"
        },
        "id": "OBkpb16aHKG-",
        "outputId": "70d243b1-60a8-4983-f95a-a6e9c31e989f"
      },
      "outputs": [
        {
          "data": {
            "text/plain": [
              "distributor\n",
              "20th Century Fox             73\n",
              "A24                           8\n",
              "AFFRM                         1\n",
              "ARC Entertainment             1\n",
              "Alchemy                       6\n",
              "                             ..\n",
              "Weinstein Co.                37\n",
              "Weinstein/Dimension           2\n",
              "Well Go USA                   1\n",
              "Wrekin Hill Entertainment     2\n",
              "Yash Raj Films                1\n",
              "Length: 101, dtype: int64"
            ]
          },
          "execution_count": 155,
          "metadata": {},
          "output_type": "execute_result"
        }
      ],
      "source": [
        "movies.groupby(\"distributor\").size()"
      ]
    },
    {
      "attachments": {},
      "cell_type": "markdown",
      "metadata": {
        "id": "5GtOlFm3Ldyz"
      },
      "source": [
        "## Distribución de frecuencia"
      ]
    },
    {
      "cell_type": "code",
      "execution_count": 156,
      "metadata": {
        "colab": {
          "base_uri": "https://localhost:8080/"
        },
        "id": "yjru906_K-9g",
        "outputId": "d665bb87-b592-476a-d465-b8fb53dfc1cc"
      },
      "outputs": [
        {
          "data": {
            "text/plain": [
              "(array([474, 184,  75,  36,  39,  29,  21,   6,   5,   4]),\n",
              " array([  0,  30,  60,  90, 120, 150, 180, 210, 240, 270, 300]))"
            ]
          },
          "execution_count": 156,
          "metadata": {},
          "output_type": "execute_result"
        }
      ],
      "source": [
        "# Distribución de frecuencia\n",
        "int_budget = np.arange(0,330,30)\n",
        "np.histogram(movies['budget'], bins=int_budget)\n"
      ]
    },
    {
      "cell_type": "code",
      "execution_count": 157,
      "metadata": {
        "colab": {
          "base_uri": "https://localhost:8080/",
          "height": 281
        },
        "id": "8LJOktyALcfF",
        "outputId": "52a0df7e-b2af-4ec6-986a-097cd02c1e6d"
      },
      "outputs": [
        {
          "data": {
            "image/png": "[encoded data removed]",
            "text/plain": [
              "<Figure size 432x288 with 1 Axes>"
            ]
          },
          "metadata": {
            "needs_background": "light"
          },
          "output_type": "display_data"
        }
      ],
      "source": [
        "movies['budget'].plot.hist(bins=int_budget, edgecolor='w')\n",
        "plt.title(\"Histograma para el presupuesto\")\n",
        "plt.show()"
      ]
    },
    {
      "attachments": {},
      "cell_type": "markdown",
      "metadata": {
        "id": "17cbw5k0Kqfj"
      },
      "source": [
        "## Estadísticas descriptivas"
      ]
    },
    {
      "cell_type": "code",
      "execution_count": 158,
      "metadata": {
        "colab": {
          "base_uri": "https://localhost:8080/",
          "height": 300
        },
        "id": "fq3znafgKwUn",
        "outputId": "8ee964a3-f2ca-4790-cfe4-ae55b91567a4"
      },
      "outputs": [
        {
          "data": {
            "text/html": [
              "\n",
              "  <div id=\"df-146904a7-cd27-41db-bf8f-c0af373f1463\">\n",
              "    <div class=\"colab-df-container\">\n",
              "      <div>\n",
              "<style scoped>\n",
              "    .dataframe tbody tr th:only-of-type {\n",
              "        vertical-align: middle;\n",
              "    }\n",
              "\n",
              "    .dataframe tbody tr th {\n",
              "        vertical-align: top;\n",
              "    }\n",
              "\n",
              "    .dataframe thead th {\n",
              "        text-align: right;\n",
              "    }\n",
              "</style>\n",
              "<table border=\"1\" class=\"dataframe\">\n",
              "  <thead>\n",
              "    <tr style=\"text-align: right;\">\n",
              "      <th></th>\n",
              "      <th>budget</th>\n",
              "      <th>box_dom</th>\n",
              "      <th>box_world</th>\n",
              "    </tr>\n",
              "  </thead>\n",
              "  <tbody>\n",
              "    <tr>\n",
              "      <th>count</th>\n",
              "      <td>873.000000</td>\n",
              "      <td>873.000000</td>\n",
              "      <td>873.000000</td>\n",
              "    </tr>\n",
              "    <tr>\n",
              "      <th>mean</th>\n",
              "      <td>44.446338</td>\n",
              "      <td>57.448418</td>\n",
              "      <td>143.170251</td>\n",
              "    </tr>\n",
              "    <tr>\n",
              "      <th>std</th>\n",
              "      <td>54.005903</td>\n",
              "      <td>84.265678</td>\n",
              "      <td>235.686308</td>\n",
              "    </tr>\n",
              "    <tr>\n",
              "      <th>min</th>\n",
              "      <td>0.003967</td>\n",
              "      <td>0.000000</td>\n",
              "      <td>0.000000</td>\n",
              "    </tr>\n",
              "    <tr>\n",
              "      <th>25%</th>\n",
              "      <td>8.000000</td>\n",
              "      <td>4.231500</td>\n",
              "      <td>10.106975</td>\n",
              "    </tr>\n",
              "    <tr>\n",
              "      <th>50%</th>\n",
              "      <td>25.000000</td>\n",
              "      <td>30.542576</td>\n",
              "      <td>56.238045</td>\n",
              "    </tr>\n",
              "    <tr>\n",
              "      <th>75%</th>\n",
              "      <td>58.000000</td>\n",
              "      <td>72.688614</td>\n",
              "      <td>160.903019</td>\n",
              "    </tr>\n",
              "    <tr>\n",
              "      <th>max</th>\n",
              "      <td>300.000000</td>\n",
              "      <td>928.788515</td>\n",
              "      <td>2050.788515</td>\n",
              "    </tr>\n",
              "  </tbody>\n",
              "</table>\n",
              "</div>\n",
              "      <button class=\"colab-df-convert\" onclick=\"convertToInteractive('df-146904a7-cd27-41db-bf8f-c0af373f1463')\"\n",
              "              title=\"Convert this dataframe to an interactive table.\"\n",
              "              style=\"display:none;\">\n",
              "        \n",
              "  <svg xmlns=\"http://www.w3.org/2000/svg\" height=\"24px\"viewBox=\"0 0 24 24\"\n",
              "       width=\"24px\">\n",
              "    <path d=\"M0 0h24v24H0V0z\" fill=\"none\"/>\n",
              "    <path d=\"M18.56 5.44l.94 2.06.94-2.06 2.06-.94-2.06-.94-.94-2.06-.94 2.06-2.06.94zm-11 1L8.5 8.5l.94-2.06 2.06-.94-2.06-.94L8.5 2.5l-.94 2.06-2.06.94zm10 10l.94 2.06.94-2.06 2.06-.94-2.06-.94-.94-2.06-.94 2.06-2.06.94z\"/><path d=\"M17.41 7.96l-1.37-1.37c-.4-.4-.92-.59-1.43-.59-.52 0-1.04.2-1.43.59L10.3 9.45l-7.72 7.72c-.78.78-.78 2.05 0 2.83L4 21.41c.39.39.9.59 1.41.59.51 0 1.02-.2 1.41-.59l7.78-7.78 2.81-2.81c.8-.78.8-2.07 0-2.86zM5.41 20L4 18.59l7.72-7.72 1.47 1.35L5.41 20z\"/>\n",
              "  </svg>\n",
              "      </button>\n",
              "      \n",
              "  <style>\n",
              "    .colab-df-container {\n",
              "      display:flex;\n",
              "      flex-wrap:wrap;\n",
              "      gap: 12px;\n",
              "    }\n",
              "\n",
              "    .colab-df-convert {\n",
              "      background-color: #E8F0FE;\n",
              "      border: none;\n",
              "      border-radius: 50%;\n",
              "      cursor: pointer;\n",
              "      display: none;\n",
              "      fill: #1967D2;\n",
              "      height: 32px;\n",
              "      padding: 0 0 0 0;\n",
              "      width: 32px;\n",
              "    }\n",
              "\n",
              "    .colab-df-convert:hover {\n",
              "      background-color: #E2EBFA;\n",
              "      box-shadow: 0px 1px 2px rgba(60, 64, 67, 0.3), 0px 1px 3px 1px rgba(60, 64, 67, 0.15);\n",
              "      fill: #174EA6;\n",
              "    }\n",
              "\n",
              "    [theme=dark] .colab-df-convert {\n",
              "      background-color: #3B4455;\n",
              "      fill: #D2E3FC;\n",
              "    }\n",
              "\n",
              "    [theme=dark] .colab-df-convert:hover {\n",
              "      background-color: #434B5C;\n",
              "      box-shadow: 0px 1px 3px 1px rgba(0, 0, 0, 0.15);\n",
              "      filter: drop-shadow(0px 1px 2px rgba(0, 0, 0, 0.3));\n",
              "      fill: #FFFFFF;\n",
              "    }\n",
              "  </style>\n",
              "\n",
              "      <script>\n",
              "        const buttonEl =\n",
              "          document.querySelector('#df-146904a7-cd27-41db-bf8f-c0af373f1463 button.colab-df-convert');\n",
              "        buttonEl.style.display =\n",
              "          google.colab.kernel.accessAllowed ? 'block' : 'none';\n",
              "\n",
              "        async function convertToInteractive(key) {\n",
              "          const element = document.querySelector('#df-146904a7-cd27-41db-bf8f-c0af373f1463');\n",
              "          const dataTable =\n",
              "            await google.colab.kernel.invokeFunction('convertToInteractive',\n",
              "                                                     [key], {});\n",
              "          if (!dataTable) return;\n",
              "\n",
              "          const docLinkHtml = 'Like what you see? Visit the ' +\n",
              "            '<a target=\"_blank\" href=https://colab.research.google.com/notebooks/data_table.ipynb>data table notebook</a>'\n",
              "            + ' to learn more about interactive tables.';\n",
              "          element.innerHTML = '';\n",
              "          dataTable['output_type'] = 'display_data';\n",
              "          await google.colab.output.renderOutput(dataTable, element);\n",
              "          const docLink = document.createElement('div');\n",
              "          docLink.innerHTML = docLinkHtml;\n",
              "          element.appendChild(docLink);\n",
              "        }\n",
              "      </script>\n",
              "    </div>\n",
              "  </div>\n",
              "  "
            ],
            "text/plain": [
              "           budget     box_dom    box_world\n",
              "count  873.000000  873.000000   873.000000\n",
              "mean    44.446338   57.448418   143.170251\n",
              "std     54.005903   84.265678   235.686308\n",
              "min      0.003967    0.000000     0.000000\n",
              "25%      8.000000    4.231500    10.106975\n",
              "50%     25.000000   30.542576    56.238045\n",
              "75%     58.000000   72.688614   160.903019\n",
              "max    300.000000  928.788515  2050.788515"
            ]
          },
          "execution_count": 158,
          "metadata": {},
          "output_type": "execute_result"
        }
      ],
      "source": [
        "# Resumen estadístico de las columnas numéricas\n",
        "movies[['budget','box_dom','box_world']].describe()"
      ]
    },
    {
      "cell_type": "code",
      "execution_count": 159,
      "metadata": {
        "colab": {
          "base_uri": "https://localhost:8080/"
        },
        "id": "7mix3gOY6Op8",
        "outputId": "947f71f4-45bd-4c92-b78e-754c9f82a2e9"
      },
      "outputs": [
        {
          "data": {
            "text/plain": [
              "44.44633787743414"
            ]
          },
          "execution_count": 159,
          "metadata": {},
          "output_type": "execute_result"
        }
      ],
      "source": [
        "# Media\n",
        "movies['budget'].mean()"
      ]
    },
    {
      "cell_type": "code",
      "execution_count": 160,
      "metadata": {
        "colab": {
          "base_uri": "https://localhost:8080/"
        },
        "id": "_xj05d2J6njR",
        "outputId": "caa9bd69-54dc-4d68-8183-90801da31f82"
      },
      "outputs": [
        {
          "data": {
            "text/plain": [
              "25.0"
            ]
          },
          "execution_count": 160,
          "metadata": {},
          "output_type": "execute_result"
        }
      ],
      "source": [
        "# Mediana\n",
        "movies['budget'].median()"
      ]
    },
    {
      "cell_type": "code",
      "execution_count": 161,
      "metadata": {
        "colab": {
          "base_uri": "https://localhost:8080/"
        },
        "id": "_5r_k4Ny6r_A",
        "outputId": "3f965acf-d21d-4ccb-ccbf-50d6ba3ed2d2"
      },
      "outputs": [
        {
          "data": {
            "text/plain": [
              "0    40.0\n",
              "dtype: float64"
            ]
          },
          "execution_count": 161,
          "metadata": {},
          "output_type": "execute_result"
        }
      ],
      "source": [
        "# Moda\n",
        "movies['budget'].mode()"
      ]
    },
    {
      "cell_type": "code",
      "execution_count": 162,
      "metadata": {
        "colab": {
          "base_uri": "https://localhost:8080/"
        },
        "id": "HxG1ZSVn6098",
        "outputId": "a0e69f21-0675-45b2-e639-2527a5aa32e2"
      },
      "outputs": [
        {
          "data": {
            "text/plain": [
              "2916.6375758285676"
            ]
          },
          "execution_count": 162,
          "metadata": {},
          "output_type": "execute_result"
        }
      ],
      "source": [
        "# Varianza\n",
        "movies['budget'].var()"
      ]
    },
    {
      "cell_type": "code",
      "execution_count": 163,
      "metadata": {
        "colab": {
          "base_uri": "https://localhost:8080/"
        },
        "id": "vwzBeA2268B8",
        "outputId": "44e89fcc-9026-480d-b522-9ed6eb9bae6c"
      },
      "outputs": [
        {
          "data": {
            "text/plain": [
              "54.00590315723428"
            ]
          },
          "execution_count": 163,
          "metadata": {},
          "output_type": "execute_result"
        }
      ],
      "source": [
        "# Desviación estandar\n",
        "movies['budget'].std()"
      ]
    },
    {
      "cell_type": "code",
      "execution_count": 164,
      "metadata": {
        "colab": {
          "base_uri": "https://localhost:8080/"
        },
        "id": "Ll96yfJu6_dr",
        "outputId": "a5a317d9-acba-451d-a88c-50f4d149aeb9"
      },
      "outputs": [
        {
          "data": {
            "text/plain": [
              "299.996033"
            ]
          },
          "execution_count": 164,
          "metadata": {},
          "output_type": "execute_result"
        }
      ],
      "source": [
        "# Rango\n",
        "movies['budget'].max() - movies['budget'].min()"
      ]
    },
    {
      "cell_type": "code",
      "execution_count": 165,
      "metadata": {
        "colab": {
          "base_uri": "https://localhost:8080/"
        },
        "id": "C9bqIFyE6_Z2",
        "outputId": "8359b5f9-3b7d-4200-c28b-04faef9a4b78"
      },
      "outputs": [
        {
          "data": {
            "text/plain": [
              "1.88647826624673"
            ]
          },
          "execution_count": 165,
          "metadata": {},
          "output_type": "execute_result"
        }
      ],
      "source": [
        "# Coeficiente de asimetria\n",
        "movies['budget'].skew()"
      ]
    },
    {
      "cell_type": "code",
      "execution_count": 166,
      "metadata": {
        "colab": {
          "base_uri": "https://localhost:8080/"
        },
        "id": "ZicX-LJv7ipU",
        "outputId": "00b895fd-f9e5-48cf-bca5-72b1ebef86aa"
      },
      "outputs": [
        {
          "data": {
            "text/plain": [
              "3.3780346028665864"
            ]
          },
          "execution_count": 166,
          "metadata": {},
          "output_type": "execute_result"
        }
      ],
      "source": [
        "# Curtosis\n",
        "movies['budget'].kurt()"
      ]
    },
    {
      "cell_type": "code",
      "execution_count": 167,
      "metadata": {
        "colab": {
          "base_uri": "https://localhost:8080/"
        },
        "id": "REQyYocT8OuG",
        "outputId": "e89f31d7-0471-4fcf-8f6b-c1ee58d7a3f3"
      },
      "outputs": [
        {
          "data": {
            "text/plain": [
              "0.25     8.0\n",
              "0.50    25.0\n",
              "0.75    58.0\n",
              "Name: budget, dtype: float64"
            ]
          },
          "execution_count": 167,
          "metadata": {},
          "output_type": "execute_result"
        }
      ],
      "source": [
        "# Cuartiles\n",
        "movies['budget'].quantile([0.25,0.50,0.75])"
      ]
    },
    {
      "cell_type": "code",
      "execution_count": 168,
      "metadata": {
        "colab": {
          "base_uri": "https://localhost:8080/"
        },
        "id": "bueLqmvm8dxQ",
        "outputId": "e151d0b3-924c-4e0e-8650-d4709735b0f0"
      },
      "outputs": [
        {
          "data": {
            "text/plain": [
              "0.1      1.5\n",
              "0.2      5.0\n",
              "0.3     10.0\n",
              "0.4     17.0\n",
              "0.5     25.0\n",
              "0.6     35.0\n",
              "0.7     45.4\n",
              "0.8     70.0\n",
              "0.9    130.0\n",
              "Name: budget, dtype: float64"
            ]
          },
          "execution_count": 168,
          "metadata": {},
          "output_type": "execute_result"
        }
      ],
      "source": [
        "# Deciles\n",
        "movies['budget'].quantile(np.arange(0.1,1,0.1))"
      ]
    },
    {
      "attachments": {},
      "cell_type": "markdown",
      "metadata": {
        "id": "8M_eHv4D2t5O"
      },
      "source": [
        "## Análisis datos de la clase"
      ]
    },
    {
      "cell_type": "code",
      "execution_count": 169,
      "metadata": {
        "colab": {
          "base_uri": "https://localhost:8080/",
          "height": 206
        },
        "id": "Bcd-2lFSqBPw",
        "outputId": "b5b38c06-653b-40c8-f275-680129c2e3ec"
      },
      "outputs": [
        {
          "data": {
            "text/html": [
              "\n",
              "  <div id=\"df-5a506f07-1a7f-4912-95f3-d0ac624ff3e0\">\n",
              "    <div class=\"colab-df-container\">\n",
              "      <div>\n",
              "<style scoped>\n",
              "    .dataframe tbody tr th:only-of-type {\n",
              "        vertical-align: middle;\n",
              "    }\n",
              "\n",
              "    .dataframe tbody tr th {\n",
              "        vertical-align: top;\n",
              "    }\n",
              "\n",
              "    .dataframe thead th {\n",
              "        text-align: right;\n",
              "    }\n",
              "</style>\n",
              "<table border=\"1\" class=\"dataframe\">\n",
              "  <thead>\n",
              "    <tr style=\"text-align: right;\">\n",
              "      <th></th>\n",
              "      <th>Peso</th>\n",
              "      <th>Estatura</th>\n",
              "    </tr>\n",
              "  </thead>\n",
              "  <tbody>\n",
              "    <tr>\n",
              "      <th>0</th>\n",
              "      <td>76.0</td>\n",
              "      <td>1.89</td>\n",
              "    </tr>\n",
              "    <tr>\n",
              "      <th>1</th>\n",
              "      <td>67.0</td>\n",
              "      <td>1.73</td>\n",
              "    </tr>\n",
              "    <tr>\n",
              "      <th>2</th>\n",
              "      <td>53.0</td>\n",
              "      <td>1.64</td>\n",
              "    </tr>\n",
              "    <tr>\n",
              "      <th>3</th>\n",
              "      <td>50.0</td>\n",
              "      <td>1.47</td>\n",
              "    </tr>\n",
              "    <tr>\n",
              "      <th>4</th>\n",
              "      <td>53.0</td>\n",
              "      <td>1.57</td>\n",
              "    </tr>\n",
              "  </tbody>\n",
              "</table>\n",
              "</div>\n",
              "      <button class=\"colab-df-convert\" onclick=\"convertToInteractive('df-5a506f07-1a7f-4912-95f3-d0ac624ff3e0')\"\n",
              "              title=\"Convert this dataframe to an interactive table.\"\n",
              "              style=\"display:none;\">\n",
              "        \n",
              "  <svg xmlns=\"http://www.w3.org/2000/svg\" height=\"24px\"viewBox=\"0 0 24 24\"\n",
              "       width=\"24px\">\n",
              "    <path d=\"M0 0h24v24H0V0z\" fill=\"none\"/>\n",
              "    <path d=\"M18.56 5.44l.94 2.06.94-2.06 2.06-.94-2.06-.94-.94-2.06-.94 2.06-2.06.94zm-11 1L8.5 8.5l.94-2.06 2.06-.94-2.06-.94L8.5 2.5l-.94 2.06-2.06.94zm10 10l.94 2.06.94-2.06 2.06-.94-2.06-.94-.94-2.06-.94 2.06-2.06.94z\"/><path d=\"M17.41 7.96l-1.37-1.37c-.4-.4-.92-.59-1.43-.59-.52 0-1.04.2-1.43.59L10.3 9.45l-7.72 7.72c-.78.78-.78 2.05 0 2.83L4 21.41c.39.39.9.59 1.41.59.51 0 1.02-.2 1.41-.59l7.78-7.78 2.81-2.81c.8-.78.8-2.07 0-2.86zM5.41 20L4 18.59l7.72-7.72 1.47 1.35L5.41 20z\"/>\n",
              "  </svg>\n",
              "      </button>\n",
              "      \n",
              "  <style>\n",
              "    .colab-df-container {\n",
              "      display:flex;\n",
              "      flex-wrap:wrap;\n",
              "      gap: 12px;\n",
              "    }\n",
              "\n",
              "    .colab-df-convert {\n",
              "      background-color: #E8F0FE;\n",
              "      border: none;\n",
              "      border-radius: 50%;\n",
              "      cursor: pointer;\n",
              "      display: none;\n",
              "      fill: #1967D2;\n",
              "      height: 32px;\n",
              "      padding: 0 0 0 0;\n",
              "      width: 32px;\n",
              "    }\n",
              "\n",
              "    .colab-df-convert:hover {\n",
              "      background-color: #E2EBFA;\n",
              "      box-shadow: 0px 1px 2px rgba(60, 64, 67, 0.3), 0px 1px 3px 1px rgba(60, 64, 67, 0.15);\n",
              "      fill: #174EA6;\n",
              "    }\n",
              "\n",
              "    [theme=dark] .colab-df-convert {\n",
              "      background-color: #3B4455;\n",
              "      fill: #D2E3FC;\n",
              "    }\n",
              "\n",
              "    [theme=dark] .colab-df-convert:hover {\n",
              "      background-color: #434B5C;\n",
              "      box-shadow: 0px 1px 3px 1px rgba(0, 0, 0, 0.15);\n",
              "      filter: drop-shadow(0px 1px 2px rgba(0, 0, 0, 0.3));\n",
              "      fill: #FFFFFF;\n",
              "    }\n",
              "  </style>\n",
              "\n",
              "      <script>\n",
              "        const buttonEl =\n",
              "          document.querySelector('#df-5a506f07-1a7f-4912-95f3-d0ac624ff3e0 button.colab-df-convert');\n",
              "        buttonEl.style.display =\n",
              "          google.colab.kernel.accessAllowed ? 'block' : 'none';\n",
              "\n",
              "        async function convertToInteractive(key) {\n",
              "          const element = document.querySelector('#df-5a506f07-1a7f-4912-95f3-d0ac624ff3e0');\n",
              "          const dataTable =\n",
              "            await google.colab.kernel.invokeFunction('convertToInteractive',\n",
              "                                                     [key], {});\n",
              "          if (!dataTable) return;\n",
              "\n",
              "          const docLinkHtml = 'Like what you see? Visit the ' +\n",
              "            '<a target=\"_blank\" href=https://colab.research.google.com/notebooks/data_table.ipynb>data table notebook</a>'\n",
              "            + ' to learn more about interactive tables.';\n",
              "          element.innerHTML = '';\n",
              "          dataTable['output_type'] = 'display_data';\n",
              "          await google.colab.output.renderOutput(dataTable, element);\n",
              "          const docLink = document.createElement('div');\n",
              "          docLink.innerHTML = docLinkHtml;\n",
              "          element.appendChild(docLink);\n",
              "        }\n",
              "      </script>\n",
              "    </div>\n",
              "  </div>\n",
              "  "
            ],
            "text/plain": [
              "   Peso  Estatura\n",
              "0  76.0      1.89\n",
              "1  67.0      1.73\n",
              "2  53.0      1.64\n",
              "3  50.0      1.47\n",
              "4  53.0      1.57"
            ]
          },
          "execution_count": 169,
          "metadata": {},
          "output_type": "execute_result"
        }
      ],
      "source": [
        "# 4. Cargar los datos de peso y estatura del curso\n",
        "curso = pd.read_excel(\"estatura_peso_clase.xlsx\")\n",
        "curso.head()"
      ]
    },
    {
      "attachments": {},
      "cell_type": "markdown",
      "metadata": {
        "id": "mWGpxLgaq_bI"
      },
      "source": [
        "### Análisis del Peso"
      ]
    },
    {
      "cell_type": "code",
      "execution_count": 170,
      "metadata": {
        "colab": {
          "base_uri": "https://localhost:8080/"
        },
        "id": "_Y788ESkrEVP",
        "outputId": "3da9ab35-982c-4b49-9771-718ceacc3834"
      },
      "outputs": [
        {
          "data": {
            "text/plain": [
              "64.06666666666666"
            ]
          },
          "execution_count": 170,
          "metadata": {},
          "output_type": "execute_result"
        }
      ],
      "source": [
        "# Promedio del peso\n",
        "curso[\"Peso\"].mean()"
      ]
    },
    {
      "cell_type": "code",
      "execution_count": 171,
      "metadata": {
        "colab": {
          "base_uri": "https://localhost:8080/"
        },
        "id": "mN585-CRrrXR",
        "outputId": "6379d22d-3576-4be2-8fa5-ddd07f39b956"
      },
      "outputs": [
        {
          "data": {
            "text/plain": [
              "64.0"
            ]
          },
          "execution_count": 171,
          "metadata": {},
          "output_type": "execute_result"
        }
      ],
      "source": [
        "# Mediana del peso\n",
        "curso[\"Peso\"].median()"
      ]
    },
    {
      "cell_type": "code",
      "execution_count": 172,
      "metadata": {
        "colab": {
          "base_uri": "https://localhost:8080/"
        },
        "id": "O-CE2Pdlr3zc",
        "outputId": "150b3691-92c7-4286-bd4b-aba799ba3ce8"
      },
      "outputs": [
        {
          "data": {
            "text/plain": [
              "0    53.0\n",
              "1    63.0\n",
              "dtype: float64"
            ]
          },
          "execution_count": 172,
          "metadata": {},
          "output_type": "execute_result"
        }
      ],
      "source": [
        "# Moda\n",
        "curso[\"Peso\"].mode()"
      ]
    },
    {
      "cell_type": "code",
      "execution_count": 173,
      "metadata": {
        "colab": {
          "base_uri": "https://localhost:8080/"
        },
        "id": "fXJYGI7CsG8e",
        "outputId": "78b2d926-56cd-4cd3-cc7b-199021aa78b6"
      },
      "outputs": [
        {
          "data": {
            "text/plain": [
              "50.0"
            ]
          },
          "execution_count": 173,
          "metadata": {},
          "output_type": "execute_result"
        }
      ],
      "source": [
        "# Mínimo del peso\n",
        "curso[\"Peso\"].min()"
      ]
    },
    {
      "cell_type": "code",
      "execution_count": 174,
      "metadata": {
        "colab": {
          "base_uri": "https://localhost:8080/"
        },
        "id": "HAj-qbWesQmZ",
        "outputId": "c36e832b-0981-464d-db7d-d54dd04ce5dd"
      },
      "outputs": [
        {
          "data": {
            "text/plain": [
              "76.0"
            ]
          },
          "execution_count": 174,
          "metadata": {},
          "output_type": "execute_result"
        }
      ],
      "source": [
        "# Máximo del peso\n",
        "curso[\"Peso\"].max()"
      ]
    },
    {
      "cell_type": "code",
      "execution_count": 175,
      "metadata": {
        "colab": {
          "base_uri": "https://localhost:8080/"
        },
        "id": "PVAPZDD0scvn",
        "outputId": "53119b03-a864-4791-d0ee-62c69514c89d"
      },
      "outputs": [
        {
          "data": {
            "text/plain": [
              "26.0"
            ]
          },
          "execution_count": 175,
          "metadata": {},
          "output_type": "execute_result"
        }
      ],
      "source": [
        "# Rango\n",
        "curso[\"Peso\"].max() - curso[\"Peso\"].min()"
      ]
    },
    {
      "cell_type": "code",
      "execution_count": 176,
      "metadata": {
        "colab": {
          "base_uri": "https://localhost:8080/"
        },
        "id": "NC0xRYtLsnKe",
        "outputId": "5c5bd944-9134-4ab0-edae-f2e05926ae1b"
      },
      "outputs": [
        {
          "data": {
            "text/plain": [
              "68.63809523809522"
            ]
          },
          "execution_count": 176,
          "metadata": {},
          "output_type": "execute_result"
        }
      ],
      "source": [
        "# Varianza muestral del peso n-1\n",
        "curso[\"Peso\"].var()"
      ]
    },
    {
      "cell_type": "code",
      "execution_count": 177,
      "metadata": {
        "colab": {
          "base_uri": "https://localhost:8080/"
        },
        "id": "FjP-4V__tcM5",
        "outputId": "235550d4-ea44-4ebf-f8e0-efef2d59bac6"
      },
      "outputs": [
        {
          "data": {
            "text/plain": [
              "8.284811116621501"
            ]
          },
          "execution_count": 177,
          "metadata": {},
          "output_type": "execute_result"
        }
      ],
      "source": [
        "# Desviación estandar\n",
        "curso[\"Peso\"].std()"
      ]
    },
    {
      "cell_type": "code",
      "execution_count": 178,
      "metadata": {
        "colab": {
          "base_uri": "https://localhost:8080/"
        },
        "id": "rEL9FbAft3nb",
        "outputId": "a40796b5-7e0a-4e16-e3b2-5ba179c6e813"
      },
      "outputs": [
        {
          "data": {
            "text/plain": [
              "12.931547008254165"
            ]
          },
          "execution_count": 178,
          "metadata": {},
          "output_type": "execute_result"
        }
      ],
      "source": [
        "# Coeficiente de variación para el peso\n",
        "(curso[\"Peso\"].std()/curso[\"Peso\"].mean())*100"
      ]
    },
    {
      "cell_type": "code",
      "execution_count": 179,
      "metadata": {
        "colab": {
          "base_uri": "https://localhost:8080/"
        },
        "id": "Vcc8Hb5PuWTZ",
        "outputId": "5751be8e-0f33-492b-faf7-5522a1ad5e34"
      },
      "outputs": [
        {
          "data": {
            "text/plain": [
              "0.25    58.5\n",
              "0.50    64.0\n",
              "0.75    71.0\n",
              "Name: Peso, dtype: float64"
            ]
          },
          "execution_count": 179,
          "metadata": {},
          "output_type": "execute_result"
        }
      ],
      "source": [
        "# Cuartiles para el peso\n",
        "curso[\"Peso\"].quantile([0.25, 0.50, 0.75])"
      ]
    },
    {
      "cell_type": "code",
      "execution_count": 180,
      "metadata": {
        "colab": {
          "base_uri": "https://localhost:8080/"
        },
        "id": "SnPPqObmuSUQ",
        "outputId": "73174fbc-f176-46df-f4fe-b2de906878d2"
      },
      "outputs": [
        {
          "data": {
            "text/plain": [
              "count    15.000000\n",
              "mean     64.066667\n",
              "std       8.284811\n",
              "min      50.000000\n",
              "25%      58.500000\n",
              "50%      64.000000\n",
              "75%      71.000000\n",
              "max      76.000000\n",
              "Name: Peso, dtype: float64"
            ]
          },
          "execution_count": 180,
          "metadata": {},
          "output_type": "execute_result"
        }
      ],
      "source": [
        "# Resumen estadístico de la columna peso\n",
        "curso[\"Peso\"].describe()"
      ]
    },
    {
      "cell_type": "code",
      "execution_count": 181,
      "metadata": {
        "colab": {
          "base_uri": "https://localhost:8080/",
          "height": 300
        },
        "id": "eD_50xyzvORL",
        "outputId": "3bc6477c-214b-4d2b-d7b0-dbc498eacb65"
      },
      "outputs": [
        {
          "data": {
            "text/html": [
              "\n",
              "  <div id=\"df-994a1a49-f8ce-4f10-9672-02593561dfd3\">\n",
              "    <div class=\"colab-df-container\">\n",
              "      <div>\n",
              "<style scoped>\n",
              "    .dataframe tbody tr th:only-of-type {\n",
              "        vertical-align: middle;\n",
              "    }\n",
              "\n",
              "    .dataframe tbody tr th {\n",
              "        vertical-align: top;\n",
              "    }\n",
              "\n",
              "    .dataframe thead th {\n",
              "        text-align: right;\n",
              "    }\n",
              "</style>\n",
              "<table border=\"1\" class=\"dataframe\">\n",
              "  <thead>\n",
              "    <tr style=\"text-align: right;\">\n",
              "      <th></th>\n",
              "      <th>Peso</th>\n",
              "      <th>Estatura</th>\n",
              "    </tr>\n",
              "  </thead>\n",
              "  <tbody>\n",
              "    <tr>\n",
              "      <th>count</th>\n",
              "      <td>15.000000</td>\n",
              "      <td>15.000000</td>\n",
              "    </tr>\n",
              "    <tr>\n",
              "      <th>mean</th>\n",
              "      <td>64.066667</td>\n",
              "      <td>1.696667</td>\n",
              "    </tr>\n",
              "    <tr>\n",
              "      <th>std</th>\n",
              "      <td>8.284811</td>\n",
              "      <td>0.108145</td>\n",
              "    </tr>\n",
              "    <tr>\n",
              "      <th>min</th>\n",
              "      <td>50.000000</td>\n",
              "      <td>1.470000</td>\n",
              "    </tr>\n",
              "    <tr>\n",
              "      <th>25%</th>\n",
              "      <td>58.500000</td>\n",
              "      <td>1.630000</td>\n",
              "    </tr>\n",
              "    <tr>\n",
              "      <th>50%</th>\n",
              "      <td>64.000000</td>\n",
              "      <td>1.730000</td>\n",
              "    </tr>\n",
              "    <tr>\n",
              "      <th>75%</th>\n",
              "      <td>71.000000</td>\n",
              "      <td>1.775000</td>\n",
              "    </tr>\n",
              "    <tr>\n",
              "      <th>max</th>\n",
              "      <td>76.000000</td>\n",
              "      <td>1.890000</td>\n",
              "    </tr>\n",
              "  </tbody>\n",
              "</table>\n",
              "</div>\n",
              "      <button class=\"colab-df-convert\" onclick=\"convertToInteractive('df-994a1a49-f8ce-4f10-9672-02593561dfd3')\"\n",
              "              title=\"Convert this dataframe to an interactive table.\"\n",
              "              style=\"display:none;\">\n",
              "        \n",
              "  <svg xmlns=\"http://www.w3.org/2000/svg\" height=\"24px\"viewBox=\"0 0 24 24\"\n",
              "       width=\"24px\">\n",
              "    <path d=\"M0 0h24v24H0V0z\" fill=\"none\"/>\n",
              "    <path d=\"M18.56 5.44l.94 2.06.94-2.06 2.06-.94-2.06-.94-.94-2.06-.94 2.06-2.06.94zm-11 1L8.5 8.5l.94-2.06 2.06-.94-2.06-.94L8.5 2.5l-.94 2.06-2.06.94zm10 10l.94 2.06.94-2.06 2.06-.94-2.06-.94-.94-2.06-.94 2.06-2.06.94z\"/><path d=\"M17.41 7.96l-1.37-1.37c-.4-.4-.92-.59-1.43-.59-.52 0-1.04.2-1.43.59L10.3 9.45l-7.72 7.72c-.78.78-.78 2.05 0 2.83L4 21.41c.39.39.9.59 1.41.59.51 0 1.02-.2 1.41-.59l7.78-7.78 2.81-2.81c.8-.78.8-2.07 0-2.86zM5.41 20L4 18.59l7.72-7.72 1.47 1.35L5.41 20z\"/>\n",
              "  </svg>\n",
              "      </button>\n",
              "      \n",
              "  <style>\n",
              "    .colab-df-container {\n",
              "      display:flex;\n",
              "      flex-wrap:wrap;\n",
              "      gap: 12px;\n",
              "    }\n",
              "\n",
              "    .colab-df-convert {\n",
              "      background-color: #E8F0FE;\n",
              "      border: none;\n",
              "      border-radius: 50%;\n",
              "      cursor: pointer;\n",
              "      display: none;\n",
              "      fill: #1967D2;\n",
              "      height: 32px;\n",
              "      padding: 0 0 0 0;\n",
              "      width: 32px;\n",
              "    }\n",
              "\n",
              "    .colab-df-convert:hover {\n",
              "      background-color: #E2EBFA;\n",
              "      box-shadow: 0px 1px 2px rgba(60, 64, 67, 0.3), 0px 1px 3px 1px rgba(60, 64, 67, 0.15);\n",
              "      fill: #174EA6;\n",
              "    }\n",
              "\n",
              "    [theme=dark] .colab-df-convert {\n",
              "      background-color: #3B4455;\n",
              "      fill: #D2E3FC;\n",
              "    }\n",
              "\n",
              "    [theme=dark] .colab-df-convert:hover {\n",
              "      background-color: #434B5C;\n",
              "      box-shadow: 0px 1px 3px 1px rgba(0, 0, 0, 0.15);\n",
              "      filter: drop-shadow(0px 1px 2px rgba(0, 0, 0, 0.3));\n",
              "      fill: #FFFFFF;\n",
              "    }\n",
              "  </style>\n",
              "\n",
              "      <script>\n",
              "        const buttonEl =\n",
              "          document.querySelector('#df-994a1a49-f8ce-4f10-9672-02593561dfd3 button.colab-df-convert');\n",
              "        buttonEl.style.display =\n",
              "          google.colab.kernel.accessAllowed ? 'block' : 'none';\n",
              "\n",
              "        async function convertToInteractive(key) {\n",
              "          const element = document.querySelector('#df-994a1a49-f8ce-4f10-9672-02593561dfd3');\n",
              "          const dataTable =\n",
              "            await google.colab.kernel.invokeFunction('convertToInteractive',\n",
              "                                                     [key], {});\n",
              "          if (!dataTable) return;\n",
              "\n",
              "          const docLinkHtml = 'Like what you see? Visit the ' +\n",
              "            '<a target=\"_blank\" href=https://colab.research.google.com/notebooks/data_table.ipynb>data table notebook</a>'\n",
              "            + ' to learn more about interactive tables.';\n",
              "          element.innerHTML = '';\n",
              "          dataTable['output_type'] = 'display_data';\n",
              "          await google.colab.output.renderOutput(dataTable, element);\n",
              "          const docLink = document.createElement('div');\n",
              "          docLink.innerHTML = docLinkHtml;\n",
              "          element.appendChild(docLink);\n",
              "        }\n",
              "      </script>\n",
              "    </div>\n",
              "  </div>\n",
              "  "
            ],
            "text/plain": [
              "            Peso   Estatura\n",
              "count  15.000000  15.000000\n",
              "mean   64.066667   1.696667\n",
              "std     8.284811   0.108145\n",
              "min    50.000000   1.470000\n",
              "25%    58.500000   1.630000\n",
              "50%    64.000000   1.730000\n",
              "75%    71.000000   1.775000\n",
              "max    76.000000   1.890000"
            ]
          },
          "execution_count": 181,
          "metadata": {},
          "output_type": "execute_result"
        }
      ],
      "source": [
        "# Resumen de toda la tabla: peso y estatura\n",
        "curso.describe()"
      ]
    },
    {
      "cell_type": "code",
      "execution_count": 182,
      "metadata": {
        "colab": {
          "base_uri": "https://localhost:8080/"
        },
        "id": "7nRAdTY-w808",
        "outputId": "0b98e400-eb6b-47d5-b02e-5189cfd176a5"
      },
      "outputs": [
        {
          "data": {
            "text/plain": [
              "array([50, 55, 60, 65, 70, 75, 80])"
            ]
          },
          "execution_count": 182,
          "metadata": {},
          "output_type": "execute_result"
        }
      ],
      "source": [
        "clases = np.arange(50,85,5)\n",
        "clases"
      ]
    },
    {
      "cell_type": "code",
      "execution_count": 183,
      "metadata": {
        "colab": {
          "base_uri": "https://localhost:8080/"
        },
        "id": "c_Kpy_HUvweK",
        "outputId": "8ad950f0-c593-4fb3-d581-6420a9fbc392"
      },
      "outputs": [
        {
          "data": {
            "text/plain": [
              "(array([3, 1, 4, 2, 3, 2]), array([50, 55, 60, 65, 70, 75, 80]))"
            ]
          },
          "execution_count": 183,
          "metadata": {},
          "output_type": "execute_result"
        }
      ],
      "source": [
        "# Distribucion de frecuencia\n",
        "clases = np.arange(50,85,5)\n",
        "np.histogram(curso[\"Peso\"], bins=clases)"
      ]
    },
    {
      "cell_type": "code",
      "execution_count": 184,
      "metadata": {
        "colab": {
          "base_uri": "https://localhost:8080/",
          "height": 283
        },
        "id": "ABqQwn3JxSGM",
        "outputId": "01647ed8-2328-48c3-f88c-3dbd9678117e"
      },
      "outputs": [
        {
          "data": {
            "text/plain": [
              "<AxesSubplot:ylabel='Frequency'>"
            ]
          },
          "execution_count": 184,
          "metadata": {},
          "output_type": "execute_result"
        },
        {
          "data": {
            "image/png": "[encoded data removed]",
            "text/plain": [
              "<Figure size 432x288 with 1 Axes>"
            ]
          },
          "metadata": {
            "needs_background": "light"
          },
          "output_type": "display_data"
        }
      ],
      "source": [
        "# Histograma\n",
        "curso[\"Peso\"].plot.hist(bins=clases, edgecolor=\"w\")"
      ]
    },
    {
      "cell_type": "code",
      "execution_count": 185,
      "metadata": {
        "colab": {
          "base_uri": "https://localhost:8080/",
          "height": 283
        },
        "id": "2c486l26yEvY",
        "outputId": "3fff56fb-dbfb-43a7-9275-e6943b234eb1"
      },
      "outputs": [
        {
          "data": {
            "text/plain": [
              "<AxesSubplot:>"
            ]
          },
          "execution_count": 185,
          "metadata": {},
          "output_type": "execute_result"
        },
        {
          "data": {
            "image/png": "[encoded data removed]",
            "text/plain": [
              "<Figure size 432x288 with 1 Axes>"
            ]
          },
          "metadata": {
            "needs_background": "light"
          },
          "output_type": "display_data"
        }
      ],
      "source": [
        "# Boxplot peso\n",
        "curso[\"Peso\"].plot.box()"
      ]
    },
    {
      "attachments": {},
      "cell_type": "markdown",
      "metadata": {
        "id": "eFDpp0nYm5ra"
      },
      "source": [
        "## Análisis de Correlación"
      ]
    },
    {
      "attachments": {},
      "cell_type": "markdown",
      "metadata": {
        "id": "1fvJLY_M83R8"
      },
      "source": [
        "Recuerde que la correlación se calcula a partir de la covarianza:\n",
        "\n",
        "$$\n",
        "Cov(x,y) = \\frac{\\sum_{i=1}^{n}(x_i - \\bar x)((y_i - \\bar y))}{n-1}\n",
        "$$\n",
        "\n",
        "Con esto se calcula la correlación:\n",
        "$$\n",
        "\\rho = \\frac{cov(x,y)}{s_xs_y}\n",
        "$$\n",
        "\n",
        "Donde, $s_x$ y $s_y$ es la desviación estándar de $x$ y $y$ respectivamente. A continuación, se presenta el calculo paso a paso de la covarianza y la correlación."
      ]
    },
    {
      "cell_type": "code",
      "execution_count": 186,
      "metadata": {
        "id": "pfcQ_nzsnCr_"
      },
      "outputs": [],
      "source": [
        "peso = np.array([70, 50, 53, 64, 57])\n",
        "estatura = np.array([1.8, 1.47, 1.57, 1.77, 1.62])"
      ]
    },
    {
      "cell_type": "code",
      "execution_count": 187,
      "metadata": {
        "colab": {
          "base_uri": "https://localhost:8080/"
        },
        "id": "XRRXE0EOngmM",
        "outputId": "30ee9bc7-3dae-4b54-d8e2-c5b47953efe9"
      },
      "outputs": [
        {
          "data": {
            "text/plain": [
              "58.8"
            ]
          },
          "execution_count": 187,
          "metadata": {},
          "output_type": "execute_result"
        }
      ],
      "source": [
        "peso.mean()"
      ]
    },
    {
      "cell_type": "code",
      "execution_count": 188,
      "metadata": {
        "colab": {
          "base_uri": "https://localhost:8080/"
        },
        "id": "-6QxX3vUnxFN",
        "outputId": "9954ba27-ed0e-4fa3-9721-6f0f9d42b565"
      },
      "outputs": [
        {
          "data": {
            "text/plain": [
              "8.167006795638168"
            ]
          },
          "execution_count": 188,
          "metadata": {},
          "output_type": "execute_result"
        }
      ],
      "source": [
        "peso.std(ddof=1)"
      ]
    },
    {
      "cell_type": "code",
      "execution_count": 189,
      "metadata": {
        "colab": {
          "base_uri": "https://localhost:8080/"
        },
        "id": "Ga4lHOAInm-T",
        "outputId": "408fc965-3a41-4dda-92c3-7a1b53afad91"
      },
      "outputs": [
        {
          "data": {
            "text/plain": [
              "1.6460000000000001"
            ]
          },
          "execution_count": 189,
          "metadata": {},
          "output_type": "execute_result"
        }
      ],
      "source": [
        "estatura.mean()"
      ]
    },
    {
      "cell_type": "code",
      "execution_count": 190,
      "metadata": {
        "colab": {
          "base_uri": "https://localhost:8080/"
        },
        "id": "CKS10ZaGn3K7",
        "outputId": "13ea8f13-1dac-40a1-ad16-17178a3fc510"
      },
      "outputs": [
        {
          "data": {
            "text/plain": [
              "0.13831124321616087"
            ]
          },
          "execution_count": 190,
          "metadata": {},
          "output_type": "execute_result"
        }
      ],
      "source": [
        "estatura.std(ddof=1)"
      ]
    },
    {
      "cell_type": "code",
      "execution_count": 191,
      "metadata": {
        "colab": {
          "base_uri": "https://localhost:8080/"
        },
        "id": "PkL9NR3xq1kJ",
        "outputId": "99433af5-ca28-47d9-caa6-b6a6a71dd644"
      },
      "outputs": [
        {
          "data": {
            "text/plain": [
              "array([11.2, -8.8, -5.8,  5.2, -1.8])"
            ]
          },
          "execution_count": 191,
          "metadata": {},
          "output_type": "execute_result"
        }
      ],
      "source": [
        "peso - peso.mean()"
      ]
    },
    {
      "cell_type": "code",
      "execution_count": 192,
      "metadata": {
        "colab": {
          "base_uri": "https://localhost:8080/"
        },
        "id": "PBSdwn5wr3bZ",
        "outputId": "3e0d9384-f0f0-4c5c-e7cf-28298a74e918"
      },
      "outputs": [
        {
          "data": {
            "text/plain": [
              "5"
            ]
          },
          "execution_count": 192,
          "metadata": {},
          "output_type": "execute_result"
        }
      ],
      "source": [
        "peso.shape[0]"
      ]
    },
    {
      "cell_type": "code",
      "execution_count": 193,
      "metadata": {
        "colab": {
          "base_uri": "https://localhost:8080/"
        },
        "id": "k2H71hw_oWqc",
        "outputId": "5c2986f9-3c88-4ff0-efd4-0df520d8adbd"
      },
      "outputs": [
        {
          "data": {
            "text/plain": [
              "1.1015000000000001"
            ]
          },
          "execution_count": 193,
          "metadata": {},
          "output_type": "execute_result"
        }
      ],
      "source": [
        "cov_xy = ((peso - peso.mean())*(estatura -  estatura.mean())).sum()/(peso.shape[0] - 1)\n",
        "cov_xy"
      ]
    },
    {
      "cell_type": "code",
      "execution_count": 194,
      "metadata": {
        "colab": {
          "base_uri": "https://localhost:8080/"
        },
        "id": "-t_t_9Hsr8kS",
        "outputId": "ace33dcf-9574-4ab4-e159-1080ed2792d5"
      },
      "outputs": [
        {
          "data": {
            "text/plain": [
              "0.9751335515308679"
            ]
          },
          "execution_count": 194,
          "metadata": {},
          "output_type": "execute_result"
        }
      ],
      "source": [
        "coef_correl = cov_xy/(peso.std(ddof=1)*estatura.std(ddof=1))\n",
        "coef_correl"
      ]
    },
    {
      "cell_type": "code",
      "execution_count": 195,
      "metadata": {
        "colab": {
          "base_uri": "https://localhost:8080/"
        },
        "id": "b5elhC0JqHZn",
        "outputId": "8003f72e-167b-436f-d0e1-7d214d5d1b8e"
      },
      "outputs": [
        {
          "data": {
            "text/plain": [
              "array([[1.        , 0.97513355],\n",
              "       [0.97513355, 1.        ]])"
            ]
          },
          "execution_count": 195,
          "metadata": {},
          "output_type": "execute_result"
        }
      ],
      "source": [
        "np.corrcoef(peso, estatura)"
      ]
    },
    {
      "cell_type": "code",
      "execution_count": 196,
      "metadata": {
        "colab": {
          "base_uri": "https://localhost:8080/",
          "height": 297
        },
        "id": "bur_vjUJoC2T",
        "outputId": "96fb9fff-f586-4452-a563-19cd8e6c8d5a"
      },
      "outputs": [
        {
          "data": {
            "text/plain": [
              "Text(0, 0.5, 'Peso')"
            ]
          },
          "execution_count": 196,
          "metadata": {},
          "output_type": "execute_result"
        },
        {
          "data": {
            "image/png": "[encoded data removed]",
            "text/plain": [
              "<Figure size 432x288 with 1 Axes>"
            ]
          },
          "metadata": {
            "needs_background": "light"
          },
          "output_type": "display_data"
        }
      ],
      "source": [
        "plt.scatter(x=estatura, y=peso, c=[\"r\",\"b\",\"b\",\"r\",\"r\"])\n",
        "plt.xlabel(\"Estatura\")\n",
        "plt.ylabel(\"Peso\")"
      ]
    },
    {
      "attachments": {},
      "cell_type": "markdown",
      "metadata": {
        "id": "rXuo1bePzIBE"
      },
      "source": [
        "## Análisis de correlación para las peliculas"
      ]
    },
    {
      "cell_type": "code",
      "execution_count": 197,
      "metadata": {
        "colab": {
          "base_uri": "https://localhost:8080/",
          "height": 503
        },
        "id": "9agy0jCMfOmm",
        "outputId": "f893d3d3-d960-4159-a035-bcc25baf5c03"
      },
      "outputs": [
        {
          "data": {
            "text/html": [
              "\n",
              "  <div id=\"df-f9fde6fa-d8e7-4840-968f-f474318cd1d9\">\n",
              "    <div class=\"colab-df-container\">\n",
              "      <div>\n",
              "<style scoped>\n",
              "    .dataframe tbody tr th:only-of-type {\n",
              "        vertical-align: middle;\n",
              "    }\n",
              "\n",
              "    .dataframe tbody tr th {\n",
              "        vertical-align: top;\n",
              "    }\n",
              "\n",
              "    .dataframe thead th {\n",
              "        text-align: right;\n",
              "    }\n",
              "</style>\n",
              "<table border=\"1\" class=\"dataframe\">\n",
              "  <thead>\n",
              "    <tr style=\"text-align: right;\">\n",
              "      <th></th>\n",
              "      <th>movie</th>\n",
              "      <th>budget</th>\n",
              "      <th>box_dom</th>\n",
              "      <th>box_world</th>\n",
              "      <th>distributor</th>\n",
              "      <th>genre</th>\n",
              "      <th>mpaa</th>\n",
              "      <th>month</th>\n",
              "      <th>day</th>\n",
              "      <th>year</th>\n",
              "    </tr>\n",
              "  </thead>\n",
              "  <tbody>\n",
              "    <tr>\n",
              "      <th>0</th>\n",
              "      <td>The Legend of Hercules</td>\n",
              "      <td>70.0</td>\n",
              "      <td>18.848538</td>\n",
              "      <td>61.402445</td>\n",
              "      <td>Lionsgate</td>\n",
              "      <td>Adventure</td>\n",
              "      <td>PG-13</td>\n",
              "      <td>1</td>\n",
              "      <td>10</td>\n",
              "      <td>2014</td>\n",
              "    </tr>\n",
              "    <tr>\n",
              "      <th>1</th>\n",
              "      <td>Gangster Squad</td>\n",
              "      <td>60.0</td>\n",
              "      <td>46.000903</td>\n",
              "      <td>104.100903</td>\n",
              "      <td>Warner Bros.</td>\n",
              "      <td>Drama</td>\n",
              "      <td>R</td>\n",
              "      <td>1</td>\n",
              "      <td>11</td>\n",
              "      <td>2013</td>\n",
              "    </tr>\n",
              "    <tr>\n",
              "      <th>2</th>\n",
              "      <td>Quartet</td>\n",
              "      <td>11.0</td>\n",
              "      <td>18.388357</td>\n",
              "      <td>56.178935</td>\n",
              "      <td>Weinstein Co.</td>\n",
              "      <td>Comedy</td>\n",
              "      <td>PG-13</td>\n",
              "      <td>1</td>\n",
              "      <td>11</td>\n",
              "      <td>2013</td>\n",
              "    </tr>\n",
              "    <tr>\n",
              "      <th>3</th>\n",
              "      <td>A Haunted House</td>\n",
              "      <td>2.5</td>\n",
              "      <td>40.041683</td>\n",
              "      <td>59.922558</td>\n",
              "      <td>Open Road</td>\n",
              "      <td>Comedy</td>\n",
              "      <td>R</td>\n",
              "      <td>1</td>\n",
              "      <td>11</td>\n",
              "      <td>2013</td>\n",
              "    </tr>\n",
              "    <tr>\n",
              "      <th>4</th>\n",
              "      <td>Contraband</td>\n",
              "      <td>25.0</td>\n",
              "      <td>66.528000</td>\n",
              "      <td>98.406855</td>\n",
              "      <td>Universal</td>\n",
              "      <td>Action</td>\n",
              "      <td>R</td>\n",
              "      <td>1</td>\n",
              "      <td>13</td>\n",
              "      <td>2012</td>\n",
              "    </tr>\n",
              "    <tr>\n",
              "      <th>...</th>\n",
              "      <td>...</td>\n",
              "      <td>...</td>\n",
              "      <td>...</td>\n",
              "      <td>...</td>\n",
              "      <td>...</td>\n",
              "      <td>...</td>\n",
              "      <td>...</td>\n",
              "      <td>...</td>\n",
              "      <td>...</td>\n",
              "      <td>...</td>\n",
              "    </tr>\n",
              "    <tr>\n",
              "      <th>868</th>\n",
              "      <td>Bucky Larson: Born to Be a Star</td>\n",
              "      <td>10.0</td>\n",
              "      <td>2.529395</td>\n",
              "      <td>2.529395</td>\n",
              "      <td>Sony Pictures</td>\n",
              "      <td>Comedy</td>\n",
              "      <td>R</td>\n",
              "      <td>9</td>\n",
              "      <td>9</td>\n",
              "      <td>2011</td>\n",
              "    </tr>\n",
              "    <tr>\n",
              "      <th>869</th>\n",
              "      <td>Creature</td>\n",
              "      <td>3.0</td>\n",
              "      <td>0.327000</td>\n",
              "      <td>0.327000</td>\n",
              "      <td>The Bubble Factory</td>\n",
              "      <td>Horror</td>\n",
              "      <td>R</td>\n",
              "      <td>9</td>\n",
              "      <td>9</td>\n",
              "      <td>2011</td>\n",
              "    </tr>\n",
              "    <tr>\n",
              "      <th>870</th>\n",
              "      <td>Tanner Hall</td>\n",
              "      <td>3.0</td>\n",
              "      <td>0.005073</td>\n",
              "      <td>0.005073</td>\n",
              "      <td>Anchor Bay Entertainment</td>\n",
              "      <td>Drama</td>\n",
              "      <td>R</td>\n",
              "      <td>9</td>\n",
              "      <td>9</td>\n",
              "      <td>2011</td>\n",
              "    </tr>\n",
              "    <tr>\n",
              "      <th>871</th>\n",
              "      <td>Warrior</td>\n",
              "      <td>25.0</td>\n",
              "      <td>13.657115</td>\n",
              "      <td>24.215385</td>\n",
              "      <td>Lionsgate</td>\n",
              "      <td>Drama</td>\n",
              "      <td>PG-13</td>\n",
              "      <td>9</td>\n",
              "      <td>9</td>\n",
              "      <td>2011</td>\n",
              "    </tr>\n",
              "    <tr>\n",
              "      <th>872</th>\n",
              "      <td>Contagion</td>\n",
              "      <td>60.0</td>\n",
              "      <td>75.658097</td>\n",
              "      <td>137.551594</td>\n",
              "      <td>Warner Bros.</td>\n",
              "      <td>Thriller/Suspense</td>\n",
              "      <td>PG-13</td>\n",
              "      <td>9</td>\n",
              "      <td>9</td>\n",
              "      <td>2011</td>\n",
              "    </tr>\n",
              "  </tbody>\n",
              "</table>\n",
              "<p>873 rows × 10 columns</p>\n",
              "</div>\n",
              "      <button class=\"colab-df-convert\" onclick=\"convertToInteractive('df-f9fde6fa-d8e7-4840-968f-f474318cd1d9')\"\n",
              "              title=\"Convert this dataframe to an interactive table.\"\n",
              "              style=\"display:none;\">\n",
              "        \n",
              "  <svg xmlns=\"http://www.w3.org/2000/svg\" height=\"24px\"viewBox=\"0 0 24 24\"\n",
              "       width=\"24px\">\n",
              "    <path d=\"M0 0h24v24H0V0z\" fill=\"none\"/>\n",
              "    <path d=\"M18.56 5.44l.94 2.06.94-2.06 2.06-.94-2.06-.94-.94-2.06-.94 2.06-2.06.94zm-11 1L8.5 8.5l.94-2.06 2.06-.94-2.06-.94L8.5 2.5l-.94 2.06-2.06.94zm10 10l.94 2.06.94-2.06 2.06-.94-2.06-.94-.94-2.06-.94 2.06-2.06.94z\"/><path d=\"M17.41 7.96l-1.37-1.37c-.4-.4-.92-.59-1.43-.59-.52 0-1.04.2-1.43.59L10.3 9.45l-7.72 7.72c-.78.78-.78 2.05 0 2.83L4 21.41c.39.39.9.59 1.41.59.51 0 1.02-.2 1.41-.59l7.78-7.78 2.81-2.81c.8-.78.8-2.07 0-2.86zM5.41 20L4 18.59l7.72-7.72 1.47 1.35L5.41 20z\"/>\n",
              "  </svg>\n",
              "      </button>\n",
              "      \n",
              "  <style>\n",
              "    .colab-df-container {\n",
              "      display:flex;\n",
              "      flex-wrap:wrap;\n",
              "      gap: 12px;\n",
              "    }\n",
              "\n",
              "    .colab-df-convert {\n",
              "      background-color: #E8F0FE;\n",
              "      border: none;\n",
              "      border-radius: 50%;\n",
              "      cursor: pointer;\n",
              "      display: none;\n",
              "      fill: #1967D2;\n",
              "      height: 32px;\n",
              "      padding: 0 0 0 0;\n",
              "      width: 32px;\n",
              "    }\n",
              "\n",
              "    .colab-df-convert:hover {\n",
              "      background-color: #E2EBFA;\n",
              "      box-shadow: 0px 1px 2px rgba(60, 64, 67, 0.3), 0px 1px 3px 1px rgba(60, 64, 67, 0.15);\n",
              "      fill: #174EA6;\n",
              "    }\n",
              "\n",
              "    [theme=dark] .colab-df-convert {\n",
              "      background-color: #3B4455;\n",
              "      fill: #D2E3FC;\n",
              "    }\n",
              "\n",
              "    [theme=dark] .colab-df-convert:hover {\n",
              "      background-color: #434B5C;\n",
              "      box-shadow: 0px 1px 3px 1px rgba(0, 0, 0, 0.15);\n",
              "      filter: drop-shadow(0px 1px 2px rgba(0, 0, 0, 0.3));\n",
              "      fill: #FFFFFF;\n",
              "    }\n",
              "  </style>\n",
              "\n",
              "      <script>\n",
              "        const buttonEl =\n",
              "          document.querySelector('#df-f9fde6fa-d8e7-4840-968f-f474318cd1d9 button.colab-df-convert');\n",
              "        buttonEl.style.display =\n",
              "          google.colab.kernel.accessAllowed ? 'block' : 'none';\n",
              "\n",
              "        async function convertToInteractive(key) {\n",
              "          const element = document.querySelector('#df-f9fde6fa-d8e7-4840-968f-f474318cd1d9');\n",
              "          const dataTable =\n",
              "            await google.colab.kernel.invokeFunction('convertToInteractive',\n",
              "                                                     [key], {});\n",
              "          if (!dataTable) return;\n",
              "\n",
              "          const docLinkHtml = 'Like what you see? Visit the ' +\n",
              "            '<a target=\"_blank\" href=https://colab.research.google.com/notebooks/data_table.ipynb>data table notebook</a>'\n",
              "            + ' to learn more about interactive tables.';\n",
              "          element.innerHTML = '';\n",
              "          dataTable['output_type'] = 'display_data';\n",
              "          await google.colab.output.renderOutput(dataTable, element);\n",
              "          const docLink = document.createElement('div');\n",
              "          docLink.innerHTML = docLinkHtml;\n",
              "          element.appendChild(docLink);\n",
              "        }\n",
              "      </script>\n",
              "    </div>\n",
              "  </div>\n",
              "  "
            ],
            "text/plain": [
              "                               movie  budget    box_dom   box_world  \\\n",
              "0             The Legend of Hercules    70.0  18.848538   61.402445   \n",
              "1                     Gangster Squad    60.0  46.000903  104.100903   \n",
              "2                            Quartet    11.0  18.388357   56.178935   \n",
              "3                    A Haunted House     2.5  40.041683   59.922558   \n",
              "4                         Contraband    25.0  66.528000   98.406855   \n",
              "..                               ...     ...        ...         ...   \n",
              "868  Bucky Larson: Born to Be a Star    10.0   2.529395    2.529395   \n",
              "869                         Creature     3.0   0.327000    0.327000   \n",
              "870                      Tanner Hall     3.0   0.005073    0.005073   \n",
              "871                          Warrior    25.0  13.657115   24.215385   \n",
              "872                        Contagion    60.0  75.658097  137.551594   \n",
              "\n",
              "                  distributor              genre   mpaa  month  day  year  \n",
              "0                   Lionsgate          Adventure  PG-13      1   10  2014  \n",
              "1                Warner Bros.              Drama      R      1   11  2013  \n",
              "2               Weinstein Co.             Comedy  PG-13      1   11  2013  \n",
              "3                   Open Road             Comedy      R      1   11  2013  \n",
              "4                   Universal             Action      R      1   13  2012  \n",
              "..                        ...                ...    ...    ...  ...   ...  \n",
              "868             Sony Pictures             Comedy      R      9    9  2011  \n",
              "869        The Bubble Factory             Horror      R      9    9  2011  \n",
              "870  Anchor Bay Entertainment              Drama      R      9    9  2011  \n",
              "871                 Lionsgate              Drama  PG-13      9    9  2011  \n",
              "872              Warner Bros.  Thriller/Suspense  PG-13      9    9  2011  \n",
              "\n",
              "[873 rows x 10 columns]"
            ]
          },
          "execution_count": 197,
          "metadata": {},
          "output_type": "execute_result"
        }
      ],
      "source": [
        "movies"
      ]
    },
    {
      "cell_type": "code",
      "execution_count": 198,
      "metadata": {
        "colab": {
          "base_uri": "https://localhost:8080/",
          "height": 298
        },
        "id": "5_G3hD_dy5oe",
        "outputId": "77d13df6-b33e-43ff-c69e-ff120fbc1704"
      },
      "outputs": [
        {
          "data": {
            "text/plain": [
              "<AxesSubplot:xlabel='box_dom', ylabel='box_world'>"
            ]
          },
          "execution_count": 198,
          "metadata": {},
          "output_type": "execute_result"
        },
        {
          "data": {
            "image/png": "[encoded data removed]",
            "text/plain": [
              "<Figure size 432x288 with 1 Axes>"
            ]
          },
          "metadata": {
            "needs_background": "light"
          },
          "output_type": "display_data"
        }
      ],
      "source": [
        "movies.plot.scatter(x='box_dom',y='box_world')"
      ]
    },
    {
      "cell_type": "code",
      "execution_count": 199,
      "metadata": {
        "colab": {
          "base_uri": "https://localhost:8080/",
          "height": 298
        },
        "id": "GjIhbgZ8fn3v",
        "outputId": "3e9e5a3c-16f7-45ab-b9d1-7de4339527e2"
      },
      "outputs": [
        {
          "data": {
            "text/plain": [
              "<AxesSubplot:xlabel='box_dom', ylabel='box_world'>"
            ]
          },
          "execution_count": 199,
          "metadata": {},
          "output_type": "execute_result"
        },
        {
          "data": {
            "image/png": "[encoded data removed]",
            "text/plain": [
              "<Figure size 432x288 with 1 Axes>"
            ]
          },
          "metadata": {
            "needs_background": "light"
          },
          "output_type": "display_data"
        }
      ],
      "source": [
        "sns.scatterplot(data=movies, x='box_dom', y='box_world', hue='year')"
      ]
    },
    {
      "cell_type": "code",
      "execution_count": 200,
      "metadata": {
        "colab": {
          "base_uri": "https://localhost:8080/",
          "height": 568
        },
        "id": "ble6TA--BggG",
        "outputId": "c0b74fda-b696-4154-e602-ae882d1b15b6"
      },
      "outputs": [
        {
          "data": {
            "text/plain": [
              "<seaborn.axisgrid.PairGrid at 0x7fc6075a93d0>"
            ]
          },
          "execution_count": 200,
          "metadata": {},
          "output_type": "execute_result"
        },
        {
          "data": {
            "image/png": "[encoded data removed]",
            "text/plain": [
              "<Figure size 540x540 with 12 Axes>"
            ]
          },
          "metadata": {
            "needs_background": "light"
          },
          "output_type": "display_data"
        }
      ],
      "source": [
        "# Gráficos de dispersión entre variables numéricas e histogramas\n",
        "sns.pairplot(movies[['budget','box_dom','box_world']])"
      ]
    },
    {
      "cell_type": "code",
      "execution_count": 201,
      "metadata": {
        "colab": {
          "base_uri": "https://localhost:8080/",
          "height": 143
        },
        "id": "DwIqtDvTz_s8",
        "outputId": "fe3a54bd-f3f8-4a4d-a122-d7ae924f04db"
      },
      "outputs": [
        {
          "data": {
            "text/html": [
              "\n",
              "  <div id=\"df-759f0845-29b5-4f07-b38a-5d382fb6c36b\">\n",
              "    <div class=\"colab-df-container\">\n",
              "      <div>\n",
              "<style scoped>\n",
              "    .dataframe tbody tr th:only-of-type {\n",
              "        vertical-align: middle;\n",
              "    }\n",
              "\n",
              "    .dataframe tbody tr th {\n",
              "        vertical-align: top;\n",
              "    }\n",
              "\n",
              "    .dataframe thead th {\n",
              "        text-align: right;\n",
              "    }\n",
              "</style>\n",
              "<table border=\"1\" class=\"dataframe\">\n",
              "  <thead>\n",
              "    <tr style=\"text-align: right;\">\n",
              "      <th></th>\n",
              "      <th>budget</th>\n",
              "      <th>box_dom</th>\n",
              "      <th>box_world</th>\n",
              "    </tr>\n",
              "  </thead>\n",
              "  <tbody>\n",
              "    <tr>\n",
              "      <th>budget</th>\n",
              "      <td>1.000000</td>\n",
              "      <td>0.715714</td>\n",
              "      <td>0.786801</td>\n",
              "    </tr>\n",
              "    <tr>\n",
              "      <th>box_dom</th>\n",
              "      <td>0.715714</td>\n",
              "      <td>1.000000</td>\n",
              "      <td>0.946223</td>\n",
              "    </tr>\n",
              "    <tr>\n",
              "      <th>box_world</th>\n",
              "      <td>0.786801</td>\n",
              "      <td>0.946223</td>\n",
              "      <td>1.000000</td>\n",
              "    </tr>\n",
              "  </tbody>\n",
              "</table>\n",
              "</div>\n",
              "      <button class=\"colab-df-convert\" onclick=\"convertToInteractive('df-759f0845-29b5-4f07-b38a-5d382fb6c36b')\"\n",
              "              title=\"Convert this dataframe to an interactive table.\"\n",
              "              style=\"display:none;\">\n",
              "        \n",
              "  <svg xmlns=\"http://www.w3.org/2000/svg\" height=\"24px\"viewBox=\"0 0 24 24\"\n",
              "       width=\"24px\">\n",
              "    <path d=\"M0 0h24v24H0V0z\" fill=\"none\"/>\n",
              "    <path d=\"M18.56 5.44l.94 2.06.94-2.06 2.06-.94-2.06-.94-.94-2.06-.94 2.06-2.06.94zm-11 1L8.5 8.5l.94-2.06 2.06-.94-2.06-.94L8.5 2.5l-.94 2.06-2.06.94zm10 10l.94 2.06.94-2.06 2.06-.94-2.06-.94-.94-2.06-.94 2.06-2.06.94z\"/><path d=\"M17.41 7.96l-1.37-1.37c-.4-.4-.92-.59-1.43-.59-.52 0-1.04.2-1.43.59L10.3 9.45l-7.72 7.72c-.78.78-.78 2.05 0 2.83L4 21.41c.39.39.9.59 1.41.59.51 0 1.02-.2 1.41-.59l7.78-7.78 2.81-2.81c.8-.78.8-2.07 0-2.86zM5.41 20L4 18.59l7.72-7.72 1.47 1.35L5.41 20z\"/>\n",
              "  </svg>\n",
              "      </button>\n",
              "      \n",
              "  <style>\n",
              "    .colab-df-container {\n",
              "      display:flex;\n",
              "      flex-wrap:wrap;\n",
              "      gap: 12px;\n",
              "    }\n",
              "\n",
              "    .colab-df-convert {\n",
              "      background-color: #E8F0FE;\n",
              "      border: none;\n",
              "      border-radius: 50%;\n",
              "      cursor: pointer;\n",
              "      display: none;\n",
              "      fill: #1967D2;\n",
              "      height: 32px;\n",
              "      padding: 0 0 0 0;\n",
              "      width: 32px;\n",
              "    }\n",
              "\n",
              "    .colab-df-convert:hover {\n",
              "      background-color: #E2EBFA;\n",
              "      box-shadow: 0px 1px 2px rgba(60, 64, 67, 0.3), 0px 1px 3px 1px rgba(60, 64, 67, 0.15);\n",
              "      fill: #174EA6;\n",
              "    }\n",
              "\n",
              "    [theme=dark] .colab-df-convert {\n",
              "      background-color: #3B4455;\n",
              "      fill: #D2E3FC;\n",
              "    }\n",
              "\n",
              "    [theme=dark] .colab-df-convert:hover {\n",
              "      background-color: #434B5C;\n",
              "      box-shadow: 0px 1px 3px 1px rgba(0, 0, 0, 0.15);\n",
              "      filter: drop-shadow(0px 1px 2px rgba(0, 0, 0, 0.3));\n",
              "      fill: #FFFFFF;\n",
              "    }\n",
              "  </style>\n",
              "\n",
              "      <script>\n",
              "        const buttonEl =\n",
              "          document.querySelector('#df-759f0845-29b5-4f07-b38a-5d382fb6c36b button.colab-df-convert');\n",
              "        buttonEl.style.display =\n",
              "          google.colab.kernel.accessAllowed ? 'block' : 'none';\n",
              "\n",
              "        async function convertToInteractive(key) {\n",
              "          const element = document.querySelector('#df-759f0845-29b5-4f07-b38a-5d382fb6c36b');\n",
              "          const dataTable =\n",
              "            await google.colab.kernel.invokeFunction('convertToInteractive',\n",
              "                                                     [key], {});\n",
              "          if (!dataTable) return;\n",
              "\n",
              "          const docLinkHtml = 'Like what you see? Visit the ' +\n",
              "            '<a target=\"_blank\" href=https://colab.research.google.com/notebooks/data_table.ipynb>data table notebook</a>'\n",
              "            + ' to learn more about interactive tables.';\n",
              "          element.innerHTML = '';\n",
              "          dataTable['output_type'] = 'display_data';\n",
              "          await google.colab.output.renderOutput(dataTable, element);\n",
              "          const docLink = document.createElement('div');\n",
              "          docLink.innerHTML = docLinkHtml;\n",
              "          element.appendChild(docLink);\n",
              "        }\n",
              "      </script>\n",
              "    </div>\n",
              "  </div>\n",
              "  "
            ],
            "text/plain": [
              "             budget   box_dom  box_world\n",
              "budget     1.000000  0.715714   0.786801\n",
              "box_dom    0.715714  1.000000   0.946223\n",
              "box_world  0.786801  0.946223   1.000000"
            ]
          },
          "execution_count": 201,
          "metadata": {},
          "output_type": "execute_result"
        }
      ],
      "source": [
        "movies[['budget','box_dom','box_world']].corr()"
      ]
    },
    {
      "attachments": {},
      "cell_type": "markdown",
      "metadata": {
        "id": "TiKPGugI1fce"
      },
      "source": [
        "## Estadísticas agrupadas\n",
        "\n",
        "Se utiliza para variable numerica vs categorica"
      ]
    },
    {
      "cell_type": "code",
      "execution_count": 202,
      "metadata": {
        "colab": {
          "base_uri": "https://localhost:8080/",
          "height": 393
        },
        "id": "BpOiqAkn2E5x",
        "outputId": "57aa576e-f1d5-458d-89eb-7ef906ca083a"
      },
      "outputs": [
        {
          "data": {
            "text/plain": [
              "<AxesSubplot:xlabel='genre'>"
            ]
          },
          "execution_count": 202,
          "metadata": {},
          "output_type": "execute_result"
        },
        {
          "data": {
            "image/png": "[encoded data removed]",
            "text/plain": [
              "<Figure size 432x288 with 1 Axes>"
            ]
          },
          "metadata": {
            "needs_background": "light"
          },
          "output_type": "display_data"
        }
      ],
      "source": [
        "movies.groupby(\"genre\")[\"box_dom\"].mean().plot.bar()"
      ]
    },
    {
      "cell_type": "code",
      "execution_count": 203,
      "metadata": {
        "colab": {
          "base_uri": "https://localhost:8080/",
          "height": 393
        },
        "id": "JBHQSvikJYV2",
        "outputId": "ede1ec26-3cf8-4773-be71-70eead5f19c3"
      },
      "outputs": [
        {
          "data": {
            "text/plain": [
              "<AxesSubplot:xlabel='genre'>"
            ]
          },
          "execution_count": 203,
          "metadata": {},
          "output_type": "execute_result"
        },
        {
          "data": {
            "image/png": "[encoded data removed]",
            "text/plain": [
              "<Figure size 432x288 with 1 Axes>"
            ]
          },
          "metadata": {
            "needs_background": "light"
          },
          "output_type": "display_data"
        }
      ],
      "source": [
        "movies.groupby(\"genre\")[\"box_dom\"].mean().sort_values(ascending=False).plot.bar()"
      ]
    },
    {
      "cell_type": "code",
      "execution_count": 204,
      "metadata": {
        "colab": {
          "base_uri": "https://localhost:8080/",
          "height": 393
        },
        "id": "1U-KYtF-2t_0",
        "outputId": "bdf44be6-b1c5-4272-dd1e-d23dc225af09"
      },
      "outputs": [
        {
          "data": {
            "text/plain": [
              "<AxesSubplot:xlabel='genre'>"
            ]
          },
          "execution_count": 204,
          "metadata": {},
          "output_type": "execute_result"
        },
        {
          "data": {
            "image/png": "[encoded data removed]",
            "text/plain": [
              "<Figure size 432x288 with 1 Axes>"
            ]
          },
          "metadata": {
            "needs_background": "light"
          },
          "output_type": "display_data"
        }
      ],
      "source": [
        "movies.groupby(\"genre\")[\"box_dom\"].sum().plot.bar()"
      ]
    },
    {
      "attachments": {},
      "cell_type": "markdown",
      "metadata": {
        "id": "hZA86ealCHM5"
      },
      "source": [
        "## Gráficos de cajas por grupos"
      ]
    },
    {
      "cell_type": "code",
      "execution_count": 205,
      "metadata": {
        "colab": {
          "base_uri": "https://localhost:8080/",
          "height": 298
        },
        "id": "V3ZS0PPQCG17",
        "outputId": "3e2d74cc-d78c-4118-c58e-3b20b1698891"
      },
      "outputs": [
        {
          "data": {
            "text/plain": [
              "<AxesSubplot:xlabel='box_dom', ylabel='genre'>"
            ]
          },
          "execution_count": 205,
          "metadata": {},
          "output_type": "execute_result"
        },
        {
          "data": {
            "image/png": "[encoded data removed]",
            "text/plain": [
              "<Figure size 432x288 with 1 Axes>"
            ]
          },
          "metadata": {
            "needs_background": "light"
          },
          "output_type": "display_data"
        }
      ],
      "source": [
        "# Comparar ingresos de peliculas por genero a través de gráficos de caja\n",
        "sns.boxplot(data=movies, x='box_dom', y='genre', orient='h')"
      ]
    },
    {
      "attachments": {},
      "cell_type": "markdown",
      "metadata": {
        "id": "EOoTzh3HCD1a"
      },
      "source": [
        "## Pivoteo "
      ]
    },
    {
      "cell_type": "code",
      "execution_count": 208,
      "metadata": {
        "colab": {
          "base_uri": "https://localhost:8080/",
          "height": 457
        },
        "id": "k4zXUQgvJjSP",
        "outputId": "297c61a8-4cbf-4060-ceee-5034e9d767a7"
      },
      "outputs": [
        {
          "data": {
            "text/html": [
              "\n",
              "  <div id=\"df-6cf5b0c5-f836-4df4-af21-d662af7545ec\">\n",
              "    <div class=\"colab-df-container\">\n",
              "      <div>\n",
              "<style scoped>\n",
              "    .dataframe tbody tr th:only-of-type {\n",
              "        vertical-align: middle;\n",
              "    }\n",
              "\n",
              "    .dataframe tbody tr th {\n",
              "        vertical-align: top;\n",
              "    }\n",
              "\n",
              "    .dataframe thead th {\n",
              "        text-align: right;\n",
              "    }\n",
              "</style>\n",
              "<table border=\"1\" class=\"dataframe\">\n",
              "  <thead>\n",
              "    <tr style=\"text-align: right;\">\n",
              "      <th>mpaa</th>\n",
              "      <th>G</th>\n",
              "      <th>NC-17</th>\n",
              "      <th>Not Rated</th>\n",
              "      <th>PG</th>\n",
              "      <th>PG-13</th>\n",
              "      <th>R</th>\n",
              "    </tr>\n",
              "    <tr>\n",
              "      <th>genre</th>\n",
              "      <th></th>\n",
              "      <th></th>\n",
              "      <th></th>\n",
              "      <th></th>\n",
              "      <th></th>\n",
              "      <th></th>\n",
              "    </tr>\n",
              "  </thead>\n",
              "  <tbody>\n",
              "    <tr>\n",
              "      <th>Action</th>\n",
              "      <td>0.000000</td>\n",
              "      <td>0.000000</td>\n",
              "      <td>3.720686</td>\n",
              "      <td>0.000000</td>\n",
              "      <td>144.710700</td>\n",
              "      <td>44.540632</td>\n",
              "    </tr>\n",
              "    <tr>\n",
              "      <th>Adventure</th>\n",
              "      <td>127.142700</td>\n",
              "      <td>0.000000</td>\n",
              "      <td>0.004091</td>\n",
              "      <td>111.006048</td>\n",
              "      <td>204.006527</td>\n",
              "      <td>54.315522</td>\n",
              "    </tr>\n",
              "    <tr>\n",
              "      <th>Black Comedy</th>\n",
              "      <td>0.000000</td>\n",
              "      <td>0.000000</td>\n",
              "      <td>0.024956</td>\n",
              "      <td>0.000000</td>\n",
              "      <td>26.597757</td>\n",
              "      <td>42.065376</td>\n",
              "    </tr>\n",
              "    <tr>\n",
              "      <th>Comedy</th>\n",
              "      <td>121.066007</td>\n",
              "      <td>0.000000</td>\n",
              "      <td>0.021896</td>\n",
              "      <td>89.566775</td>\n",
              "      <td>49.276181</td>\n",
              "      <td>50.915356</td>\n",
              "    </tr>\n",
              "    <tr>\n",
              "      <th>Concert/Performance</th>\n",
              "      <td>73.013910</td>\n",
              "      <td>0.000000</td>\n",
              "      <td>0.000000</td>\n",
              "      <td>22.020614</td>\n",
              "      <td>0.000000</td>\n",
              "      <td>14.456818</td>\n",
              "    </tr>\n",
              "    <tr>\n",
              "      <th>Documentary</th>\n",
              "      <td>0.101531</td>\n",
              "      <td>0.000000</td>\n",
              "      <td>0.226297</td>\n",
              "      <td>16.711109</td>\n",
              "      <td>2.666423</td>\n",
              "      <td>0.000000</td>\n",
              "    </tr>\n",
              "    <tr>\n",
              "      <th>Drama</th>\n",
              "      <td>1.891936</td>\n",
              "      <td>4.002293</td>\n",
              "      <td>0.306855</td>\n",
              "      <td>39.259077</td>\n",
              "      <td>42.629844</td>\n",
              "      <td>21.905774</td>\n",
              "    </tr>\n",
              "    <tr>\n",
              "      <th>Horror</th>\n",
              "      <td>0.000000</td>\n",
              "      <td>0.000000</td>\n",
              "      <td>0.016348</td>\n",
              "      <td>80.069458</td>\n",
              "      <td>33.606848</td>\n",
              "      <td>30.270930</td>\n",
              "    </tr>\n",
              "    <tr>\n",
              "      <th>Musical</th>\n",
              "      <td>0.000000</td>\n",
              "      <td>0.000000</td>\n",
              "      <td>0.222098</td>\n",
              "      <td>73.643941</td>\n",
              "      <td>57.922981</td>\n",
              "      <td>38.518613</td>\n",
              "    </tr>\n",
              "    <tr>\n",
              "      <th>Romantic Comedy</th>\n",
              "      <td>0.000000</td>\n",
              "      <td>0.000000</td>\n",
              "      <td>1.403489</td>\n",
              "      <td>52.594359</td>\n",
              "      <td>40.910358</td>\n",
              "      <td>27.367861</td>\n",
              "    </tr>\n",
              "    <tr>\n",
              "      <th>Thriller/Suspense</th>\n",
              "      <td>0.000000</td>\n",
              "      <td>0.000000</td>\n",
              "      <td>0.062964</td>\n",
              "      <td>0.000000</td>\n",
              "      <td>70.780558</td>\n",
              "      <td>27.599203</td>\n",
              "    </tr>\n",
              "    <tr>\n",
              "      <th>Western</th>\n",
              "      <td>0.000000</td>\n",
              "      <td>0.000000</td>\n",
              "      <td>0.000000</td>\n",
              "      <td>0.000000</td>\n",
              "      <td>89.289910</td>\n",
              "      <td>72.949498</td>\n",
              "    </tr>\n",
              "  </tbody>\n",
              "</table>\n",
              "</div>\n",
              "      <button class=\"colab-df-convert\" onclick=\"convertToInteractive('df-6cf5b0c5-f836-4df4-af21-d662af7545ec')\"\n",
              "              title=\"Convert this dataframe to an interactive table.\"\n",
              "              style=\"display:none;\">\n",
              "        \n",
              "  <svg xmlns=\"http://www.w3.org/2000/svg\" height=\"24px\"viewBox=\"0 0 24 24\"\n",
              "       width=\"24px\">\n",
              "    <path d=\"M0 0h24v24H0V0z\" fill=\"none\"/>\n",
              "    <path d=\"M18.56 5.44l.94 2.06.94-2.06 2.06-.94-2.06-.94-.94-2.06-.94 2.06-2.06.94zm-11 1L8.5 8.5l.94-2.06 2.06-.94-2.06-.94L8.5 2.5l-.94 2.06-2.06.94zm10 10l.94 2.06.94-2.06 2.06-.94-2.06-.94-.94-2.06-.94 2.06-2.06.94z\"/><path d=\"M17.41 7.96l-1.37-1.37c-.4-.4-.92-.59-1.43-.59-.52 0-1.04.2-1.43.59L10.3 9.45l-7.72 7.72c-.78.78-.78 2.05 0 2.83L4 21.41c.39.39.9.59 1.41.59.51 0 1.02-.2 1.41-.59l7.78-7.78 2.81-2.81c.8-.78.8-2.07 0-2.86zM5.41 20L4 18.59l7.72-7.72 1.47 1.35L5.41 20z\"/>\n",
              "  </svg>\n",
              "      </button>\n",
              "      \n",
              "  <style>\n",
              "    .colab-df-container {\n",
              "      display:flex;\n",
              "      flex-wrap:wrap;\n",
              "      gap: 12px;\n",
              "    }\n",
              "\n",
              "    .colab-df-convert {\n",
              "      background-color: #E8F0FE;\n",
              "      border: none;\n",
              "      border-radius: 50%;\n",
              "      cursor: pointer;\n",
              "      display: none;\n",
              "      fill: #1967D2;\n",
              "      height: 32px;\n",
              "      padding: 0 0 0 0;\n",
              "      width: 32px;\n",
              "    }\n",
              "\n",
              "    .colab-df-convert:hover {\n",
              "      background-color: #E2EBFA;\n",
              "      box-shadow: 0px 1px 2px rgba(60, 64, 67, 0.3), 0px 1px 3px 1px rgba(60, 64, 67, 0.15);\n",
              "      fill: #174EA6;\n",
              "    }\n",
              "\n",
              "    [theme=dark] .colab-df-convert {\n",
              "      background-color: #3B4455;\n",
              "      fill: #D2E3FC;\n",
              "    }\n",
              "\n",
              "    [theme=dark] .colab-df-convert:hover {\n",
              "      background-color: #434B5C;\n",
              "      box-shadow: 0px 1px 3px 1px rgba(0, 0, 0, 0.15);\n",
              "      filter: drop-shadow(0px 1px 2px rgba(0, 0, 0, 0.3));\n",
              "      fill: #FFFFFF;\n",
              "    }\n",
              "  </style>\n",
              "\n",
              "      <script>\n",
              "        const buttonEl =\n",
              "          document.querySelector('#df-6cf5b0c5-f836-4df4-af21-d662af7545ec button.colab-df-convert');\n",
              "        buttonEl.style.display =\n",
              "          google.colab.kernel.accessAllowed ? 'block' : 'none';\n",
              "\n",
              "        async function convertToInteractive(key) {\n",
              "          const element = document.querySelector('#df-6cf5b0c5-f836-4df4-af21-d662af7545ec');\n",
              "          const dataTable =\n",
              "            await google.colab.kernel.invokeFunction('convertToInteractive',\n",
              "                                                     [key], {});\n",
              "          if (!dataTable) return;\n",
              "\n",
              "          const docLinkHtml = 'Like what you see? Visit the ' +\n",
              "            '<a target=\"_blank\" href=https://colab.research.google.com/notebooks/data_table.ipynb>data table notebook</a>'\n",
              "            + ' to learn more about interactive tables.';\n",
              "          element.innerHTML = '';\n",
              "          dataTable['output_type'] = 'display_data';\n",
              "          await google.colab.output.renderOutput(dataTable, element);\n",
              "          const docLink = document.createElement('div');\n",
              "          docLink.innerHTML = docLinkHtml;\n",
              "          element.appendChild(docLink);\n",
              "        }\n",
              "      </script>\n",
              "    </div>\n",
              "  </div>\n",
              "  "
            ],
            "text/plain": [
              "mpaa                          G     NC-17  Not Rated          PG       PG-13  \\\n",
              "genre                                                                          \n",
              "Action                 0.000000  0.000000   3.720686    0.000000  144.710700   \n",
              "Adventure            127.142700  0.000000   0.004091  111.006048  204.006527   \n",
              "Black Comedy           0.000000  0.000000   0.024956    0.000000   26.597757   \n",
              "Comedy               121.066007  0.000000   0.021896   89.566775   49.276181   \n",
              "Concert/Performance   73.013910  0.000000   0.000000   22.020614    0.000000   \n",
              "Documentary            0.101531  0.000000   0.226297   16.711109    2.666423   \n",
              "Drama                  1.891936  4.002293   0.306855   39.259077   42.629844   \n",
              "Horror                 0.000000  0.000000   0.016348   80.069458   33.606848   \n",
              "Musical                0.000000  0.000000   0.222098   73.643941   57.922981   \n",
              "Romantic Comedy        0.000000  0.000000   1.403489   52.594359   40.910358   \n",
              "Thriller/Suspense      0.000000  0.000000   0.062964    0.000000   70.780558   \n",
              "Western                0.000000  0.000000   0.000000    0.000000   89.289910   \n",
              "\n",
              "mpaa                         R  \n",
              "genre                           \n",
              "Action               44.540632  \n",
              "Adventure            54.315522  \n",
              "Black Comedy         42.065376  \n",
              "Comedy               50.915356  \n",
              "Concert/Performance  14.456818  \n",
              "Documentary           0.000000  \n",
              "Drama                21.905774  \n",
              "Horror               30.270930  \n",
              "Musical              38.518613  \n",
              "Romantic Comedy      27.367861  \n",
              "Thriller/Suspense    27.599203  \n",
              "Western              72.949498  "
            ]
          },
          "execution_count": 208,
          "metadata": {},
          "output_type": "execute_result"
        }
      ],
      "source": [
        "movies.pivot_table(index='genre', columns='mpaa', values='box_dom', aggfunc='mean', fill_value=0)"
      ]
    },
    {
      "cell_type": "code",
      "execution_count": 209,
      "metadata": {
        "colab": {
          "base_uri": "https://localhost:8080/",
          "height": 457
        },
        "id": "oFPa7mBrJhcj",
        "outputId": "28133604-06c7-4bbf-f804-1f6040b4046e"
      },
      "outputs": [
        {
          "data": {
            "text/html": [
              "\n",
              "  <div id=\"df-1151d900-5ee6-4328-8814-73803f6ebbac\">\n",
              "    <div class=\"colab-df-container\">\n",
              "      <div>\n",
              "<style scoped>\n",
              "    .dataframe tbody tr th:only-of-type {\n",
              "        vertical-align: middle;\n",
              "    }\n",
              "\n",
              "    .dataframe tbody tr th {\n",
              "        vertical-align: top;\n",
              "    }\n",
              "\n",
              "    .dataframe thead th {\n",
              "        text-align: right;\n",
              "    }\n",
              "</style>\n",
              "<table border=\"1\" class=\"dataframe\">\n",
              "  <thead>\n",
              "    <tr style=\"text-align: right;\">\n",
              "      <th>year</th>\n",
              "      <th>2011</th>\n",
              "      <th>2012</th>\n",
              "      <th>2013</th>\n",
              "      <th>2014</th>\n",
              "      <th>2015</th>\n",
              "    </tr>\n",
              "    <tr>\n",
              "      <th>month</th>\n",
              "      <th></th>\n",
              "      <th></th>\n",
              "      <th></th>\n",
              "      <th></th>\n",
              "      <th></th>\n",
              "    </tr>\n",
              "  </thead>\n",
              "  <tbody>\n",
              "    <tr>\n",
              "      <th>1</th>\n",
              "      <td>43.565118</td>\n",
              "      <td>34.038213</td>\n",
              "      <td>29.483456</td>\n",
              "      <td>49.977526</td>\n",
              "      <td>24.701615</td>\n",
              "    </tr>\n",
              "    <tr>\n",
              "      <th>2</th>\n",
              "      <td>41.378879</td>\n",
              "      <td>55.622366</td>\n",
              "      <td>36.755976</td>\n",
              "      <td>57.386689</td>\n",
              "      <td>47.044022</td>\n",
              "    </tr>\n",
              "    <tr>\n",
              "      <th>3</th>\n",
              "      <td>39.310798</td>\n",
              "      <td>78.682798</td>\n",
              "      <td>51.012079</td>\n",
              "      <td>47.102191</td>\n",
              "      <td>49.072288</td>\n",
              "    </tr>\n",
              "    <tr>\n",
              "      <th>4</th>\n",
              "      <td>38.238918</td>\n",
              "      <td>25.902664</td>\n",
              "      <td>26.231684</td>\n",
              "      <td>50.644644</td>\n",
              "      <td>43.281156</td>\n",
              "    </tr>\n",
              "    <tr>\n",
              "      <th>5</th>\n",
              "      <td>74.533391</td>\n",
              "      <td>105.301145</td>\n",
              "      <td>130.770365</td>\n",
              "      <td>90.705891</td>\n",
              "      <td>104.395781</td>\n",
              "    </tr>\n",
              "    <tr>\n",
              "      <th>6</th>\n",
              "      <td>104.359592</td>\n",
              "      <td>68.773073</td>\n",
              "      <td>110.016339</td>\n",
              "      <td>81.267567</td>\n",
              "      <td>134.571166</td>\n",
              "    </tr>\n",
              "    <tr>\n",
              "      <th>7</th>\n",
              "      <td>56.193518</td>\n",
              "      <td>95.397167</td>\n",
              "      <td>77.159770</td>\n",
              "      <td>49.553720</td>\n",
              "      <td>65.422967</td>\n",
              "    </tr>\n",
              "    <tr>\n",
              "      <th>8</th>\n",
              "      <td>32.642957</td>\n",
              "      <td>36.140728</td>\n",
              "      <td>44.157878</td>\n",
              "      <td>56.725919</td>\n",
              "      <td>36.651597</td>\n",
              "    </tr>\n",
              "    <tr>\n",
              "      <th>9</th>\n",
              "      <td>19.256815</td>\n",
              "      <td>26.166958</td>\n",
              "      <td>36.446425</td>\n",
              "      <td>26.110676</td>\n",
              "      <td>51.895295</td>\n",
              "    </tr>\n",
              "    <tr>\n",
              "      <th>10</th>\n",
              "      <td>31.810741</td>\n",
              "      <td>31.737214</td>\n",
              "      <td>49.374210</td>\n",
              "      <td>44.708184</td>\n",
              "      <td>43.429517</td>\n",
              "    </tr>\n",
              "    <tr>\n",
              "      <th>11</th>\n",
              "      <td>59.587323</td>\n",
              "      <td>95.040763</td>\n",
              "      <td>86.527075</td>\n",
              "      <td>86.073270</td>\n",
              "      <td>70.088573</td>\n",
              "    </tr>\n",
              "    <tr>\n",
              "      <th>12</th>\n",
              "      <td>58.658937</td>\n",
              "      <td>72.786644</td>\n",
              "      <td>69.264938</td>\n",
              "      <td>76.524747</td>\n",
              "      <td>147.007134</td>\n",
              "    </tr>\n",
              "  </tbody>\n",
              "</table>\n",
              "</div>\n",
              "      <button class=\"colab-df-convert\" onclick=\"convertToInteractive('df-1151d900-5ee6-4328-8814-73803f6ebbac')\"\n",
              "              title=\"Convert this dataframe to an interactive table.\"\n",
              "              style=\"display:none;\">\n",
              "        \n",
              "  <svg xmlns=\"http://www.w3.org/2000/svg\" height=\"24px\"viewBox=\"0 0 24 24\"\n",
              "       width=\"24px\">\n",
              "    <path d=\"M0 0h24v24H0V0z\" fill=\"none\"/>\n",
              "    <path d=\"M18.56 5.44l.94 2.06.94-2.06 2.06-.94-2.06-.94-.94-2.06-.94 2.06-2.06.94zm-11 1L8.5 8.5l.94-2.06 2.06-.94-2.06-.94L8.5 2.5l-.94 2.06-2.06.94zm10 10l.94 2.06.94-2.06 2.06-.94-2.06-.94-.94-2.06-.94 2.06-2.06.94z\"/><path d=\"M17.41 7.96l-1.37-1.37c-.4-.4-.92-.59-1.43-.59-.52 0-1.04.2-1.43.59L10.3 9.45l-7.72 7.72c-.78.78-.78 2.05 0 2.83L4 21.41c.39.39.9.59 1.41.59.51 0 1.02-.2 1.41-.59l7.78-7.78 2.81-2.81c.8-.78.8-2.07 0-2.86zM5.41 20L4 18.59l7.72-7.72 1.47 1.35L5.41 20z\"/>\n",
              "  </svg>\n",
              "      </button>\n",
              "      \n",
              "  <style>\n",
              "    .colab-df-container {\n",
              "      display:flex;\n",
              "      flex-wrap:wrap;\n",
              "      gap: 12px;\n",
              "    }\n",
              "\n",
              "    .colab-df-convert {\n",
              "      background-color: #E8F0FE;\n",
              "      border: none;\n",
              "      border-radius: 50%;\n",
              "      cursor: pointer;\n",
              "      display: none;\n",
              "      fill: #1967D2;\n",
              "      height: 32px;\n",
              "      padding: 0 0 0 0;\n",
              "      width: 32px;\n",
              "    }\n",
              "\n",
              "    .colab-df-convert:hover {\n",
              "      background-color: #E2EBFA;\n",
              "      box-shadow: 0px 1px 2px rgba(60, 64, 67, 0.3), 0px 1px 3px 1px rgba(60, 64, 67, 0.15);\n",
              "      fill: #174EA6;\n",
              "    }\n",
              "\n",
              "    [theme=dark] .colab-df-convert {\n",
              "      background-color: #3B4455;\n",
              "      fill: #D2E3FC;\n",
              "    }\n",
              "\n",
              "    [theme=dark] .colab-df-convert:hover {\n",
              "      background-color: #434B5C;\n",
              "      box-shadow: 0px 1px 3px 1px rgba(0, 0, 0, 0.15);\n",
              "      filter: drop-shadow(0px 1px 2px rgba(0, 0, 0, 0.3));\n",
              "      fill: #FFFFFF;\n",
              "    }\n",
              "  </style>\n",
              "\n",
              "      <script>\n",
              "        const buttonEl =\n",
              "          document.querySelector('#df-1151d900-5ee6-4328-8814-73803f6ebbac button.colab-df-convert');\n",
              "        buttonEl.style.display =\n",
              "          google.colab.kernel.accessAllowed ? 'block' : 'none';\n",
              "\n",
              "        async function convertToInteractive(key) {\n",
              "          const element = document.querySelector('#df-1151d900-5ee6-4328-8814-73803f6ebbac');\n",
              "          const dataTable =\n",
              "            await google.colab.kernel.invokeFunction('convertToInteractive',\n",
              "                                                     [key], {});\n",
              "          if (!dataTable) return;\n",
              "\n",
              "          const docLinkHtml = 'Like what you see? Visit the ' +\n",
              "            '<a target=\"_blank\" href=https://colab.research.google.com/notebooks/data_table.ipynb>data table notebook</a>'\n",
              "            + ' to learn more about interactive tables.';\n",
              "          element.innerHTML = '';\n",
              "          dataTable['output_type'] = 'display_data';\n",
              "          await google.colab.output.renderOutput(dataTable, element);\n",
              "          const docLink = document.createElement('div');\n",
              "          docLink.innerHTML = docLinkHtml;\n",
              "          element.appendChild(docLink);\n",
              "        }\n",
              "      </script>\n",
              "    </div>\n",
              "  </div>\n",
              "  "
            ],
            "text/plain": [
              "year         2011        2012        2013       2014        2015\n",
              "month                                                           \n",
              "1       43.565118   34.038213   29.483456  49.977526   24.701615\n",
              "2       41.378879   55.622366   36.755976  57.386689   47.044022\n",
              "3       39.310798   78.682798   51.012079  47.102191   49.072288\n",
              "4       38.238918   25.902664   26.231684  50.644644   43.281156\n",
              "5       74.533391  105.301145  130.770365  90.705891  104.395781\n",
              "6      104.359592   68.773073  110.016339  81.267567  134.571166\n",
              "7       56.193518   95.397167   77.159770  49.553720   65.422967\n",
              "8       32.642957   36.140728   44.157878  56.725919   36.651597\n",
              "9       19.256815   26.166958   36.446425  26.110676   51.895295\n",
              "10      31.810741   31.737214   49.374210  44.708184   43.429517\n",
              "11      59.587323   95.040763   86.527075  86.073270   70.088573\n",
              "12      58.658937   72.786644   69.264938  76.524747  147.007134"
            ]
          },
          "execution_count": 209,
          "metadata": {},
          "output_type": "execute_result"
        }
      ],
      "source": [
        "movies.pivot_table(index='month', columns='year', values='box_dom', aggfunc='mean', fill_value=0)"
      ]
    },
    {
      "cell_type": "code",
      "execution_count": 210,
      "metadata": {
        "colab": {
          "base_uri": "https://localhost:8080/",
          "height": 297
        },
        "id": "S3wZ2fzED55K",
        "outputId": "b1153827-3e80-4a2f-e1e0-05c54f6365a2"
      },
      "outputs": [
        {
          "data": {
            "text/plain": [
              "<AxesSubplot:xlabel='month'>"
            ]
          },
          "execution_count": 210,
          "metadata": {},
          "output_type": "execute_result"
        },
        {
          "data": {
            "image/png": "[encoded data removed]",
            "text/plain": [
              "<Figure size 432x288 with 1 Axes>"
            ]
          },
          "metadata": {
            "needs_background": "light"
          },
          "output_type": "display_data"
        }
      ],
      "source": [
        "# Calcular estadísticas en relación a dos variables\n",
        "movies.pivot_table(index='month', columns='year', values='box_dom', aggfunc='mean', fill_value=0).plot()"
      ]
    },
    {
      "cell_type": "code",
      "execution_count": 211,
      "metadata": {
        "colab": {
          "base_uri": "https://localhost:8080/",
          "height": 457
        },
        "id": "qcP5yepkEhFv",
        "outputId": "da3e2261-659d-4a32-cd43-3a0ae227f0a7"
      },
      "outputs": [
        {
          "data": {
            "text/html": [
              "\n",
              "  <div id=\"df-9be226f3-8217-4bd0-a522-bfc8492fcf31\">\n",
              "    <div class=\"colab-df-container\">\n",
              "      <div>\n",
              "<style scoped>\n",
              "    .dataframe tbody tr th:only-of-type {\n",
              "        vertical-align: middle;\n",
              "    }\n",
              "\n",
              "    .dataframe tbody tr th {\n",
              "        vertical-align: top;\n",
              "    }\n",
              "\n",
              "    .dataframe thead th {\n",
              "        text-align: right;\n",
              "    }\n",
              "</style>\n",
              "<table border=\"1\" class=\"dataframe\">\n",
              "  <thead>\n",
              "    <tr style=\"text-align: right;\">\n",
              "      <th>mpaa</th>\n",
              "      <th>G</th>\n",
              "      <th>NC-17</th>\n",
              "      <th>Not Rated</th>\n",
              "      <th>PG</th>\n",
              "      <th>PG-13</th>\n",
              "      <th>R</th>\n",
              "    </tr>\n",
              "    <tr>\n",
              "      <th>genre</th>\n",
              "      <th></th>\n",
              "      <th></th>\n",
              "      <th></th>\n",
              "      <th></th>\n",
              "      <th></th>\n",
              "      <th></th>\n",
              "    </tr>\n",
              "  </thead>\n",
              "  <tbody>\n",
              "    <tr>\n",
              "      <th>Action</th>\n",
              "      <td>0.000000</td>\n",
              "      <td>0.000000</td>\n",
              "      <td>3.720686</td>\n",
              "      <td>0.000000</td>\n",
              "      <td>98.780042</td>\n",
              "      <td>30.345383</td>\n",
              "    </tr>\n",
              "    <tr>\n",
              "      <th>Adventure</th>\n",
              "      <td>137.579122</td>\n",
              "      <td>0.000000</td>\n",
              "      <td>0.004091</td>\n",
              "      <td>83.950829</td>\n",
              "      <td>179.020854</td>\n",
              "      <td>11.704934</td>\n",
              "    </tr>\n",
              "    <tr>\n",
              "      <th>Black Comedy</th>\n",
              "      <td>0.000000</td>\n",
              "      <td>0.000000</td>\n",
              "      <td>0.024956</td>\n",
              "      <td>0.000000</td>\n",
              "      <td>9.204489</td>\n",
              "      <td>35.966501</td>\n",
              "    </tr>\n",
              "    <tr>\n",
              "      <th>Comedy</th>\n",
              "      <td>130.122961</td>\n",
              "      <td>0.000000</td>\n",
              "      <td>0.003677</td>\n",
              "      <td>62.595494</td>\n",
              "      <td>34.580201</td>\n",
              "      <td>34.296320</td>\n",
              "    </tr>\n",
              "    <tr>\n",
              "      <th>Concert/Performance</th>\n",
              "      <td>73.013910</td>\n",
              "      <td>0.000000</td>\n",
              "      <td>0.000000</td>\n",
              "      <td>25.326071</td>\n",
              "      <td>0.000000</td>\n",
              "      <td>7.706436</td>\n",
              "    </tr>\n",
              "    <tr>\n",
              "      <th>Documentary</th>\n",
              "      <td>0.101531</td>\n",
              "      <td>0.000000</td>\n",
              "      <td>0.020056</td>\n",
              "      <td>16.711109</td>\n",
              "      <td>2.540483</td>\n",
              "      <td>0.000000</td>\n",
              "    </tr>\n",
              "    <tr>\n",
              "      <th>Drama</th>\n",
              "      <td>1.891936</td>\n",
              "      <td>4.002293</td>\n",
              "      <td>0.018823</td>\n",
              "      <td>25.142632</td>\n",
              "      <td>23.917859</td>\n",
              "      <td>3.774981</td>\n",
              "    </tr>\n",
              "    <tr>\n",
              "      <th>Horror</th>\n",
              "      <td>0.000000</td>\n",
              "      <td>0.000000</td>\n",
              "      <td>0.016348</td>\n",
              "      <td>80.069458</td>\n",
              "      <td>30.374271</td>\n",
              "      <td>24.046682</td>\n",
              "    </tr>\n",
              "    <tr>\n",
              "      <th>Musical</th>\n",
              "      <td>0.000000</td>\n",
              "      <td>0.000000</td>\n",
              "      <td>0.222098</td>\n",
              "      <td>85.911262</td>\n",
              "      <td>41.367428</td>\n",
              "      <td>38.518613</td>\n",
              "    </tr>\n",
              "    <tr>\n",
              "      <th>Romantic Comedy</th>\n",
              "      <td>0.000000</td>\n",
              "      <td>0.000000</td>\n",
              "      <td>1.403489</td>\n",
              "      <td>54.235441</td>\n",
              "      <td>41.152203</td>\n",
              "      <td>23.148526</td>\n",
              "    </tr>\n",
              "    <tr>\n",
              "      <th>Thriller/Suspense</th>\n",
              "      <td>0.000000</td>\n",
              "      <td>0.000000</td>\n",
              "      <td>0.059424</td>\n",
              "      <td>0.000000</td>\n",
              "      <td>37.662162</td>\n",
              "      <td>17.105785</td>\n",
              "    </tr>\n",
              "    <tr>\n",
              "      <th>Western</th>\n",
              "      <td>0.000000</td>\n",
              "      <td>0.000000</td>\n",
              "      <td>0.000000</td>\n",
              "      <td>0.000000</td>\n",
              "      <td>89.289910</td>\n",
              "      <td>53.613071</td>\n",
              "    </tr>\n",
              "  </tbody>\n",
              "</table>\n",
              "</div>\n",
              "      <button class=\"colab-df-convert\" onclick=\"convertToInteractive('df-9be226f3-8217-4bd0-a522-bfc8492fcf31')\"\n",
              "              title=\"Convert this dataframe to an interactive table.\"\n",
              "              style=\"display:none;\">\n",
              "        \n",
              "  <svg xmlns=\"http://www.w3.org/2000/svg\" height=\"24px\"viewBox=\"0 0 24 24\"\n",
              "       width=\"24px\">\n",
              "    <path d=\"M0 0h24v24H0V0z\" fill=\"none\"/>\n",
              "    <path d=\"M18.56 5.44l.94 2.06.94-2.06 2.06-.94-2.06-.94-.94-2.06-.94 2.06-2.06.94zm-11 1L8.5 8.5l.94-2.06 2.06-.94-2.06-.94L8.5 2.5l-.94 2.06-2.06.94zm10 10l.94 2.06.94-2.06 2.06-.94-2.06-.94-.94-2.06-.94 2.06-2.06.94z\"/><path d=\"M17.41 7.96l-1.37-1.37c-.4-.4-.92-.59-1.43-.59-.52 0-1.04.2-1.43.59L10.3 9.45l-7.72 7.72c-.78.78-.78 2.05 0 2.83L4 21.41c.39.39.9.59 1.41.59.51 0 1.02-.2 1.41-.59l7.78-7.78 2.81-2.81c.8-.78.8-2.07 0-2.86zM5.41 20L4 18.59l7.72-7.72 1.47 1.35L5.41 20z\"/>\n",
              "  </svg>\n",
              "      </button>\n",
              "      \n",
              "  <style>\n",
              "    .colab-df-container {\n",
              "      display:flex;\n",
              "      flex-wrap:wrap;\n",
              "      gap: 12px;\n",
              "    }\n",
              "\n",
              "    .colab-df-convert {\n",
              "      background-color: #E8F0FE;\n",
              "      border: none;\n",
              "      border-radius: 50%;\n",
              "      cursor: pointer;\n",
              "      display: none;\n",
              "      fill: #1967D2;\n",
              "      height: 32px;\n",
              "      padding: 0 0 0 0;\n",
              "      width: 32px;\n",
              "    }\n",
              "\n",
              "    .colab-df-convert:hover {\n",
              "      background-color: #E2EBFA;\n",
              "      box-shadow: 0px 1px 2px rgba(60, 64, 67, 0.3), 0px 1px 3px 1px rgba(60, 64, 67, 0.15);\n",
              "      fill: #174EA6;\n",
              "    }\n",
              "\n",
              "    [theme=dark] .colab-df-convert {\n",
              "      background-color: #3B4455;\n",
              "      fill: #D2E3FC;\n",
              "    }\n",
              "\n",
              "    [theme=dark] .colab-df-convert:hover {\n",
              "      background-color: #434B5C;\n",
              "      box-shadow: 0px 1px 3px 1px rgba(0, 0, 0, 0.15);\n",
              "      filter: drop-shadow(0px 1px 2px rgba(0, 0, 0, 0.3));\n",
              "      fill: #FFFFFF;\n",
              "    }\n",
              "  </style>\n",
              "\n",
              "      <script>\n",
              "        const buttonEl =\n",
              "          document.querySelector('#df-9be226f3-8217-4bd0-a522-bfc8492fcf31 button.colab-df-convert');\n",
              "        buttonEl.style.display =\n",
              "          google.colab.kernel.accessAllowed ? 'block' : 'none';\n",
              "\n",
              "        async function convertToInteractive(key) {\n",
              "          const element = document.querySelector('#df-9be226f3-8217-4bd0-a522-bfc8492fcf31');\n",
              "          const dataTable =\n",
              "            await google.colab.kernel.invokeFunction('convertToInteractive',\n",
              "                                                     [key], {});\n",
              "          if (!dataTable) return;\n",
              "\n",
              "          const docLinkHtml = 'Like what you see? Visit the ' +\n",
              "            '<a target=\"_blank\" href=https://colab.research.google.com/notebooks/data_table.ipynb>data table notebook</a>'\n",
              "            + ' to learn more about interactive tables.';\n",
              "          element.innerHTML = '';\n",
              "          dataTable['output_type'] = 'display_data';\n",
              "          await google.colab.output.renderOutput(dataTable, element);\n",
              "          const docLink = document.createElement('div');\n",
              "          docLink.innerHTML = docLinkHtml;\n",
              "          element.appendChild(docLink);\n",
              "        }\n",
              "      </script>\n",
              "    </div>\n",
              "  </div>\n",
              "  "
            ],
            "text/plain": [
              "mpaa                          G     NC-17  Not Rated         PG       PG-13  \\\n",
              "genre                                                                         \n",
              "Action                 0.000000  0.000000   3.720686   0.000000   98.780042   \n",
              "Adventure            137.579122  0.000000   0.004091  83.950829  179.020854   \n",
              "Black Comedy           0.000000  0.000000   0.024956   0.000000    9.204489   \n",
              "Comedy               130.122961  0.000000   0.003677  62.595494   34.580201   \n",
              "Concert/Performance   73.013910  0.000000   0.000000  25.326071    0.000000   \n",
              "Documentary            0.101531  0.000000   0.020056  16.711109    2.540483   \n",
              "Drama                  1.891936  4.002293   0.018823  25.142632   23.917859   \n",
              "Horror                 0.000000  0.000000   0.016348  80.069458   30.374271   \n",
              "Musical                0.000000  0.000000   0.222098  85.911262   41.367428   \n",
              "Romantic Comedy        0.000000  0.000000   1.403489  54.235441   41.152203   \n",
              "Thriller/Suspense      0.000000  0.000000   0.059424   0.000000   37.662162   \n",
              "Western                0.000000  0.000000   0.000000   0.000000   89.289910   \n",
              "\n",
              "mpaa                         R  \n",
              "genre                           \n",
              "Action               30.345383  \n",
              "Adventure            11.704934  \n",
              "Black Comedy         35.966501  \n",
              "Comedy               34.296320  \n",
              "Concert/Performance   7.706436  \n",
              "Documentary           0.000000  \n",
              "Drama                 3.774981  \n",
              "Horror               24.046682  \n",
              "Musical              38.518613  \n",
              "Romantic Comedy      23.148526  \n",
              "Thriller/Suspense    17.105785  \n",
              "Western              53.613071  "
            ]
          },
          "execution_count": 211,
          "metadata": {},
          "output_type": "execute_result"
        }
      ],
      "source": [
        "movies.pivot_table(index='genre', columns='mpaa', values='box_dom', aggfunc='median', fill_value=0)"
      ]
    },
    {
      "cell_type": "code",
      "execution_count": 212,
      "metadata": {
        "colab": {
          "base_uri": "https://localhost:8080/",
          "height": 554
        },
        "id": "gPkEaQXtE1HM",
        "outputId": "1b9e9338-fc69-4d60-daa5-14884caf114c"
      },
      "outputs": [
        {
          "data": {
            "text/html": [
              "\n",
              "  <div id=\"df-35b828cf-6ddd-4430-95b8-68b837851e46\">\n",
              "    <div class=\"colab-df-container\">\n",
              "      <div>\n",
              "<style scoped>\n",
              "    .dataframe tbody tr th:only-of-type {\n",
              "        vertical-align: middle;\n",
              "    }\n",
              "\n",
              "    .dataframe tbody tr th {\n",
              "        vertical-align: top;\n",
              "    }\n",
              "\n",
              "    .dataframe thead th {\n",
              "        text-align: right;\n",
              "    }\n",
              "</style>\n",
              "<table border=\"1\" class=\"dataframe\">\n",
              "  <thead>\n",
              "    <tr style=\"text-align: right;\">\n",
              "      <th>genre</th>\n",
              "      <th>Action</th>\n",
              "      <th>Adventure</th>\n",
              "      <th>Black Comedy</th>\n",
              "      <th>Comedy</th>\n",
              "      <th>Concert/Performance</th>\n",
              "      <th>Documentary</th>\n",
              "      <th>Drama</th>\n",
              "      <th>Horror</th>\n",
              "      <th>Musical</th>\n",
              "      <th>Romantic Comedy</th>\n",
              "      <th>Thriller/Suspense</th>\n",
              "      <th>Western</th>\n",
              "    </tr>\n",
              "    <tr>\n",
              "      <th>distributor</th>\n",
              "      <th></th>\n",
              "      <th></th>\n",
              "      <th></th>\n",
              "      <th></th>\n",
              "      <th></th>\n",
              "      <th></th>\n",
              "      <th></th>\n",
              "      <th></th>\n",
              "      <th></th>\n",
              "      <th></th>\n",
              "      <th></th>\n",
              "      <th></th>\n",
              "    </tr>\n",
              "  </thead>\n",
              "  <tbody>\n",
              "    <tr>\n",
              "      <th>20th Century Fox</th>\n",
              "      <td>7</td>\n",
              "      <td>18</td>\n",
              "      <td>0</td>\n",
              "      <td>17</td>\n",
              "      <td>1</td>\n",
              "      <td>0</td>\n",
              "      <td>12</td>\n",
              "      <td>3</td>\n",
              "      <td>1</td>\n",
              "      <td>3</td>\n",
              "      <td>11</td>\n",
              "      <td>0</td>\n",
              "    </tr>\n",
              "    <tr>\n",
              "      <th>A24</th>\n",
              "      <td>0</td>\n",
              "      <td>0</td>\n",
              "      <td>0</td>\n",
              "      <td>2</td>\n",
              "      <td>0</td>\n",
              "      <td>0</td>\n",
              "      <td>1</td>\n",
              "      <td>1</td>\n",
              "      <td>0</td>\n",
              "      <td>1</td>\n",
              "      <td>3</td>\n",
              "      <td>0</td>\n",
              "    </tr>\n",
              "    <tr>\n",
              "      <th>AFFRM</th>\n",
              "      <td>0</td>\n",
              "      <td>0</td>\n",
              "      <td>0</td>\n",
              "      <td>0</td>\n",
              "      <td>0</td>\n",
              "      <td>0</td>\n",
              "      <td>1</td>\n",
              "      <td>0</td>\n",
              "      <td>0</td>\n",
              "      <td>0</td>\n",
              "      <td>0</td>\n",
              "      <td>0</td>\n",
              "    </tr>\n",
              "    <tr>\n",
              "      <th>ARC Entertainment</th>\n",
              "      <td>1</td>\n",
              "      <td>0</td>\n",
              "      <td>0</td>\n",
              "      <td>0</td>\n",
              "      <td>0</td>\n",
              "      <td>0</td>\n",
              "      <td>0</td>\n",
              "      <td>0</td>\n",
              "      <td>0</td>\n",
              "      <td>0</td>\n",
              "      <td>0</td>\n",
              "      <td>0</td>\n",
              "    </tr>\n",
              "    <tr>\n",
              "      <th>Alchemy</th>\n",
              "      <td>0</td>\n",
              "      <td>0</td>\n",
              "      <td>1</td>\n",
              "      <td>1</td>\n",
              "      <td>0</td>\n",
              "      <td>0</td>\n",
              "      <td>3</td>\n",
              "      <td>0</td>\n",
              "      <td>0</td>\n",
              "      <td>0</td>\n",
              "      <td>1</td>\n",
              "      <td>0</td>\n",
              "    </tr>\n",
              "    <tr>\n",
              "      <th>...</th>\n",
              "      <td>...</td>\n",
              "      <td>...</td>\n",
              "      <td>...</td>\n",
              "      <td>...</td>\n",
              "      <td>...</td>\n",
              "      <td>...</td>\n",
              "      <td>...</td>\n",
              "      <td>...</td>\n",
              "      <td>...</td>\n",
              "      <td>...</td>\n",
              "      <td>...</td>\n",
              "      <td>...</td>\n",
              "    </tr>\n",
              "    <tr>\n",
              "      <th>Weinstein Co.</th>\n",
              "      <td>1</td>\n",
              "      <td>4</td>\n",
              "      <td>1</td>\n",
              "      <td>7</td>\n",
              "      <td>0</td>\n",
              "      <td>0</td>\n",
              "      <td>18</td>\n",
              "      <td>0</td>\n",
              "      <td>0</td>\n",
              "      <td>0</td>\n",
              "      <td>4</td>\n",
              "      <td>2</td>\n",
              "    </tr>\n",
              "    <tr>\n",
              "      <th>Weinstein/Dimension</th>\n",
              "      <td>0</td>\n",
              "      <td>1</td>\n",
              "      <td>0</td>\n",
              "      <td>0</td>\n",
              "      <td>0</td>\n",
              "      <td>0</td>\n",
              "      <td>0</td>\n",
              "      <td>1</td>\n",
              "      <td>0</td>\n",
              "      <td>0</td>\n",
              "      <td>0</td>\n",
              "      <td>0</td>\n",
              "    </tr>\n",
              "    <tr>\n",
              "      <th>Well Go USA</th>\n",
              "      <td>0</td>\n",
              "      <td>0</td>\n",
              "      <td>0</td>\n",
              "      <td>0</td>\n",
              "      <td>0</td>\n",
              "      <td>0</td>\n",
              "      <td>1</td>\n",
              "      <td>0</td>\n",
              "      <td>0</td>\n",
              "      <td>0</td>\n",
              "      <td>0</td>\n",
              "      <td>0</td>\n",
              "    </tr>\n",
              "    <tr>\n",
              "      <th>Wrekin Hill Entertainment</th>\n",
              "      <td>0</td>\n",
              "      <td>0</td>\n",
              "      <td>0</td>\n",
              "      <td>1</td>\n",
              "      <td>0</td>\n",
              "      <td>0</td>\n",
              "      <td>1</td>\n",
              "      <td>0</td>\n",
              "      <td>0</td>\n",
              "      <td>0</td>\n",
              "      <td>0</td>\n",
              "      <td>0</td>\n",
              "    </tr>\n",
              "    <tr>\n",
              "      <th>Yash Raj Films</th>\n",
              "      <td>0</td>\n",
              "      <td>0</td>\n",
              "      <td>0</td>\n",
              "      <td>0</td>\n",
              "      <td>0</td>\n",
              "      <td>0</td>\n",
              "      <td>1</td>\n",
              "      <td>0</td>\n",
              "      <td>0</td>\n",
              "      <td>0</td>\n",
              "      <td>0</td>\n",
              "      <td>0</td>\n",
              "    </tr>\n",
              "  </tbody>\n",
              "</table>\n",
              "<p>101 rows × 12 columns</p>\n",
              "</div>\n",
              "      <button class=\"colab-df-convert\" onclick=\"convertToInteractive('df-35b828cf-6ddd-4430-95b8-68b837851e46')\"\n",
              "              title=\"Convert this dataframe to an interactive table.\"\n",
              "              style=\"display:none;\">\n",
              "        \n",
              "  <svg xmlns=\"http://www.w3.org/2000/svg\" height=\"24px\"viewBox=\"0 0 24 24\"\n",
              "       width=\"24px\">\n",
              "    <path d=\"M0 0h24v24H0V0z\" fill=\"none\"/>\n",
              "    <path d=\"M18.56 5.44l.94 2.06.94-2.06 2.06-.94-2.06-.94-.94-2.06-.94 2.06-2.06.94zm-11 1L8.5 8.5l.94-2.06 2.06-.94-2.06-.94L8.5 2.5l-.94 2.06-2.06.94zm10 10l.94 2.06.94-2.06 2.06-.94-2.06-.94-.94-2.06-.94 2.06-2.06.94z\"/><path d=\"M17.41 7.96l-1.37-1.37c-.4-.4-.92-.59-1.43-.59-.52 0-1.04.2-1.43.59L10.3 9.45l-7.72 7.72c-.78.78-.78 2.05 0 2.83L4 21.41c.39.39.9.59 1.41.59.51 0 1.02-.2 1.41-.59l7.78-7.78 2.81-2.81c.8-.78.8-2.07 0-2.86zM5.41 20L4 18.59l7.72-7.72 1.47 1.35L5.41 20z\"/>\n",
              "  </svg>\n",
              "      </button>\n",
              "      \n",
              "  <style>\n",
              "    .colab-df-container {\n",
              "      display:flex;\n",
              "      flex-wrap:wrap;\n",
              "      gap: 12px;\n",
              "    }\n",
              "\n",
              "    .colab-df-convert {\n",
              "      background-color: #E8F0FE;\n",
              "      border: none;\n",
              "      border-radius: 50%;\n",
              "      cursor: pointer;\n",
              "      display: none;\n",
              "      fill: #1967D2;\n",
              "      height: 32px;\n",
              "      padding: 0 0 0 0;\n",
              "      width: 32px;\n",
              "    }\n",
              "\n",
              "    .colab-df-convert:hover {\n",
              "      background-color: #E2EBFA;\n",
              "      box-shadow: 0px 1px 2px rgba(60, 64, 67, 0.3), 0px 1px 3px 1px rgba(60, 64, 67, 0.15);\n",
              "      fill: #174EA6;\n",
              "    }\n",
              "\n",
              "    [theme=dark] .colab-df-convert {\n",
              "      background-color: #3B4455;\n",
              "      fill: #D2E3FC;\n",
              "    }\n",
              "\n",
              "    [theme=dark] .colab-df-convert:hover {\n",
              "      background-color: #434B5C;\n",
              "      box-shadow: 0px 1px 3px 1px rgba(0, 0, 0, 0.15);\n",
              "      filter: drop-shadow(0px 1px 2px rgba(0, 0, 0, 0.3));\n",
              "      fill: #FFFFFF;\n",
              "    }\n",
              "  </style>\n",
              "\n",
              "      <script>\n",
              "        const buttonEl =\n",
              "          document.querySelector('#df-35b828cf-6ddd-4430-95b8-68b837851e46 button.colab-df-convert');\n",
              "        buttonEl.style.display =\n",
              "          google.colab.kernel.accessAllowed ? 'block' : 'none';\n",
              "\n",
              "        async function convertToInteractive(key) {\n",
              "          const element = document.querySelector('#df-35b828cf-6ddd-4430-95b8-68b837851e46');\n",
              "          const dataTable =\n",
              "            await google.colab.kernel.invokeFunction('convertToInteractive',\n",
              "                                                     [key], {});\n",
              "          if (!dataTable) return;\n",
              "\n",
              "          const docLinkHtml = 'Like what you see? Visit the ' +\n",
              "            '<a target=\"_blank\" href=https://colab.research.google.com/notebooks/data_table.ipynb>data table notebook</a>'\n",
              "            + ' to learn more about interactive tables.';\n",
              "          element.innerHTML = '';\n",
              "          dataTable['output_type'] = 'display_data';\n",
              "          await google.colab.output.renderOutput(dataTable, element);\n",
              "          const docLink = document.createElement('div');\n",
              "          docLink.innerHTML = docLinkHtml;\n",
              "          element.appendChild(docLink);\n",
              "        }\n",
              "      </script>\n",
              "    </div>\n",
              "  </div>\n",
              "  "
            ],
            "text/plain": [
              "genre                      Action  Adventure  Black Comedy  Comedy  \\\n",
              "distributor                                                          \n",
              "20th Century Fox                7         18             0      17   \n",
              "A24                             0          0             0       2   \n",
              "AFFRM                           0          0             0       0   \n",
              "ARC Entertainment               1          0             0       0   \n",
              "Alchemy                         0          0             1       1   \n",
              "...                           ...        ...           ...     ...   \n",
              "Weinstein Co.                   1          4             1       7   \n",
              "Weinstein/Dimension             0          1             0       0   \n",
              "Well Go USA                     0          0             0       0   \n",
              "Wrekin Hill Entertainment       0          0             0       1   \n",
              "Yash Raj Films                  0          0             0       0   \n",
              "\n",
              "genre                      Concert/Performance  Documentary  Drama  Horror  \\\n",
              "distributor                                                                  \n",
              "20th Century Fox                             1            0     12       3   \n",
              "A24                                          0            0      1       1   \n",
              "AFFRM                                        0            0      1       0   \n",
              "ARC Entertainment                            0            0      0       0   \n",
              "Alchemy                                      0            0      3       0   \n",
              "...                                        ...          ...    ...     ...   \n",
              "Weinstein Co.                                0            0     18       0   \n",
              "Weinstein/Dimension                          0            0      0       1   \n",
              "Well Go USA                                  0            0      1       0   \n",
              "Wrekin Hill Entertainment                    0            0      1       0   \n",
              "Yash Raj Films                               0            0      1       0   \n",
              "\n",
              "genre                      Musical  Romantic Comedy  Thriller/Suspense  \\\n",
              "distributor                                                              \n",
              "20th Century Fox                 1                3                 11   \n",
              "A24                              0                1                  3   \n",
              "AFFRM                            0                0                  0   \n",
              "ARC Entertainment                0                0                  0   \n",
              "Alchemy                          0                0                  1   \n",
              "...                            ...              ...                ...   \n",
              "Weinstein Co.                    0                0                  4   \n",
              "Weinstein/Dimension              0                0                  0   \n",
              "Well Go USA                      0                0                  0   \n",
              "Wrekin Hill Entertainment        0                0                  0   \n",
              "Yash Raj Films                   0                0                  0   \n",
              "\n",
              "genre                      Western  \n",
              "distributor                         \n",
              "20th Century Fox                 0  \n",
              "A24                              0  \n",
              "AFFRM                            0  \n",
              "ARC Entertainment                0  \n",
              "Alchemy                          0  \n",
              "...                            ...  \n",
              "Weinstein Co.                    2  \n",
              "Weinstein/Dimension              0  \n",
              "Well Go USA                      0  \n",
              "Wrekin Hill Entertainment        0  \n",
              "Yash Raj Films                   0  \n",
              "\n",
              "[101 rows x 12 columns]"
            ]
          },
          "execution_count": 212,
          "metadata": {},
          "output_type": "execute_result"
        }
      ],
      "source": [
        "movies.pivot_table(index='distributor', columns='genre', values='box_dom', aggfunc='count', fill_value=0)"
      ]
    },
    {
      "attachments": {},
      "cell_type": "markdown",
      "metadata": {
        "id": "Ck_HwpDaFUvT"
      },
      "source": [
        "## Manipulación de tablas"
      ]
    },
    {
      "attachments": {},
      "cell_type": "markdown",
      "metadata": {
        "id": "AbO4XDjaFXfq"
      },
      "source": [
        "### Creación de una nueva columna"
      ]
    },
    {
      "cell_type": "code",
      "execution_count": 213,
      "metadata": {
        "colab": {
          "base_uri": "https://localhost:8080/",
          "height": 644
        },
        "id": "p_EvnN_ln_98",
        "outputId": "2929f12b-b3dd-4b06-91d1-e8bf2e4ad054"
      },
      "outputs": [
        {
          "data": {
            "text/html": [
              "\n",
              "  <div id=\"df-daf766d4-0055-4e39-9907-70e5455f289d\">\n",
              "    <div class=\"colab-df-container\">\n",
              "      <div>\n",
              "<style scoped>\n",
              "    .dataframe tbody tr th:only-of-type {\n",
              "        vertical-align: middle;\n",
              "    }\n",
              "\n",
              "    .dataframe tbody tr th {\n",
              "        vertical-align: top;\n",
              "    }\n",
              "\n",
              "    .dataframe thead th {\n",
              "        text-align: right;\n",
              "    }\n",
              "</style>\n",
              "<table border=\"1\" class=\"dataframe\">\n",
              "  <thead>\n",
              "    <tr style=\"text-align: right;\">\n",
              "      <th></th>\n",
              "      <th>movie</th>\n",
              "      <th>budget</th>\n",
              "      <th>box_dom</th>\n",
              "      <th>box_world</th>\n",
              "      <th>distributor</th>\n",
              "      <th>genre</th>\n",
              "      <th>mpaa</th>\n",
              "      <th>month</th>\n",
              "      <th>day</th>\n",
              "      <th>year</th>\n",
              "      <th>box_total</th>\n",
              "      <th>profit</th>\n",
              "    </tr>\n",
              "  </thead>\n",
              "  <tbody>\n",
              "    <tr>\n",
              "      <th>0</th>\n",
              "      <td>The Legend of Hercules</td>\n",
              "      <td>70.0</td>\n",
              "      <td>18.848538</td>\n",
              "      <td>61.402445</td>\n",
              "      <td>Lionsgate</td>\n",
              "      <td>Adventure</td>\n",
              "      <td>PG-13</td>\n",
              "      <td>1</td>\n",
              "      <td>10</td>\n",
              "      <td>2014</td>\n",
              "      <td>80.250983</td>\n",
              "      <td>10.250983</td>\n",
              "    </tr>\n",
              "    <tr>\n",
              "      <th>1</th>\n",
              "      <td>Gangster Squad</td>\n",
              "      <td>60.0</td>\n",
              "      <td>46.000903</td>\n",
              "      <td>104.100903</td>\n",
              "      <td>Warner Bros.</td>\n",
              "      <td>Drama</td>\n",
              "      <td>R</td>\n",
              "      <td>1</td>\n",
              "      <td>11</td>\n",
              "      <td>2013</td>\n",
              "      <td>150.101806</td>\n",
              "      <td>90.101806</td>\n",
              "    </tr>\n",
              "    <tr>\n",
              "      <th>2</th>\n",
              "      <td>Quartet</td>\n",
              "      <td>11.0</td>\n",
              "      <td>18.388357</td>\n",
              "      <td>56.178935</td>\n",
              "      <td>Weinstein Co.</td>\n",
              "      <td>Comedy</td>\n",
              "      <td>PG-13</td>\n",
              "      <td>1</td>\n",
              "      <td>11</td>\n",
              "      <td>2013</td>\n",
              "      <td>74.567292</td>\n",
              "      <td>63.567292</td>\n",
              "    </tr>\n",
              "    <tr>\n",
              "      <th>3</th>\n",
              "      <td>A Haunted House</td>\n",
              "      <td>2.5</td>\n",
              "      <td>40.041683</td>\n",
              "      <td>59.922558</td>\n",
              "      <td>Open Road</td>\n",
              "      <td>Comedy</td>\n",
              "      <td>R</td>\n",
              "      <td>1</td>\n",
              "      <td>11</td>\n",
              "      <td>2013</td>\n",
              "      <td>99.964241</td>\n",
              "      <td>97.464241</td>\n",
              "    </tr>\n",
              "    <tr>\n",
              "      <th>4</th>\n",
              "      <td>Contraband</td>\n",
              "      <td>25.0</td>\n",
              "      <td>66.528000</td>\n",
              "      <td>98.406855</td>\n",
              "      <td>Universal</td>\n",
              "      <td>Action</td>\n",
              "      <td>R</td>\n",
              "      <td>1</td>\n",
              "      <td>13</td>\n",
              "      <td>2012</td>\n",
              "      <td>164.934855</td>\n",
              "      <td>139.934855</td>\n",
              "    </tr>\n",
              "    <tr>\n",
              "      <th>...</th>\n",
              "      <td>...</td>\n",
              "      <td>...</td>\n",
              "      <td>...</td>\n",
              "      <td>...</td>\n",
              "      <td>...</td>\n",
              "      <td>...</td>\n",
              "      <td>...</td>\n",
              "      <td>...</td>\n",
              "      <td>...</td>\n",
              "      <td>...</td>\n",
              "      <td>...</td>\n",
              "      <td>...</td>\n",
              "    </tr>\n",
              "    <tr>\n",
              "      <th>868</th>\n",
              "      <td>Bucky Larson: Born to Be a Star</td>\n",
              "      <td>10.0</td>\n",
              "      <td>2.529395</td>\n",
              "      <td>2.529395</td>\n",
              "      <td>Sony Pictures</td>\n",
              "      <td>Comedy</td>\n",
              "      <td>R</td>\n",
              "      <td>9</td>\n",
              "      <td>9</td>\n",
              "      <td>2011</td>\n",
              "      <td>5.058790</td>\n",
              "      <td>-4.941210</td>\n",
              "    </tr>\n",
              "    <tr>\n",
              "      <th>869</th>\n",
              "      <td>Creature</td>\n",
              "      <td>3.0</td>\n",
              "      <td>0.327000</td>\n",
              "      <td>0.327000</td>\n",
              "      <td>The Bubble Factory</td>\n",
              "      <td>Horror</td>\n",
              "      <td>R</td>\n",
              "      <td>9</td>\n",
              "      <td>9</td>\n",
              "      <td>2011</td>\n",
              "      <td>0.654000</td>\n",
              "      <td>-2.346000</td>\n",
              "    </tr>\n",
              "    <tr>\n",
              "      <th>870</th>\n",
              "      <td>Tanner Hall</td>\n",
              "      <td>3.0</td>\n",
              "      <td>0.005073</td>\n",
              "      <td>0.005073</td>\n",
              "      <td>Anchor Bay Entertainment</td>\n",
              "      <td>Drama</td>\n",
              "      <td>R</td>\n",
              "      <td>9</td>\n",
              "      <td>9</td>\n",
              "      <td>2011</td>\n",
              "      <td>0.010146</td>\n",
              "      <td>-2.989854</td>\n",
              "    </tr>\n",
              "    <tr>\n",
              "      <th>871</th>\n",
              "      <td>Warrior</td>\n",
              "      <td>25.0</td>\n",
              "      <td>13.657115</td>\n",
              "      <td>24.215385</td>\n",
              "      <td>Lionsgate</td>\n",
              "      <td>Drama</td>\n",
              "      <td>PG-13</td>\n",
              "      <td>9</td>\n",
              "      <td>9</td>\n",
              "      <td>2011</td>\n",
              "      <td>37.872500</td>\n",
              "      <td>12.872500</td>\n",
              "    </tr>\n",
              "    <tr>\n",
              "      <th>872</th>\n",
              "      <td>Contagion</td>\n",
              "      <td>60.0</td>\n",
              "      <td>75.658097</td>\n",
              "      <td>137.551594</td>\n",
              "      <td>Warner Bros.</td>\n",
              "      <td>Thriller/Suspense</td>\n",
              "      <td>PG-13</td>\n",
              "      <td>9</td>\n",
              "      <td>9</td>\n",
              "      <td>2011</td>\n",
              "      <td>213.209691</td>\n",
              "      <td>153.209691</td>\n",
              "    </tr>\n",
              "  </tbody>\n",
              "</table>\n",
              "<p>873 rows × 12 columns</p>\n",
              "</div>\n",
              "      <button class=\"colab-df-convert\" onclick=\"convertToInteractive('df-daf766d4-0055-4e39-9907-70e5455f289d')\"\n",
              "              title=\"Convert this dataframe to an interactive table.\"\n",
              "              style=\"display:none;\">\n",
              "        \n",
              "  <svg xmlns=\"http://www.w3.org/2000/svg\" height=\"24px\"viewBox=\"0 0 24 24\"\n",
              "       width=\"24px\">\n",
              "    <path d=\"M0 0h24v24H0V0z\" fill=\"none\"/>\n",
              "    <path d=\"M18.56 5.44l.94 2.06.94-2.06 2.06-.94-2.06-.94-.94-2.06-.94 2.06-2.06.94zm-11 1L8.5 8.5l.94-2.06 2.06-.94-2.06-.94L8.5 2.5l-.94 2.06-2.06.94zm10 10l.94 2.06.94-2.06 2.06-.94-2.06-.94-.94-2.06-.94 2.06-2.06.94z\"/><path d=\"M17.41 7.96l-1.37-1.37c-.4-.4-.92-.59-1.43-.59-.52 0-1.04.2-1.43.59L10.3 9.45l-7.72 7.72c-.78.78-.78 2.05 0 2.83L4 21.41c.39.39.9.59 1.41.59.51 0 1.02-.2 1.41-.59l7.78-7.78 2.81-2.81c.8-.78.8-2.07 0-2.86zM5.41 20L4 18.59l7.72-7.72 1.47 1.35L5.41 20z\"/>\n",
              "  </svg>\n",
              "      </button>\n",
              "      \n",
              "  <style>\n",
              "    .colab-df-container {\n",
              "      display:flex;\n",
              "      flex-wrap:wrap;\n",
              "      gap: 12px;\n",
              "    }\n",
              "\n",
              "    .colab-df-convert {\n",
              "      background-color: #E8F0FE;\n",
              "      border: none;\n",
              "      border-radius: 50%;\n",
              "      cursor: pointer;\n",
              "      display: none;\n",
              "      fill: #1967D2;\n",
              "      height: 32px;\n",
              "      padding: 0 0 0 0;\n",
              "      width: 32px;\n",
              "    }\n",
              "\n",
              "    .colab-df-convert:hover {\n",
              "      background-color: #E2EBFA;\n",
              "      box-shadow: 0px 1px 2px rgba(60, 64, 67, 0.3), 0px 1px 3px 1px rgba(60, 64, 67, 0.15);\n",
              "      fill: #174EA6;\n",
              "    }\n",
              "\n",
              "    [theme=dark] .colab-df-convert {\n",
              "      background-color: #3B4455;\n",
              "      fill: #D2E3FC;\n",
              "    }\n",
              "\n",
              "    [theme=dark] .colab-df-convert:hover {\n",
              "      background-color: #434B5C;\n",
              "      box-shadow: 0px 1px 3px 1px rgba(0, 0, 0, 0.15);\n",
              "      filter: drop-shadow(0px 1px 2px rgba(0, 0, 0, 0.3));\n",
              "      fill: #FFFFFF;\n",
              "    }\n",
              "  </style>\n",
              "\n",
              "      <script>\n",
              "        const buttonEl =\n",
              "          document.querySelector('#df-daf766d4-0055-4e39-9907-70e5455f289d button.colab-df-convert');\n",
              "        buttonEl.style.display =\n",
              "          google.colab.kernel.accessAllowed ? 'block' : 'none';\n",
              "\n",
              "        async function convertToInteractive(key) {\n",
              "          const element = document.querySelector('#df-daf766d4-0055-4e39-9907-70e5455f289d');\n",
              "          const dataTable =\n",
              "            await google.colab.kernel.invokeFunction('convertToInteractive',\n",
              "                                                     [key], {});\n",
              "          if (!dataTable) return;\n",
              "\n",
              "          const docLinkHtml = 'Like what you see? Visit the ' +\n",
              "            '<a target=\"_blank\" href=https://colab.research.google.com/notebooks/data_table.ipynb>data table notebook</a>'\n",
              "            + ' to learn more about interactive tables.';\n",
              "          element.innerHTML = '';\n",
              "          dataTable['output_type'] = 'display_data';\n",
              "          await google.colab.output.renderOutput(dataTable, element);\n",
              "          const docLink = document.createElement('div');\n",
              "          docLink.innerHTML = docLinkHtml;\n",
              "          element.appendChild(docLink);\n",
              "        }\n",
              "      </script>\n",
              "    </div>\n",
              "  </div>\n",
              "  "
            ],
            "text/plain": [
              "                               movie  budget    box_dom   box_world  \\\n",
              "0             The Legend of Hercules    70.0  18.848538   61.402445   \n",
              "1                     Gangster Squad    60.0  46.000903  104.100903   \n",
              "2                            Quartet    11.0  18.388357   56.178935   \n",
              "3                    A Haunted House     2.5  40.041683   59.922558   \n",
              "4                         Contraband    25.0  66.528000   98.406855   \n",
              "..                               ...     ...        ...         ...   \n",
              "868  Bucky Larson: Born to Be a Star    10.0   2.529395    2.529395   \n",
              "869                         Creature     3.0   0.327000    0.327000   \n",
              "870                      Tanner Hall     3.0   0.005073    0.005073   \n",
              "871                          Warrior    25.0  13.657115   24.215385   \n",
              "872                        Contagion    60.0  75.658097  137.551594   \n",
              "\n",
              "                  distributor              genre   mpaa  month  day  year  \\\n",
              "0                   Lionsgate          Adventure  PG-13      1   10  2014   \n",
              "1                Warner Bros.              Drama      R      1   11  2013   \n",
              "2               Weinstein Co.             Comedy  PG-13      1   11  2013   \n",
              "3                   Open Road             Comedy      R      1   11  2013   \n",
              "4                   Universal             Action      R      1   13  2012   \n",
              "..                        ...                ...    ...    ...  ...   ...   \n",
              "868             Sony Pictures             Comedy      R      9    9  2011   \n",
              "869        The Bubble Factory             Horror      R      9    9  2011   \n",
              "870  Anchor Bay Entertainment              Drama      R      9    9  2011   \n",
              "871                 Lionsgate              Drama  PG-13      9    9  2011   \n",
              "872              Warner Bros.  Thriller/Suspense  PG-13      9    9  2011   \n",
              "\n",
              "      box_total      profit  \n",
              "0     80.250983   10.250983  \n",
              "1    150.101806   90.101806  \n",
              "2     74.567292   63.567292  \n",
              "3     99.964241   97.464241  \n",
              "4    164.934855  139.934855  \n",
              "..          ...         ...  \n",
              "868    5.058790   -4.941210  \n",
              "869    0.654000   -2.346000  \n",
              "870    0.010146   -2.989854  \n",
              "871   37.872500   12.872500  \n",
              "872  213.209691  153.209691  \n",
              "\n",
              "[873 rows x 12 columns]"
            ]
          },
          "execution_count": 213,
          "metadata": {},
          "output_type": "execute_result"
        }
      ],
      "source": [
        "movies[\"box_total\"] = movies[\"box_dom\"] + movies[\"box_world\"]\n",
        "movies[\"profit\"] = movies[\"box_total\"] - movies[\"budget\"]\n",
        "movies"
      ]
    },
    {
      "cell_type": "code",
      "execution_count": 214,
      "metadata": {
        "colab": {
          "base_uri": "https://localhost:8080/",
          "height": 297
        },
        "id": "rEtKoG8Go3Lt",
        "outputId": "c37c1fd8-26d6-437c-b947-71b9858dcf61"
      },
      "outputs": [
        {
          "data": {
            "text/plain": [
              "<AxesSubplot:xlabel='profit', ylabel='genre'>"
            ]
          },
          "execution_count": 214,
          "metadata": {},
          "output_type": "execute_result"
        },
        {
          "data": {
            "image/png": "[encoded data removed]",
            "text/plain": [
              "<Figure size 432x288 with 1 Axes>"
            ]
          },
          "metadata": {
            "needs_background": "light"
          },
          "output_type": "display_data"
        }
      ],
      "source": [
        "sns.boxplot(data=movies, x='profit', y='genre', orient='h')"
      ]
    },
    {
      "attachments": {},
      "cell_type": "markdown",
      "metadata": {
        "id": "zigIHxIdFZuM"
      },
      "source": [
        "### Filtrado"
      ]
    },
    {
      "cell_type": "code",
      "execution_count": 215,
      "metadata": {
        "colab": {
          "base_uri": "https://localhost:8080/",
          "height": 694
        },
        "id": "CxLWgQfLJ9pf",
        "outputId": "b29c2456-9b6a-4be6-a1c4-80ace008a865"
      },
      "outputs": [
        {
          "data": {
            "text/html": [
              "\n",
              "  <div id=\"df-cfa76e81-d95f-4567-8fa1-33958049220a\">\n",
              "    <div class=\"colab-df-container\">\n",
              "      <div>\n",
              "<style scoped>\n",
              "    .dataframe tbody tr th:only-of-type {\n",
              "        vertical-align: middle;\n",
              "    }\n",
              "\n",
              "    .dataframe tbody tr th {\n",
              "        vertical-align: top;\n",
              "    }\n",
              "\n",
              "    .dataframe thead th {\n",
              "        text-align: right;\n",
              "    }\n",
              "</style>\n",
              "<table border=\"1\" class=\"dataframe\">\n",
              "  <thead>\n",
              "    <tr style=\"text-align: right;\">\n",
              "      <th></th>\n",
              "      <th>movie</th>\n",
              "      <th>budget</th>\n",
              "      <th>box_dom</th>\n",
              "      <th>box_world</th>\n",
              "      <th>distributor</th>\n",
              "      <th>genre</th>\n",
              "      <th>mpaa</th>\n",
              "      <th>month</th>\n",
              "      <th>day</th>\n",
              "      <th>year</th>\n",
              "      <th>box_total</th>\n",
              "      <th>profit</th>\n",
              "    </tr>\n",
              "  </thead>\n",
              "  <tbody>\n",
              "    <tr>\n",
              "      <th>7</th>\n",
              "      <td>The Divide</td>\n",
              "      <td>3.0</td>\n",
              "      <td>0.018000</td>\n",
              "      <td>0.138274</td>\n",
              "      <td>Anchor Bay Entertainment</td>\n",
              "      <td>Thriller/Suspense</td>\n",
              "      <td>R</td>\n",
              "      <td>1</td>\n",
              "      <td>13</td>\n",
              "      <td>2012</td>\n",
              "      <td>0.156274</td>\n",
              "      <td>-2.843726</td>\n",
              "    </tr>\n",
              "    <tr>\n",
              "      <th>9</th>\n",
              "      <td>Down for Life</td>\n",
              "      <td>3.8</td>\n",
              "      <td>0.041914</td>\n",
              "      <td>0.041914</td>\n",
              "      <td>B.D. Fox Independent</td>\n",
              "      <td>Drama</td>\n",
              "      <td>R</td>\n",
              "      <td>1</td>\n",
              "      <td>14</td>\n",
              "      <td>2011</td>\n",
              "      <td>0.083828</td>\n",
              "      <td>-3.716172</td>\n",
              "    </tr>\n",
              "    <tr>\n",
              "      <th>12</th>\n",
              "      <td>Blackhat</td>\n",
              "      <td>70.0</td>\n",
              "      <td>7.889395</td>\n",
              "      <td>19.535476</td>\n",
              "      <td>Universal</td>\n",
              "      <td>Thriller/Suspense</td>\n",
              "      <td>R</td>\n",
              "      <td>1</td>\n",
              "      <td>16</td>\n",
              "      <td>2015</td>\n",
              "      <td>27.424871</td>\n",
              "      <td>-42.575129</td>\n",
              "    </tr>\n",
              "    <tr>\n",
              "      <th>26</th>\n",
              "      <td>R100</td>\n",
              "      <td>5.5</td>\n",
              "      <td>0.024956</td>\n",
              "      <td>0.024956</td>\n",
              "      <td>Drafthouse Films</td>\n",
              "      <td>Black Comedy</td>\n",
              "      <td>Not Rated</td>\n",
              "      <td>1</td>\n",
              "      <td>23</td>\n",
              "      <td>2015</td>\n",
              "      <td>0.049912</td>\n",
              "      <td>-5.450088</td>\n",
              "    </tr>\n",
              "    <tr>\n",
              "      <th>27</th>\n",
              "      <td>Song One</td>\n",
              "      <td>6.0</td>\n",
              "      <td>0.032251</td>\n",
              "      <td>0.032251</td>\n",
              "      <td>Cinedigm/Film Arcade</td>\n",
              "      <td>Drama</td>\n",
              "      <td>PG-13</td>\n",
              "      <td>1</td>\n",
              "      <td>23</td>\n",
              "      <td>2015</td>\n",
              "      <td>0.064502</td>\n",
              "      <td>-5.935498</td>\n",
              "    </tr>\n",
              "    <tr>\n",
              "      <th>...</th>\n",
              "      <td>...</td>\n",
              "      <td>...</td>\n",
              "      <td>...</td>\n",
              "      <td>...</td>\n",
              "      <td>...</td>\n",
              "      <td>...</td>\n",
              "      <td>...</td>\n",
              "      <td>...</td>\n",
              "      <td>...</td>\n",
              "      <td>...</td>\n",
              "      <td>...</td>\n",
              "      <td>...</td>\n",
              "    </tr>\n",
              "    <tr>\n",
              "      <th>860</th>\n",
              "      <td>Thunder and the House of Magic</td>\n",
              "      <td>34.0</td>\n",
              "      <td>0.004091</td>\n",
              "      <td>10.391684</td>\n",
              "      <td>Shout! Factory</td>\n",
              "      <td>Adventure</td>\n",
              "      <td>Not Rated</td>\n",
              "      <td>9</td>\n",
              "      <td>5</td>\n",
              "      <td>2014</td>\n",
              "      <td>10.395775</td>\n",
              "      <td>-23.604225</td>\n",
              "    </tr>\n",
              "    <tr>\n",
              "      <th>862</th>\n",
              "      <td>Winnie Mandela</td>\n",
              "      <td>15.0</td>\n",
              "      <td>0.061847</td>\n",
              "      <td>0.061847</td>\n",
              "      <td>Image Entertainment</td>\n",
              "      <td>Drama</td>\n",
              "      <td>R</td>\n",
              "      <td>9</td>\n",
              "      <td>6</td>\n",
              "      <td>2013</td>\n",
              "      <td>0.123694</td>\n",
              "      <td>-14.876306</td>\n",
              "    </tr>\n",
              "    <tr>\n",
              "      <th>868</th>\n",
              "      <td>Bucky Larson: Born to Be a Star</td>\n",
              "      <td>10.0</td>\n",
              "      <td>2.529395</td>\n",
              "      <td>2.529395</td>\n",
              "      <td>Sony Pictures</td>\n",
              "      <td>Comedy</td>\n",
              "      <td>R</td>\n",
              "      <td>9</td>\n",
              "      <td>9</td>\n",
              "      <td>2011</td>\n",
              "      <td>5.058790</td>\n",
              "      <td>-4.941210</td>\n",
              "    </tr>\n",
              "    <tr>\n",
              "      <th>869</th>\n",
              "      <td>Creature</td>\n",
              "      <td>3.0</td>\n",
              "      <td>0.327000</td>\n",
              "      <td>0.327000</td>\n",
              "      <td>The Bubble Factory</td>\n",
              "      <td>Horror</td>\n",
              "      <td>R</td>\n",
              "      <td>9</td>\n",
              "      <td>9</td>\n",
              "      <td>2011</td>\n",
              "      <td>0.654000</td>\n",
              "      <td>-2.346000</td>\n",
              "    </tr>\n",
              "    <tr>\n",
              "      <th>870</th>\n",
              "      <td>Tanner Hall</td>\n",
              "      <td>3.0</td>\n",
              "      <td>0.005073</td>\n",
              "      <td>0.005073</td>\n",
              "      <td>Anchor Bay Entertainment</td>\n",
              "      <td>Drama</td>\n",
              "      <td>R</td>\n",
              "      <td>9</td>\n",
              "      <td>9</td>\n",
              "      <td>2011</td>\n",
              "      <td>0.010146</td>\n",
              "      <td>-2.989854</td>\n",
              "    </tr>\n",
              "  </tbody>\n",
              "</table>\n",
              "<p>179 rows × 12 columns</p>\n",
              "</div>\n",
              "      <button class=\"colab-df-convert\" onclick=\"convertToInteractive('df-cfa76e81-d95f-4567-8fa1-33958049220a')\"\n",
              "              title=\"Convert this dataframe to an interactive table.\"\n",
              "              style=\"display:none;\">\n",
              "        \n",
              "  <svg xmlns=\"http://www.w3.org/2000/svg\" height=\"24px\"viewBox=\"0 0 24 24\"\n",
              "       width=\"24px\">\n",
              "    <path d=\"M0 0h24v24H0V0z\" fill=\"none\"/>\n",
              "    <path d=\"M18.56 5.44l.94 2.06.94-2.06 2.06-.94-2.06-.94-.94-2.06-.94 2.06-2.06.94zm-11 1L8.5 8.5l.94-2.06 2.06-.94-2.06-.94L8.5 2.5l-.94 2.06-2.06.94zm10 10l.94 2.06.94-2.06 2.06-.94-2.06-.94-.94-2.06-.94 2.06-2.06.94z\"/><path d=\"M17.41 7.96l-1.37-1.37c-.4-.4-.92-.59-1.43-.59-.52 0-1.04.2-1.43.59L10.3 9.45l-7.72 7.72c-.78.78-.78 2.05 0 2.83L4 21.41c.39.39.9.59 1.41.59.51 0 1.02-.2 1.41-.59l7.78-7.78 2.81-2.81c.8-.78.8-2.07 0-2.86zM5.41 20L4 18.59l7.72-7.72 1.47 1.35L5.41 20z\"/>\n",
              "  </svg>\n",
              "      </button>\n",
              "      \n",
              "  <style>\n",
              "    .colab-df-container {\n",
              "      display:flex;\n",
              "      flex-wrap:wrap;\n",
              "      gap: 12px;\n",
              "    }\n",
              "\n",
              "    .colab-df-convert {\n",
              "      background-color: #E8F0FE;\n",
              "      border: none;\n",
              "      border-radius: 50%;\n",
              "      cursor: pointer;\n",
              "      display: none;\n",
              "      fill: #1967D2;\n",
              "      height: 32px;\n",
              "      padding: 0 0 0 0;\n",
              "      width: 32px;\n",
              "    }\n",
              "\n",
              "    .colab-df-convert:hover {\n",
              "      background-color: #E2EBFA;\n",
              "      box-shadow: 0px 1px 2px rgba(60, 64, 67, 0.3), 0px 1px 3px 1px rgba(60, 64, 67, 0.15);\n",
              "      fill: #174EA6;\n",
              "    }\n",
              "\n",
              "    [theme=dark] .colab-df-convert {\n",
              "      background-color: #3B4455;\n",
              "      fill: #D2E3FC;\n",
              "    }\n",
              "\n",
              "    [theme=dark] .colab-df-convert:hover {\n",
              "      background-color: #434B5C;\n",
              "      box-shadow: 0px 1px 3px 1px rgba(0, 0, 0, 0.15);\n",
              "      filter: drop-shadow(0px 1px 2px rgba(0, 0, 0, 0.3));\n",
              "      fill: #FFFFFF;\n",
              "    }\n",
              "  </style>\n",
              "\n",
              "      <script>\n",
              "        const buttonEl =\n",
              "          document.querySelector('#df-cfa76e81-d95f-4567-8fa1-33958049220a button.colab-df-convert');\n",
              "        buttonEl.style.display =\n",
              "          google.colab.kernel.accessAllowed ? 'block' : 'none';\n",
              "\n",
              "        async function convertToInteractive(key) {\n",
              "          const element = document.querySelector('#df-cfa76e81-d95f-4567-8fa1-33958049220a');\n",
              "          const dataTable =\n",
              "            await google.colab.kernel.invokeFunction('convertToInteractive',\n",
              "                                                     [key], {});\n",
              "          if (!dataTable) return;\n",
              "\n",
              "          const docLinkHtml = 'Like what you see? Visit the ' +\n",
              "            '<a target=\"_blank\" href=https://colab.research.google.com/notebooks/data_table.ipynb>data table notebook</a>'\n",
              "            + ' to learn more about interactive tables.';\n",
              "          element.innerHTML = '';\n",
              "          dataTable['output_type'] = 'display_data';\n",
              "          await google.colab.output.renderOutput(dataTable, element);\n",
              "          const docLink = document.createElement('div');\n",
              "          docLink.innerHTML = docLinkHtml;\n",
              "          element.appendChild(docLink);\n",
              "        }\n",
              "      </script>\n",
              "    </div>\n",
              "  </div>\n",
              "  "
            ],
            "text/plain": [
              "                               movie  budget   box_dom  box_world  \\\n",
              "7                         The Divide     3.0  0.018000   0.138274   \n",
              "9                      Down for Life     3.8  0.041914   0.041914   \n",
              "12                          Blackhat    70.0  7.889395  19.535476   \n",
              "26                              R100     5.5  0.024956   0.024956   \n",
              "27                          Song One     6.0  0.032251   0.032251   \n",
              "..                               ...     ...       ...        ...   \n",
              "860   Thunder and the House of Magic    34.0  0.004091  10.391684   \n",
              "862                   Winnie Mandela    15.0  0.061847   0.061847   \n",
              "868  Bucky Larson: Born to Be a Star    10.0  2.529395   2.529395   \n",
              "869                         Creature     3.0  0.327000   0.327000   \n",
              "870                      Tanner Hall     3.0  0.005073   0.005073   \n",
              "\n",
              "                  distributor              genre       mpaa  month  day  year  \\\n",
              "7    Anchor Bay Entertainment  Thriller/Suspense          R      1   13  2012   \n",
              "9        B.D. Fox Independent              Drama          R      1   14  2011   \n",
              "12                  Universal  Thriller/Suspense          R      1   16  2015   \n",
              "26           Drafthouse Films       Black Comedy  Not Rated      1   23  2015   \n",
              "27       Cinedigm/Film Arcade              Drama      PG-13      1   23  2015   \n",
              "..                        ...                ...        ...    ...  ...   ...   \n",
              "860            Shout! Factory          Adventure  Not Rated      9    5  2014   \n",
              "862       Image Entertainment              Drama          R      9    6  2013   \n",
              "868             Sony Pictures             Comedy          R      9    9  2011   \n",
              "869        The Bubble Factory             Horror          R      9    9  2011   \n",
              "870  Anchor Bay Entertainment              Drama          R      9    9  2011   \n",
              "\n",
              "     box_total     profit  \n",
              "7     0.156274  -2.843726  \n",
              "9     0.083828  -3.716172  \n",
              "12   27.424871 -42.575129  \n",
              "26    0.049912  -5.450088  \n",
              "27    0.064502  -5.935498  \n",
              "..         ...        ...  \n",
              "860  10.395775 -23.604225  \n",
              "862   0.123694 -14.876306  \n",
              "868   5.058790  -4.941210  \n",
              "869   0.654000  -2.346000  \n",
              "870   0.010146  -2.989854  \n",
              "\n",
              "[179 rows x 12 columns]"
            ]
          },
          "execution_count": 215,
          "metadata": {},
          "output_type": "execute_result"
        }
      ],
      "source": [
        "# Filtrar películas con ganancia negativa\n",
        "movies.loc[movies[\"profit\"] < 0]"
      ]
    },
    {
      "cell_type": "code",
      "execution_count": 216,
      "metadata": {
        "colab": {
          "base_uri": "https://localhost:8080/"
        },
        "id": "MllJMqnTpQlW",
        "outputId": "363d14d6-9ac6-4262-b17e-a226a11d58e9"
      },
      "outputs": [
        {
          "data": {
            "text/plain": [
              "genre\n",
              "Action                 10\n",
              "Adventure              10\n",
              "Black Comedy            5\n",
              "Comedy                 25\n",
              "Concert/Performance     1\n",
              "Documentary            16\n",
              "Drama                  72\n",
              "Horror                  7\n",
              "Musical                 2\n",
              "Romantic Comedy         4\n",
              "Thriller/Suspense      26\n",
              "Western                 1\n",
              "dtype: int64"
            ]
          },
          "execution_count": 216,
          "metadata": {},
          "output_type": "execute_result"
        }
      ],
      "source": [
        "# Hacer tablas de frecuencia con este filtro\n",
        "movies.loc[movies[\"profit\"] < 0].groupby(\"genre\").size()"
      ]
    },
    {
      "attachments": {},
      "cell_type": "markdown",
      "metadata": {
        "id": "mGEWKIyaFc6k"
      },
      "source": [
        "### Renombrar columnas"
      ]
    },
    {
      "attachments": {},
      "cell_type": "markdown",
      "metadata": {
        "id": "LnZL5v3sFf-P"
      },
      "source": [
        "### Discretizar una variables"
      ]
    },
    {
      "cell_type": "code",
      "execution_count": 217,
      "metadata": {
        "colab": {
          "base_uri": "https://localhost:8080/"
        },
        "id": "g5j7ttqPqD2i",
        "outputId": "fcd8cbbf-f9f7-4269-8893-90a813349b15"
      },
      "outputs": [
        {
          "data": {
            "text/plain": [
              "count     873.000000\n",
              "mean      156.172331\n",
              "std       276.778110\n",
              "min       -89.057484\n",
              "25%         3.248973\n",
              "50%        59.531361\n",
              "75%       171.738126\n",
              "max      2779.577030\n",
              "Name: profit, dtype: float64"
            ]
          },
          "execution_count": 217,
          "metadata": {},
          "output_type": "execute_result"
        }
      ],
      "source": [
        "movies[\"profit\"].describe()"
      ]
    },
    {
      "cell_type": "code",
      "execution_count": 218,
      "metadata": {
        "colab": {
          "base_uri": "https://localhost:8080/"
        },
        "id": "_gukUapjqfUL",
        "outputId": "c90dd14d-6627-469e-95a5-fb27f4030380"
      },
      "outputs": [
        {
          "data": {
            "text/plain": [
              "array([-100,    0,  100,  200,  300,  400,  500,  600,  700,  800,  900,\n",
              "       1000, 1100, 1200, 1300, 1400, 1500, 1600, 1700, 1800, 1900, 2000,\n",
              "       2100, 2200, 2300, 2400, 2500, 2600, 2700, 2800])"
            ]
          },
          "execution_count": 218,
          "metadata": {},
          "output_type": "execute_result"
        }
      ],
      "source": [
        "np.arange(-100, 2900, 100)"
      ]
    },
    {
      "cell_type": "code",
      "execution_count": 219,
      "metadata": {
        "id": "Hkxw80_-qzx7"
      },
      "outputs": [],
      "source": [
        "movies[\"profit_range\"] = pd.cut(movies[\"profit\"], bins=np.arange(-100, 2900, 100))"
      ]
    },
    {
      "cell_type": "code",
      "execution_count": 220,
      "metadata": {
        "colab": {
          "base_uri": "https://localhost:8080/"
        },
        "id": "CfsRZfRGrCUb",
        "outputId": "2a0a2117-8ee9-4f30-f563-03385aa218cd"
      },
      "outputs": [
        {
          "data": {
            "text/plain": [
              "profit_range\n",
              "(-100, 0]       179\n",
              "(0, 100]        366\n",
              "(100, 200]      133\n",
              "(200, 300]       65\n",
              "(300, 400]       34\n",
              "(400, 500]       20\n",
              "(500, 600]       18\n",
              "(600, 700]       11\n",
              "(700, 800]       14\n",
              "(800, 900]        8\n",
              "(900, 1000]       6\n",
              "(1000, 1100]      4\n",
              "(1100, 1200]      2\n",
              "(1200, 1300]      4\n",
              "(1300, 1400]      0\n",
              "(1400, 1500]      2\n",
              "(1500, 1600]      2\n",
              "(1600, 1700]      2\n",
              "(1700, 1800]      0\n",
              "(1800, 1900]      0\n",
              "(1900, 2000]      1\n",
              "(2000, 2100]      0\n",
              "(2100, 2200]      1\n",
              "(2200, 2300]      0\n",
              "(2300, 2400]      0\n",
              "(2400, 2500]      0\n",
              "(2500, 2600]      0\n",
              "(2600, 2700]      0\n",
              "(2700, 2800]      1\n",
              "dtype: int64"
            ]
          },
          "execution_count": 220,
          "metadata": {},
          "output_type": "execute_result"
        }
      ],
      "source": [
        "movies.groupby(\"profit_range\").size()"
      ]
    }
  ],
  "metadata": {
    "colab": {
      "authorship_tag": "ABX9TyPLU7kiDZC4zca2Vr3yyoLH",
      "include_colab_link": true,
      "provenance": [],
      "toc_visible": true
    },
    "kernelspec": {
      "display_name": "Python 3",
      "name": "python3"
    },
    "language_info": {
      "codemirror_mode": {
        "name": "ipython",
        "version": 3
      },
      "file_extension": ".py",
      "mimetype": "text/x-python",
      "name": "python",
      "nbconvert_exporter": "python",
      "pygments_lexer": "ipython3",
      "version": "3.11.4"
    }
  },
  "nbformat": 4,
  "nbformat_minor": 0
}
